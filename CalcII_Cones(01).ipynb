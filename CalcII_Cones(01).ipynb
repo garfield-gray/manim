{
 "cells": [
  {
   "cell_type": "code",
   "execution_count": 2,
   "id": "1eec7db8",
   "metadata": {},
   "outputs": [],
   "source": [
    "from manim import *\n",
    "from manim.opengl import *"
   ]
  },
  {
   "cell_type": "code",
   "execution_count": 10,
   "id": "4f8cf0b9",
   "metadata": {
    "scrolled": true
   },
   "outputs": [
    {
     "data": {
      "text/html": [
       "<pre style=\"white-space:pre;overflow-x:auto;line-height:normal;font-family:Menlo,'DejaVu Sans Mono',consolas,'Courier New',monospace\">Manim Community <span style=\"color: #008000; text-decoration-color: #008000\">v0.18.1</span>\n",
       "\n",
       "</pre>\n"
      ],
      "text/plain": [
       "Manim Community \u001b[32mv0.\u001b[0m\u001b[32m18.1\u001b[0m\n",
       "\n"
      ]
     },
     "metadata": {},
     "output_type": "display_data"
    },
    {
     "name": "stderr",
     "output_type": "stream",
     "text": [
      "                                                                                                                       \r"
     ]
    },
    {
     "data": {
      "text/html": [
       "<video src=\"media\\jupyter\\ourcones@2024-05-24@18-26-21.mp4\" controls autoplay loop style=\"max-width: 60%;\"  >\n",
       "      Your browser does not support the <code>video</code> element.\n",
       "    </video>"
      ],
      "text/plain": [
       "<IPython.core.display.Video object>"
      ]
     },
     "metadata": {},
     "output_type": "display_data"
    }
   ],
   "source": [
    "%%manim -qh --renderer=opengl -v warning --write_to_movie ourcones\n",
    "\n",
    "class ourcones(ThreeDScene):\n",
    "    def construct(self):\n",
    "        \n",
    "      #making the Axis\n",
    "      axes = ThreeDAxes()\n",
    "      x_label = axes.get_x_axis_label('x')\n",
    "      y_label = axes.get_y_axis_label('y').shift(UP * 1.8)\n",
    "      z_label = axes.get_z_axis_label('z')\n",
    "      \n",
    "      #making the arc\n",
    "      arc= ArcBetweenPoints(start=[0,0,1], end=[0.8,0,0.8], stroke_color=YELLOW)\n",
    "        \n",
    "      #text for the arc\n",
    "      text01 = Text(\"  \")\n",
    "      text02 = Text(\"  \").next_to(text01,RIGHT*2)\n",
    "      textphi = MathTex(r\"\\phi\", color=YELLOW).scale(0.8).next_to(text02,UP*4)\n",
    "        \n",
    "      #text for the cones\n",
    "      textcone01 =MathTex(r\"\\phi = \\tfrac{\\pi}{4}\")\n",
    "      textcone02 =MathTex(r\"\\phi = \\tfrac{\\pi}{12}\")\n",
    "      textcone03 =MathTex(r\"\\phi = \\tfrac{\\pi}{6}\")\n",
    "      textcone04 =MathTex(r\"\\phi = \\tfrac{\\pi}{3}\")\n",
    "      textcone01.to_corner(DL)\n",
    "      textcone02.to_corner(DL)\n",
    "      textcone03.to_corner(DL)\n",
    "      textcone04.to_corner(DL)\n",
    "        \n",
    "      #the cones\n",
    "      myCone01 =  OpenGLSurface(\n",
    "            lambda u, v: np.array([\n",
    "                u * np.tan(np.pi / 4) * np.cos(v),\n",
    "                u * np.tan(np.pi / 4) * np.sin(v),\n",
    "                u\n",
    "            ]),\n",
    "            u_range=[0, 10],\n",
    "            v_range=[0, 2 * np.pi],\n",
    "            checkerboard_colors=[BLUE, BLUE],\n",
    "            resolution=(1000, 1000),\n",
    "            color=BLUE\n",
    "      ).set_opacity(0.7)\n",
    "      myCone02 = OpenGLSurface(\n",
    "            lambda u, v: np.array([\n",
    "                u * np.tan(np.pi / 12) * np.cos(v),\n",
    "                u * np.tan(np.pi / 12) * np.sin(v),\n",
    "                u\n",
    "            ]),\n",
    "            u_range=[0, 10],\n",
    "            v_range=[0, 2 * np.pi],\n",
    "            checkerboard_colors=[BLUE, BLUE],\n",
    "            resolution=(1000, 1000),\n",
    "            color=BLUE\n",
    "      ).set_opacity(0.7)\n",
    "      myCone03 = OpenGLSurface(\n",
    "            lambda u, v: np.array([\n",
    "                u * np.tan(np.pi / 6) * np.cos(v),\n",
    "                u * np.tan(np.pi / 6) * np.sin(v),\n",
    "                u\n",
    "            ]),\n",
    "            u_range=[0, 10],\n",
    "            v_range=[0, 2 * np.pi],\n",
    "            checkerboard_colors=[BLUE, BLUE],\n",
    "            resolution=(1000, 1000),\n",
    "            color=BLUE\n",
    "      ).set_opacity(0.7)\n",
    "      myCone04 = OpenGLSurface(\n",
    "            lambda u, v: np.array([\n",
    "                u * np.tan(np.pi / 3) * np.cos(v),\n",
    "                u * np.tan(np.pi / 3) * np.sin(v),\n",
    "                u\n",
    "            ]),\n",
    "            u_range=[0, 10],\n",
    "            v_range=[0, 2 * np.pi],\n",
    "            checkerboard_colors=[BLUE, BLUE],\n",
    "            resolution=(1000, 1000),\n",
    "            color=BLUE\n",
    "      ).set_opacity(0.7)\n",
    "     \n",
    "\n",
    "      # surface_mesh = OpenGLSurfaceMesh(myCone01)\n",
    "      # self.play(Create(surface_mesh))\n",
    "\n",
    "\n",
    "      # axes anim\n",
    "      self.play(FadeIn(axes), FadeIn(x_label), FadeIn(y_label), FadeIn(z_label))\n",
    "\n",
    "      #animate the move of the camera to properly see the axes\n",
    "      self.move_camera(phi=90 * DEGREES, theta= 0 * DEGREES, zoom=1, run_time=3)\n",
    "\n",
    "\n",
    "      #adding the fisrt cone and showing the arc and phi\n",
    "      self.play(FadeIn(myCone01))\n",
    "      self.play(Create(arc))\n",
    "      self.add_fixed_in_frame_mobjects(textphi)\n",
    "      self.wait(2)\n",
    "      self.play(FadeOut(arc))\n",
    "      self.remove_fixed_in_frame_mobjects(textphi)\n",
    "      self.wait(2)\n",
    "      \n",
    "      #miving the camera to a good position and staring to rotate\n",
    "      self.move_camera(phi=75 * DEGREES, theta= 30 * DEGREES, zoom=1, run_time=3)\n",
    "      self.begin_ambient_camera_rotation(rate=0.3)\n",
    "      self.add_fixed_in_frame_mobjects(textcone01)\n",
    "      self.wait(5)\n",
    "      self.remove_fixed_in_frame_mobjects(textcone01)\n",
    "      #1-2\n",
    "      self.play(ReplacementTransform(myCone01, myCone02))\n",
    "      self.add_fixed_in_frame_mobjects(textcone02)\n",
    "      self.wait(5)\n",
    "      #2-3\n",
    "      self.remove_fixed_in_frame_mobjects(textcone02)\n",
    "      self.play(ReplacementTransform(myCone02, myCone03))\n",
    "      self.add_fixed_in_frame_mobjects(textcone03)\n",
    "      self.wait(5)\n",
    "      self.remove_fixed_in_frame_mobjects(textcone03)\n",
    "#       #3-1\n",
    "#       self.play(ReplacementTransform(myCone03, myCone01))\n",
    "#       self.add_fixed_in_frame_mobjects(textcone01)\n",
    "#       self.wait(5)\n",
    "#       self.remove_fixed_in_frame_mobjects(textcone01)\n",
    "#       #1-4\n",
    "      self.play(ReplacementTransform(myCone03, myCone04))\n",
    "      self.add_fixed_in_frame_mobjects(textcone04)\n",
    "      self.wait(5)\n",
    "      self.remove_fixed_in_frame_mobjects(textcone04)\n",
    "    \n",
    "        \n",
    "      \n",
    "      "
   ]
  }
 ],
 "metadata": {
  "kernelspec": {
   "display_name": "Python 3 (ipykernel)",
   "language": "python",
   "name": "python3"
  },
  "language_info": {
   "codemirror_mode": {
    "name": "ipython",
    "version": 3
   },
   "file_extension": ".py",
   "mimetype": "text/x-python",
   "name": "python",
   "nbconvert_exporter": "python",
   "pygments_lexer": "ipython3",
   "version": "3.10.9"
  }
 },
 "nbformat": 4,
 "nbformat_minor": 5
}
