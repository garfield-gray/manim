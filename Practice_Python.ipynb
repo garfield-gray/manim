{
  "nbformat": 4,
  "nbformat_minor": 0,
  "metadata": {
    "colab": {
      "name": "Practice_Python.ipynb",
      "provenance": [],
      "authorship_tag": "ABX9TyPLNU0G/dh6PEcy22yenaUC",
      "include_colab_link": true
    },
    "kernelspec": {
      "name": "python3",
      "display_name": "Python 3"
    },
    "language_info": {
      "name": "python"
    }
  },
  "cells": [
    {
      "cell_type": "markdown",
      "metadata": {
        "id": "view-in-github",
        "colab_type": "text"
      },
      "source": [
        "<a href=\"https://colab.research.google.com/github/garfield-gray/manim/blob/main/Practice_Python.ipynb\" target=\"_parent\"><img src=\"https://colab.research.google.com/assets/colab-badge.svg\" alt=\"Open In Colab\"/></a>"
      ]
    },
    {
      "cell_type": "markdown",
      "source": [
        "it sounds lame yeah but I must practice python "
      ],
      "metadata": {
        "id": "7G-IxeACTyqq"
      }
    },
    {
      "cell_type": "code",
      "source": [
        "import numpy as np\n",
        "import math"
      ],
      "metadata": {
        "id": "vikz1erCVHcC"
      },
      "execution_count": 1,
      "outputs": []
    },
    {
      "cell_type": "markdown",
      "source": [
        "# 1-Lists"
      ],
      "metadata": {
        "id": "QrA0lrJiT7ii"
      }
    },
    {
      "cell_type": "code",
      "source": [
        "#repetitive stuff\n",
        "\n",
        "#comprehention \n",
        "a = [np.sqrt(i) for i in range(8)]\n",
        "print(a)\n",
        "b = a[:] #it's the abuse of alicing =)\n",
        "c = [j**2 for j in a]\n",
        "print(c)\n",
        "print(np.ceil(c))\n",
        "print(np.round(c))"
      ],
      "metadata": {
        "colab": {
          "base_uri": "https://localhost:8080/"
        },
        "id": "qorzN6ZtUKHq",
        "outputId": "3291fe09-b634-4e5c-a9d1-26cf93d0e69b"
      },
      "execution_count": null,
      "outputs": [
        {
          "output_type": "stream",
          "name": "stdout",
          "text": [
            "[0.0, 1.0, 1.4142135623730951, 1.7320508075688772, 2.0, 2.23606797749979, 2.449489742783178, 2.6457513110645907]\n",
            "[0.0, 1.0, 2.0000000000000004, 2.9999999999999996, 4.0, 5.000000000000001, 5.999999999999999, 7.000000000000001]\n",
            "[0. 1. 3. 3. 4. 6. 6. 8.]\n",
            "[0. 1. 2. 3. 4. 5. 6. 7.]\n"
          ]
        }
      ]
    },
    {
      "cell_type": "code",
      "source": [
        "#slicing\n",
        "l = [i for i in range(17)]\n",
        "print(l)\n",
        "lm = l[0:15:2]\n",
        "print(lm)\n",
        "lmm = l[15:0:-2]\n",
        "print(lmm)\n",
        "\n",
        "\n",
        "#I beleive now you must've got it right know(i'm not sure about grammer here!)"
      ],
      "metadata": {
        "colab": {
          "base_uri": "https://localhost:8080/"
        },
        "id": "yACp4025VB6X",
        "outputId": "ad85493c-1ae0-40e0-d0dd-40657520f095"
      },
      "execution_count": null,
      "outputs": [
        {
          "output_type": "stream",
          "name": "stdout",
          "text": [
            "[0, 1, 2, 3, 4, 5, 6, 7, 8, 9, 10, 11, 12, 13, 14, 15, 16]\n",
            "[0, 2, 4, 6, 8, 10, 12, 14]\n",
            "[15, 13, 11, 9, 7, 5, 3, 1]\n"
          ]
        }
      ]
    },
    {
      "cell_type": "markdown",
      "source": [
        "# 2-Tuples"
      ],
      "metadata": {
        "id": "RmpZVhokXqoZ"
      }
    },
    {
      "cell_type": "code",
      "source": [
        "t = (1, 'alor', 6)\n",
        "print(t)"
      ],
      "metadata": {
        "colab": {
          "base_uri": "https://localhost:8080/"
        },
        "id": "YKKPpY4tJFpt",
        "outputId": "96521102-e15d-4117-8212-0a32ab49cf27"
      },
      "execution_count": null,
      "outputs": [
        {
          "output_type": "stream",
          "name": "stdout",
          "text": [
            "(1, 'alor', 6)\n"
          ]
        }
      ]
    },
    {
      "cell_type": "code",
      "source": [
        "tu = 1,4,'hi'\n",
        "print(tu)\n",
        "# note: parentheses are optional in python, now ypu get sth like \"a, b = f(blah blah)\" =))"
      ],
      "metadata": {
        "colab": {
          "base_uri": "https://localhost:8080/"
        },
        "id": "JWbpGn6wJM8x",
        "outputId": "cef50710-6f0c-4e38-a7ec-87f8fb20362c"
      },
      "execution_count": null,
      "outputs": [
        {
          "output_type": "stream",
          "name": "stdout",
          "text": [
            "(1, 4, 'hi')\n"
          ]
        }
      ]
    },
    {
      "cell_type": "code",
      "source": [
        "# slicing, indexing, if   in statement are mainly like what we had in the list"
      ],
      "metadata": {
        "id": "Xi4pBnndJUKk"
      },
      "execution_count": null,
      "outputs": []
    },
    {
      "cell_type": "code",
      "source": [
        "i1, i2, i3 = ('q', 'u', 'p')\n",
        "print(i1)"
      ],
      "metadata": {
        "colab": {
          "base_uri": "https://localhost:8080/"
        },
        "id": "9-wEpqOjJ_m1",
        "outputId": "78ffb197-9f7c-460c-f583-269934333780"
      },
      "execution_count": null,
      "outputs": [
        {
          "output_type": "stream",
          "name": "stdout",
          "text": [
            "q\n"
          ]
        }
      ]
    },
    {
      "cell_type": "code",
      "source": [
        "#Wow\n",
        "i1, *i2, i3 = ('q', 'u','k','r', 'p')\n",
        "print(i2)\n",
        "i1, i2, *i3 = ('q', 'u','k','r', 'p')\n",
        "print(i3)"
      ],
      "metadata": {
        "colab": {
          "base_uri": "https://localhost:8080/"
        },
        "id": "gFuQhRLeKNK_",
        "outputId": "b35a2949-715a-4648-e814-d42b8d894ac6"
      },
      "execution_count": null,
      "outputs": [
        {
          "output_type": "stream",
          "name": "stdout",
          "text": [
            "['u', 'k', 'r']\n",
            "['k', 'r', 'p']\n"
          ]
        }
      ]
    },
    {
      "cell_type": "code",
      "source": [
        "import sys\n",
        "print(sys.getsizeof(i3))\n",
        "print(sys.getsizeof(i1))\n",
        "#I beleive know you get what's sys for=)"
      ],
      "metadata": {
        "colab": {
          "base_uri": "https://localhost:8080/"
        },
        "id": "3o9V6cmLKZZ5",
        "outputId": "a2bd5b02-8932-47d8-c3cd-0cb7baee8ff8"
      },
      "execution_count": null,
      "outputs": [
        {
          "output_type": "stream",
          "name": "stdout",
          "text": [
            "120\n",
            "50\n"
          ]
        }
      ]
    },
    {
      "cell_type": "markdown",
      "source": [
        "# 3-Dictionaries"
      ],
      "metadata": {
        "id": "BAB1RrLeK4a_"
      }
    },
    {
      "cell_type": "code",
      "source": [
        "# unordered and mutable \n",
        "# cause it's unordered, there's no indexing \n",
        "d = {'key':'value', 'h':'j', 'h':'g'}\n",
        "print(d)\n",
        "print(d['h'])\n",
        "print(d.items())\n",
        "print(type(d.items()))\n",
        "print(d.keys())\n",
        "print(type(d.keys()))"
      ],
      "metadata": {
        "id": "4n6KQn9iLKfT",
        "colab": {
          "base_uri": "https://localhost:8080/"
        },
        "outputId": "26c8ec9c-45e5-4b22-d76c-3e5b05913032"
      },
      "execution_count": null,
      "outputs": [
        {
          "output_type": "stream",
          "name": "stdout",
          "text": [
            "{'key': 'value', 'h': 'g'}\n",
            "g\n",
            "dict_items([('key', 'value'), ('h', 'g')])\n",
            "<class 'dict_items'>\n",
            "dict_keys(['key', 'h'])\n",
            "<class 'dict_keys'>\n"
          ]
        }
      ]
    },
    {
      "cell_type": "code",
      "source": [
        "# keys must be hashable variables(for instance, tuples could but lists couldn't)\n",
        "di = {(1,2): 'w', 3:6, 'rt':'er', 'tr':[1,2,3]}\n",
        "print (di)"
      ],
      "metadata": {
        "colab": {
          "base_uri": "https://localhost:8080/"
        },
        "id": "cNuuuJi62AzL",
        "outputId": "d28f1269-2520-412f-d14e-413d00a58b19"
      },
      "execution_count": null,
      "outputs": [
        {
          "output_type": "stream",
          "name": "stdout",
          "text": [
            "{(1, 2): 'w', 3: 6, 'rt': 'er', 'tr': [1, 2, 3]}\n"
          ]
        }
      ]
    },
    {
      "cell_type": "markdown",
      "source": [
        "# 4-Sets"
      ],
      "metadata": {
        "id": "s_yniWD55XmR"
      }
    },
    {
      "cell_type": "code",
      "source": [
        "#unordered, mutable, no duplicate\n",
        "# just like sets in mathematics\n",
        "s = {1, 2, 'r'}\n",
        "print(s)"
      ],
      "metadata": {
        "colab": {
          "base_uri": "https://localhost:8080/"
        },
        "id": "RZvXwi6c5iTW",
        "outputId": "bd36c2a8-b3da-4a79-b1a5-98f40f6b8c32"
      },
      "execution_count": null,
      "outputs": [
        {
          "output_type": "stream",
          "name": "stdout",
          "text": [
            "{'r', 1, 2}\n"
          ]
        }
      ]
    },
    {
      "cell_type": "code",
      "source": [
        "se = set('alor on dance')\n",
        "print(se)"
      ],
      "metadata": {
        "colab": {
          "base_uri": "https://localhost:8080/"
        },
        "id": "v9D40P9t55dq",
        "outputId": "67f1f27e-250a-45e1-ae58-9b1538e844f9"
      },
      "execution_count": null,
      "outputs": [
        {
          "output_type": "stream",
          "name": "stdout",
          "text": [
            "{'n', 'e', 'a', ' ', 'c', 'r', 'o', 'd', 'l'}\n"
          ]
        }
      ]
    },
    {
      "cell_type": "code",
      "source": [
        "print(s.union(se))\n",
        "print(s.intersection(se))"
      ],
      "metadata": {
        "colab": {
          "base_uri": "https://localhost:8080/"
        },
        "id": "-y1QHIZN5-cw",
        "outputId": "3595be2d-8d20-4070-a691-57991c1bb609"
      },
      "execution_count": null,
      "outputs": [
        {
          "output_type": "stream",
          "name": "stdout",
          "text": [
            "{1, 2, 'n', 'e', 'a', ' ', 'c', 'r', 'o', 'd', 'l'}\n",
            "{'r'}\n"
          ]
        }
      ]
    },
    {
      "cell_type": "code",
      "source": [
        "print(s.issubset({1,2}))\n",
        "print(s.issuperset({1,2}))\n",
        "#frozenset -> immutable"
      ],
      "metadata": {
        "colab": {
          "base_uri": "https://localhost:8080/"
        },
        "id": "mR1Ffhqr6MPg",
        "outputId": "00fe21b2-a927-4069-c3ce-a1b9c1160755"
      },
      "execution_count": null,
      "outputs": [
        {
          "output_type": "stream",
          "name": "stdout",
          "text": [
            "False\n",
            "True\n"
          ]
        }
      ]
    },
    {
      "cell_type": "code",
      "source": [
        "a = {1,2,3,'r'}\n",
        "b = {2,4,1,'u'}\n",
        "c = a|b\n",
        "print(c)\n",
        "# it's new=)"
      ],
      "metadata": {
        "colab": {
          "base_uri": "https://localhost:8080/"
        },
        "id": "jSs0Me4fNoyA",
        "outputId": "488279be-4f60-4d65-9f9c-bf262ce4eedd"
      },
      "execution_count": null,
      "outputs": [
        {
          "output_type": "stream",
          "name": "stdout",
          "text": [
            "{'r', 1, 2, 3, 4, 'u'}\n"
          ]
        }
      ]
    },
    {
      "cell_type": "markdown",
      "source": [
        "# 5-Strings"
      ],
      "metadata": {
        "id": "YRC2J5Gx6guC"
      }
    },
    {
      "cell_type": "code",
      "source": [
        "# ordered and immutable\n",
        "\n",
        "s = \"\"\"elon musk\"\"\"\n",
        "print(s[1:4])"
      ],
      "metadata": {
        "id": "w8mHwy_B6ruH",
        "colab": {
          "base_uri": "https://localhost:8080/"
        },
        "outputId": "9b67bc45-29e3-4058-8e66-f4c2e5c6dee8"
      },
      "execution_count": null,
      "outputs": [
        {
          "output_type": "stream",
          "name": "stdout",
          "text": [
            "lon\n"
          ]
        }
      ]
    },
    {
      "cell_type": "code",
      "source": [
        "if 'm' in s:\n",
        "  print('yep')\n",
        "else:\n",
        "  print('nope')"
      ],
      "metadata": {
        "colab": {
          "base_uri": "https://localhost:8080/"
        },
        "id": "8z90eYXup_Co",
        "outputId": "c7514fb7-875e-4ef7-d0cb-09f5c095d19b"
      },
      "execution_count": null,
      "outputs": [
        {
          "output_type": "stream",
          "name": "stdout",
          "text": [
            "yep\n"
          ]
        }
      ]
    },
    {
      "cell_type": "code",
      "source": [
        "st = \"let all the hurts inside you die \"\n",
        "stsrtip = st.strip()\n",
        "print(stsrtip)\n",
        "ststa = st.startswith('l')\n",
        "print(ststa)\n",
        "print(st.find('e'))\n",
        "print(st.count('e'))\n",
        "print(st.replace('e', 'x'))\n",
        "\n",
        "stlist = st.split()\n",
        "print(stlist)\n",
        "\n",
        "stlistc = st.split(sep = ',') #didn't get this one\n",
        "print(stlistc)\n",
        "\n",
        "print(''.join(stlist))\n",
        "\n",
        "\n"
      ],
      "metadata": {
        "colab": {
          "base_uri": "https://localhost:8080/"
        },
        "id": "GDLyrvFrp_Sf",
        "outputId": "ad0e0377-db8d-4351-f5a7-1cc3c2e220f9"
      },
      "execution_count": null,
      "outputs": [
        {
          "output_type": "stream",
          "name": "stdout",
          "text": [
            "let all the hurts inside you die\n",
            "True\n",
            "1\n",
            "4\n",
            "lxt all thx hurts insidx you dix \n",
            "['let', 'all', 'the', 'hurts', 'inside', 'you', 'die']\n",
            "['let all the hurts inside you die ']\n",
            "letallthehurtsinsideyoudie\n"
          ]
        }
      ]
    },
    {
      "cell_type": "code",
      "source": [
        "n = 2\n",
        "print(f\"I want {n}\")"
      ],
      "metadata": {
        "colab": {
          "base_uri": "https://localhost:8080/"
        },
        "id": "wnuYa9QStFSF",
        "outputId": "a69025ad-1802-48be-e4d6-f36dc3e1044c"
      },
      "execution_count": null,
      "outputs": [
        {
          "output_type": "stream",
          "name": "stdout",
          "text": [
            "I want 2\n"
          ]
        }
      ]
    },
    {
      "cell_type": "markdown",
      "source": [
        "# 6-Collections"
      ],
      "metadata": {
        "id": "FviSg0nsp_zv"
      }
    },
    {
      "cell_type": "code",
      "source": [
        "from collections import Counter,namedtuple,deque"
      ],
      "metadata": {
        "id": "8cITc7Izp_-U"
      },
      "execution_count": null,
      "outputs": []
    },
    {
      "cell_type": "code",
      "source": [
        "print(Counter(st))\n"
      ],
      "metadata": {
        "colab": {
          "base_uri": "https://localhost:8080/"
        },
        "id": "BcIfXUozqGrb",
        "outputId": "75b0534b-a179-459c-bf5f-8b55174c5185"
      },
      "execution_count": null,
      "outputs": [
        {
          "output_type": "stream",
          "name": "stdout",
          "text": [
            "Counter({' ': 7, 'e': 4, 'l': 3, 't': 3, 'i': 3, 'h': 2, 'u': 2, 's': 2, 'd': 2, 'a': 1, 'r': 1, 'n': 1, 'y': 1, 'o': 1})\n"
          ]
        }
      ]
    },
    {
      "cell_type": "code",
      "source": [
        "d = deque(stlist)\n",
        "print(d)\n",
        "d.rotate(1)\n",
        "print(d)\n",
        "# deque also has append, pop etc\n",
        "\n",
        "#collections also has other useful things that you can go over"
      ],
      "metadata": {
        "colab": {
          "base_uri": "https://localhost:8080/"
        },
        "id": "Fp60dYQeqG4r",
        "outputId": "59a92c92-9f3a-4092-fb8e-5f8ab0224454"
      },
      "execution_count": null,
      "outputs": [
        {
          "output_type": "stream",
          "name": "stdout",
          "text": [
            "deque(['let', 'all', 'the', 'hurts', 'inside', 'you', 'die'])\n",
            "deque(['die', 'let', 'all', 'the', 'hurts', 'inside', 'you'])\n"
          ]
        }
      ]
    },
    {
      "cell_type": "markdown",
      "source": [
        "# 7-Itertools"
      ],
      "metadata": {
        "id": "IVgIZsjiqHIg"
      }
    },
    {
      "cell_type": "code",
      "source": [
        "from itertools import product,permutations,combinations,groupby"
      ],
      "metadata": {
        "id": "qxWYpwATqOhp"
      },
      "execution_count": null,
      "outputs": []
    },
    {
      "cell_type": "code",
      "source": [
        "a = list(range(-4,5))\n",
        "for i in a:\n",
        "  print(i)"
      ],
      "metadata": {
        "colab": {
          "base_uri": "https://localhost:8080/"
        },
        "id": "Cg185qhJYz2s",
        "outputId": "3444fcb8-f577-4a6b-e6b3-42aceda3423d"
      },
      "execution_count": null,
      "outputs": [
        {
          "output_type": "stream",
          "name": "stdout",
          "text": [
            "-4\n",
            "-3\n",
            "-2\n",
            "-1\n",
            "0\n",
            "1\n",
            "2\n",
            "3\n",
            "4\n"
          ]
        }
      ]
    },
    {
      "cell_type": "code",
      "source": [
        "b = a.copy()\n",
        "prod = product(a,b)\n",
        "for i in prod:\n",
        "  print(i)"
      ],
      "metadata": {
        "colab": {
          "base_uri": "https://localhost:8080/"
        },
        "id": "S1ddmvb5bHIf",
        "outputId": "db3a6e56-3b26-4a6f-91bb-73fcaef7f395"
      },
      "execution_count": null,
      "outputs": [
        {
          "output_type": "stream",
          "name": "stdout",
          "text": [
            "(-4, -4)\n",
            "(-4, -3)\n",
            "(-4, -2)\n",
            "(-4, -1)\n",
            "(-4, 0)\n",
            "(-4, 1)\n",
            "(-4, 2)\n",
            "(-4, 3)\n",
            "(-4, 4)\n",
            "(-3, -4)\n",
            "(-3, -3)\n",
            "(-3, -2)\n",
            "(-3, -1)\n",
            "(-3, 0)\n",
            "(-3, 1)\n",
            "(-3, 2)\n",
            "(-3, 3)\n",
            "(-3, 4)\n",
            "(-2, -4)\n",
            "(-2, -3)\n",
            "(-2, -2)\n",
            "(-2, -1)\n",
            "(-2, 0)\n",
            "(-2, 1)\n",
            "(-2, 2)\n",
            "(-2, 3)\n",
            "(-2, 4)\n",
            "(-1, -4)\n",
            "(-1, -3)\n",
            "(-1, -2)\n",
            "(-1, -1)\n",
            "(-1, 0)\n",
            "(-1, 1)\n",
            "(-1, 2)\n",
            "(-1, 3)\n",
            "(-1, 4)\n",
            "(0, -4)\n",
            "(0, -3)\n",
            "(0, -2)\n",
            "(0, -1)\n",
            "(0, 0)\n",
            "(0, 1)\n",
            "(0, 2)\n",
            "(0, 3)\n",
            "(0, 4)\n",
            "(1, -4)\n",
            "(1, -3)\n",
            "(1, -2)\n",
            "(1, -1)\n",
            "(1, 0)\n",
            "(1, 1)\n",
            "(1, 2)\n",
            "(1, 3)\n",
            "(1, 4)\n",
            "(2, -4)\n",
            "(2, -3)\n",
            "(2, -2)\n",
            "(2, -1)\n",
            "(2, 0)\n",
            "(2, 1)\n",
            "(2, 2)\n",
            "(2, 3)\n",
            "(2, 4)\n",
            "(3, -4)\n",
            "(3, -3)\n",
            "(3, -2)\n",
            "(3, -1)\n",
            "(3, 0)\n",
            "(3, 1)\n",
            "(3, 2)\n",
            "(3, 3)\n",
            "(3, 4)\n",
            "(4, -4)\n",
            "(4, -3)\n",
            "(4, -2)\n",
            "(4, -1)\n",
            "(4, 0)\n",
            "(4, 1)\n",
            "(4, 2)\n",
            "(4, 3)\n",
            "(4, 4)\n"
          ]
        }
      ]
    },
    {
      "cell_type": "code",
      "source": [
        "a = list(range(-2,3))\n",
        "b = a.copy()\n",
        "p = product(a,b,repeat=2)\n",
        "for i in p:\n",
        "  print(i)"
      ],
      "metadata": {
        "colab": {
          "base_uri": "https://localhost:8080/"
        },
        "id": "7SBAwkc3bSIO",
        "outputId": "8e308814-c545-473c-9ae1-a003d4dfacd3"
      },
      "execution_count": null,
      "outputs": [
        {
          "output_type": "stream",
          "name": "stdout",
          "text": [
            "(-2, -2, -2, -2)\n",
            "(-2, -2, -2, -1)\n",
            "(-2, -2, -2, 0)\n",
            "(-2, -2, -2, 1)\n",
            "(-2, -2, -2, 2)\n",
            "(-2, -2, -1, -2)\n",
            "(-2, -2, -1, -1)\n",
            "(-2, -2, -1, 0)\n",
            "(-2, -2, -1, 1)\n",
            "(-2, -2, -1, 2)\n",
            "(-2, -2, 0, -2)\n",
            "(-2, -2, 0, -1)\n",
            "(-2, -2, 0, 0)\n",
            "(-2, -2, 0, 1)\n",
            "(-2, -2, 0, 2)\n",
            "(-2, -2, 1, -2)\n",
            "(-2, -2, 1, -1)\n",
            "(-2, -2, 1, 0)\n",
            "(-2, -2, 1, 1)\n",
            "(-2, -2, 1, 2)\n",
            "(-2, -2, 2, -2)\n",
            "(-2, -2, 2, -1)\n",
            "(-2, -2, 2, 0)\n",
            "(-2, -2, 2, 1)\n",
            "(-2, -2, 2, 2)\n",
            "(-2, -1, -2, -2)\n",
            "(-2, -1, -2, -1)\n",
            "(-2, -1, -2, 0)\n",
            "(-2, -1, -2, 1)\n",
            "(-2, -1, -2, 2)\n",
            "(-2, -1, -1, -2)\n",
            "(-2, -1, -1, -1)\n",
            "(-2, -1, -1, 0)\n",
            "(-2, -1, -1, 1)\n",
            "(-2, -1, -1, 2)\n",
            "(-2, -1, 0, -2)\n",
            "(-2, -1, 0, -1)\n",
            "(-2, -1, 0, 0)\n",
            "(-2, -1, 0, 1)\n",
            "(-2, -1, 0, 2)\n",
            "(-2, -1, 1, -2)\n",
            "(-2, -1, 1, -1)\n",
            "(-2, -1, 1, 0)\n",
            "(-2, -1, 1, 1)\n",
            "(-2, -1, 1, 2)\n",
            "(-2, -1, 2, -2)\n",
            "(-2, -1, 2, -1)\n",
            "(-2, -1, 2, 0)\n",
            "(-2, -1, 2, 1)\n",
            "(-2, -1, 2, 2)\n",
            "(-2, 0, -2, -2)\n",
            "(-2, 0, -2, -1)\n",
            "(-2, 0, -2, 0)\n",
            "(-2, 0, -2, 1)\n",
            "(-2, 0, -2, 2)\n",
            "(-2, 0, -1, -2)\n",
            "(-2, 0, -1, -1)\n",
            "(-2, 0, -1, 0)\n",
            "(-2, 0, -1, 1)\n",
            "(-2, 0, -1, 2)\n",
            "(-2, 0, 0, -2)\n",
            "(-2, 0, 0, -1)\n",
            "(-2, 0, 0, 0)\n",
            "(-2, 0, 0, 1)\n",
            "(-2, 0, 0, 2)\n",
            "(-2, 0, 1, -2)\n",
            "(-2, 0, 1, -1)\n",
            "(-2, 0, 1, 0)\n",
            "(-2, 0, 1, 1)\n",
            "(-2, 0, 1, 2)\n",
            "(-2, 0, 2, -2)\n",
            "(-2, 0, 2, -1)\n",
            "(-2, 0, 2, 0)\n",
            "(-2, 0, 2, 1)\n",
            "(-2, 0, 2, 2)\n",
            "(-2, 1, -2, -2)\n",
            "(-2, 1, -2, -1)\n",
            "(-2, 1, -2, 0)\n",
            "(-2, 1, -2, 1)\n",
            "(-2, 1, -2, 2)\n",
            "(-2, 1, -1, -2)\n",
            "(-2, 1, -1, -1)\n",
            "(-2, 1, -1, 0)\n",
            "(-2, 1, -1, 1)\n",
            "(-2, 1, -1, 2)\n",
            "(-2, 1, 0, -2)\n",
            "(-2, 1, 0, -1)\n",
            "(-2, 1, 0, 0)\n",
            "(-2, 1, 0, 1)\n",
            "(-2, 1, 0, 2)\n",
            "(-2, 1, 1, -2)\n",
            "(-2, 1, 1, -1)\n",
            "(-2, 1, 1, 0)\n",
            "(-2, 1, 1, 1)\n",
            "(-2, 1, 1, 2)\n",
            "(-2, 1, 2, -2)\n",
            "(-2, 1, 2, -1)\n",
            "(-2, 1, 2, 0)\n",
            "(-2, 1, 2, 1)\n",
            "(-2, 1, 2, 2)\n",
            "(-2, 2, -2, -2)\n",
            "(-2, 2, -2, -1)\n",
            "(-2, 2, -2, 0)\n",
            "(-2, 2, -2, 1)\n",
            "(-2, 2, -2, 2)\n",
            "(-2, 2, -1, -2)\n",
            "(-2, 2, -1, -1)\n",
            "(-2, 2, -1, 0)\n",
            "(-2, 2, -1, 1)\n",
            "(-2, 2, -1, 2)\n",
            "(-2, 2, 0, -2)\n",
            "(-2, 2, 0, -1)\n",
            "(-2, 2, 0, 0)\n",
            "(-2, 2, 0, 1)\n",
            "(-2, 2, 0, 2)\n",
            "(-2, 2, 1, -2)\n",
            "(-2, 2, 1, -1)\n",
            "(-2, 2, 1, 0)\n",
            "(-2, 2, 1, 1)\n",
            "(-2, 2, 1, 2)\n",
            "(-2, 2, 2, -2)\n",
            "(-2, 2, 2, -1)\n",
            "(-2, 2, 2, 0)\n",
            "(-2, 2, 2, 1)\n",
            "(-2, 2, 2, 2)\n",
            "(-1, -2, -2, -2)\n",
            "(-1, -2, -2, -1)\n",
            "(-1, -2, -2, 0)\n",
            "(-1, -2, -2, 1)\n",
            "(-1, -2, -2, 2)\n",
            "(-1, -2, -1, -2)\n",
            "(-1, -2, -1, -1)\n",
            "(-1, -2, -1, 0)\n",
            "(-1, -2, -1, 1)\n",
            "(-1, -2, -1, 2)\n",
            "(-1, -2, 0, -2)\n",
            "(-1, -2, 0, -1)\n",
            "(-1, -2, 0, 0)\n",
            "(-1, -2, 0, 1)\n",
            "(-1, -2, 0, 2)\n",
            "(-1, -2, 1, -2)\n",
            "(-1, -2, 1, -1)\n",
            "(-1, -2, 1, 0)\n",
            "(-1, -2, 1, 1)\n",
            "(-1, -2, 1, 2)\n",
            "(-1, -2, 2, -2)\n",
            "(-1, -2, 2, -1)\n",
            "(-1, -2, 2, 0)\n",
            "(-1, -2, 2, 1)\n",
            "(-1, -2, 2, 2)\n",
            "(-1, -1, -2, -2)\n",
            "(-1, -1, -2, -1)\n",
            "(-1, -1, -2, 0)\n",
            "(-1, -1, -2, 1)\n",
            "(-1, -1, -2, 2)\n",
            "(-1, -1, -1, -2)\n",
            "(-1, -1, -1, -1)\n",
            "(-1, -1, -1, 0)\n",
            "(-1, -1, -1, 1)\n",
            "(-1, -1, -1, 2)\n",
            "(-1, -1, 0, -2)\n",
            "(-1, -1, 0, -1)\n",
            "(-1, -1, 0, 0)\n",
            "(-1, -1, 0, 1)\n",
            "(-1, -1, 0, 2)\n",
            "(-1, -1, 1, -2)\n",
            "(-1, -1, 1, -1)\n",
            "(-1, -1, 1, 0)\n",
            "(-1, -1, 1, 1)\n",
            "(-1, -1, 1, 2)\n",
            "(-1, -1, 2, -2)\n",
            "(-1, -1, 2, -1)\n",
            "(-1, -1, 2, 0)\n",
            "(-1, -1, 2, 1)\n",
            "(-1, -1, 2, 2)\n",
            "(-1, 0, -2, -2)\n",
            "(-1, 0, -2, -1)\n",
            "(-1, 0, -2, 0)\n",
            "(-1, 0, -2, 1)\n",
            "(-1, 0, -2, 2)\n",
            "(-1, 0, -1, -2)\n",
            "(-1, 0, -1, -1)\n",
            "(-1, 0, -1, 0)\n",
            "(-1, 0, -1, 1)\n",
            "(-1, 0, -1, 2)\n",
            "(-1, 0, 0, -2)\n",
            "(-1, 0, 0, -1)\n",
            "(-1, 0, 0, 0)\n",
            "(-1, 0, 0, 1)\n",
            "(-1, 0, 0, 2)\n",
            "(-1, 0, 1, -2)\n",
            "(-1, 0, 1, -1)\n",
            "(-1, 0, 1, 0)\n",
            "(-1, 0, 1, 1)\n",
            "(-1, 0, 1, 2)\n",
            "(-1, 0, 2, -2)\n",
            "(-1, 0, 2, -1)\n",
            "(-1, 0, 2, 0)\n",
            "(-1, 0, 2, 1)\n",
            "(-1, 0, 2, 2)\n",
            "(-1, 1, -2, -2)\n",
            "(-1, 1, -2, -1)\n",
            "(-1, 1, -2, 0)\n",
            "(-1, 1, -2, 1)\n",
            "(-1, 1, -2, 2)\n",
            "(-1, 1, -1, -2)\n",
            "(-1, 1, -1, -1)\n",
            "(-1, 1, -1, 0)\n",
            "(-1, 1, -1, 1)\n",
            "(-1, 1, -1, 2)\n",
            "(-1, 1, 0, -2)\n",
            "(-1, 1, 0, -1)\n",
            "(-1, 1, 0, 0)\n",
            "(-1, 1, 0, 1)\n",
            "(-1, 1, 0, 2)\n",
            "(-1, 1, 1, -2)\n",
            "(-1, 1, 1, -1)\n",
            "(-1, 1, 1, 0)\n",
            "(-1, 1, 1, 1)\n",
            "(-1, 1, 1, 2)\n",
            "(-1, 1, 2, -2)\n",
            "(-1, 1, 2, -1)\n",
            "(-1, 1, 2, 0)\n",
            "(-1, 1, 2, 1)\n",
            "(-1, 1, 2, 2)\n",
            "(-1, 2, -2, -2)\n",
            "(-1, 2, -2, -1)\n",
            "(-1, 2, -2, 0)\n",
            "(-1, 2, -2, 1)\n",
            "(-1, 2, -2, 2)\n",
            "(-1, 2, -1, -2)\n",
            "(-1, 2, -1, -1)\n",
            "(-1, 2, -1, 0)\n",
            "(-1, 2, -1, 1)\n",
            "(-1, 2, -1, 2)\n",
            "(-1, 2, 0, -2)\n",
            "(-1, 2, 0, -1)\n",
            "(-1, 2, 0, 0)\n",
            "(-1, 2, 0, 1)\n",
            "(-1, 2, 0, 2)\n",
            "(-1, 2, 1, -2)\n",
            "(-1, 2, 1, -1)\n",
            "(-1, 2, 1, 0)\n",
            "(-1, 2, 1, 1)\n",
            "(-1, 2, 1, 2)\n",
            "(-1, 2, 2, -2)\n",
            "(-1, 2, 2, -1)\n",
            "(-1, 2, 2, 0)\n",
            "(-1, 2, 2, 1)\n",
            "(-1, 2, 2, 2)\n",
            "(0, -2, -2, -2)\n",
            "(0, -2, -2, -1)\n",
            "(0, -2, -2, 0)\n",
            "(0, -2, -2, 1)\n",
            "(0, -2, -2, 2)\n",
            "(0, -2, -1, -2)\n",
            "(0, -2, -1, -1)\n",
            "(0, -2, -1, 0)\n",
            "(0, -2, -1, 1)\n",
            "(0, -2, -1, 2)\n",
            "(0, -2, 0, -2)\n",
            "(0, -2, 0, -1)\n",
            "(0, -2, 0, 0)\n",
            "(0, -2, 0, 1)\n",
            "(0, -2, 0, 2)\n",
            "(0, -2, 1, -2)\n",
            "(0, -2, 1, -1)\n",
            "(0, -2, 1, 0)\n",
            "(0, -2, 1, 1)\n",
            "(0, -2, 1, 2)\n",
            "(0, -2, 2, -2)\n",
            "(0, -2, 2, -1)\n",
            "(0, -2, 2, 0)\n",
            "(0, -2, 2, 1)\n",
            "(0, -2, 2, 2)\n",
            "(0, -1, -2, -2)\n",
            "(0, -1, -2, -1)\n",
            "(0, -1, -2, 0)\n",
            "(0, -1, -2, 1)\n",
            "(0, -1, -2, 2)\n",
            "(0, -1, -1, -2)\n",
            "(0, -1, -1, -1)\n",
            "(0, -1, -1, 0)\n",
            "(0, -1, -1, 1)\n",
            "(0, -1, -1, 2)\n",
            "(0, -1, 0, -2)\n",
            "(0, -1, 0, -1)\n",
            "(0, -1, 0, 0)\n",
            "(0, -1, 0, 1)\n",
            "(0, -1, 0, 2)\n",
            "(0, -1, 1, -2)\n",
            "(0, -1, 1, -1)\n",
            "(0, -1, 1, 0)\n",
            "(0, -1, 1, 1)\n",
            "(0, -1, 1, 2)\n",
            "(0, -1, 2, -2)\n",
            "(0, -1, 2, -1)\n",
            "(0, -1, 2, 0)\n",
            "(0, -1, 2, 1)\n",
            "(0, -1, 2, 2)\n",
            "(0, 0, -2, -2)\n",
            "(0, 0, -2, -1)\n",
            "(0, 0, -2, 0)\n",
            "(0, 0, -2, 1)\n",
            "(0, 0, -2, 2)\n",
            "(0, 0, -1, -2)\n",
            "(0, 0, -1, -1)\n",
            "(0, 0, -1, 0)\n",
            "(0, 0, -1, 1)\n",
            "(0, 0, -1, 2)\n",
            "(0, 0, 0, -2)\n",
            "(0, 0, 0, -1)\n",
            "(0, 0, 0, 0)\n",
            "(0, 0, 0, 1)\n",
            "(0, 0, 0, 2)\n",
            "(0, 0, 1, -2)\n",
            "(0, 0, 1, -1)\n",
            "(0, 0, 1, 0)\n",
            "(0, 0, 1, 1)\n",
            "(0, 0, 1, 2)\n",
            "(0, 0, 2, -2)\n",
            "(0, 0, 2, -1)\n",
            "(0, 0, 2, 0)\n",
            "(0, 0, 2, 1)\n",
            "(0, 0, 2, 2)\n",
            "(0, 1, -2, -2)\n",
            "(0, 1, -2, -1)\n",
            "(0, 1, -2, 0)\n",
            "(0, 1, -2, 1)\n",
            "(0, 1, -2, 2)\n",
            "(0, 1, -1, -2)\n",
            "(0, 1, -1, -1)\n",
            "(0, 1, -1, 0)\n",
            "(0, 1, -1, 1)\n",
            "(0, 1, -1, 2)\n",
            "(0, 1, 0, -2)\n",
            "(0, 1, 0, -1)\n",
            "(0, 1, 0, 0)\n",
            "(0, 1, 0, 1)\n",
            "(0, 1, 0, 2)\n",
            "(0, 1, 1, -2)\n",
            "(0, 1, 1, -1)\n",
            "(0, 1, 1, 0)\n",
            "(0, 1, 1, 1)\n",
            "(0, 1, 1, 2)\n",
            "(0, 1, 2, -2)\n",
            "(0, 1, 2, -1)\n",
            "(0, 1, 2, 0)\n",
            "(0, 1, 2, 1)\n",
            "(0, 1, 2, 2)\n",
            "(0, 2, -2, -2)\n",
            "(0, 2, -2, -1)\n",
            "(0, 2, -2, 0)\n",
            "(0, 2, -2, 1)\n",
            "(0, 2, -2, 2)\n",
            "(0, 2, -1, -2)\n",
            "(0, 2, -1, -1)\n",
            "(0, 2, -1, 0)\n",
            "(0, 2, -1, 1)\n",
            "(0, 2, -1, 2)\n",
            "(0, 2, 0, -2)\n",
            "(0, 2, 0, -1)\n",
            "(0, 2, 0, 0)\n",
            "(0, 2, 0, 1)\n",
            "(0, 2, 0, 2)\n",
            "(0, 2, 1, -2)\n",
            "(0, 2, 1, -1)\n",
            "(0, 2, 1, 0)\n",
            "(0, 2, 1, 1)\n",
            "(0, 2, 1, 2)\n",
            "(0, 2, 2, -2)\n",
            "(0, 2, 2, -1)\n",
            "(0, 2, 2, 0)\n",
            "(0, 2, 2, 1)\n",
            "(0, 2, 2, 2)\n",
            "(1, -2, -2, -2)\n",
            "(1, -2, -2, -1)\n",
            "(1, -2, -2, 0)\n",
            "(1, -2, -2, 1)\n",
            "(1, -2, -2, 2)\n",
            "(1, -2, -1, -2)\n",
            "(1, -2, -1, -1)\n",
            "(1, -2, -1, 0)\n",
            "(1, -2, -1, 1)\n",
            "(1, -2, -1, 2)\n",
            "(1, -2, 0, -2)\n",
            "(1, -2, 0, -1)\n",
            "(1, -2, 0, 0)\n",
            "(1, -2, 0, 1)\n",
            "(1, -2, 0, 2)\n",
            "(1, -2, 1, -2)\n",
            "(1, -2, 1, -1)\n",
            "(1, -2, 1, 0)\n",
            "(1, -2, 1, 1)\n",
            "(1, -2, 1, 2)\n",
            "(1, -2, 2, -2)\n",
            "(1, -2, 2, -1)\n",
            "(1, -2, 2, 0)\n",
            "(1, -2, 2, 1)\n",
            "(1, -2, 2, 2)\n",
            "(1, -1, -2, -2)\n",
            "(1, -1, -2, -1)\n",
            "(1, -1, -2, 0)\n",
            "(1, -1, -2, 1)\n",
            "(1, -1, -2, 2)\n",
            "(1, -1, -1, -2)\n",
            "(1, -1, -1, -1)\n",
            "(1, -1, -1, 0)\n",
            "(1, -1, -1, 1)\n",
            "(1, -1, -1, 2)\n",
            "(1, -1, 0, -2)\n",
            "(1, -1, 0, -1)\n",
            "(1, -1, 0, 0)\n",
            "(1, -1, 0, 1)\n",
            "(1, -1, 0, 2)\n",
            "(1, -1, 1, -2)\n",
            "(1, -1, 1, -1)\n",
            "(1, -1, 1, 0)\n",
            "(1, -1, 1, 1)\n",
            "(1, -1, 1, 2)\n",
            "(1, -1, 2, -2)\n",
            "(1, -1, 2, -1)\n",
            "(1, -1, 2, 0)\n",
            "(1, -1, 2, 1)\n",
            "(1, -1, 2, 2)\n",
            "(1, 0, -2, -2)\n",
            "(1, 0, -2, -1)\n",
            "(1, 0, -2, 0)\n",
            "(1, 0, -2, 1)\n",
            "(1, 0, -2, 2)\n",
            "(1, 0, -1, -2)\n",
            "(1, 0, -1, -1)\n",
            "(1, 0, -1, 0)\n",
            "(1, 0, -1, 1)\n",
            "(1, 0, -1, 2)\n",
            "(1, 0, 0, -2)\n",
            "(1, 0, 0, -1)\n",
            "(1, 0, 0, 0)\n",
            "(1, 0, 0, 1)\n",
            "(1, 0, 0, 2)\n",
            "(1, 0, 1, -2)\n",
            "(1, 0, 1, -1)\n",
            "(1, 0, 1, 0)\n",
            "(1, 0, 1, 1)\n",
            "(1, 0, 1, 2)\n",
            "(1, 0, 2, -2)\n",
            "(1, 0, 2, -1)\n",
            "(1, 0, 2, 0)\n",
            "(1, 0, 2, 1)\n",
            "(1, 0, 2, 2)\n",
            "(1, 1, -2, -2)\n",
            "(1, 1, -2, -1)\n",
            "(1, 1, -2, 0)\n",
            "(1, 1, -2, 1)\n",
            "(1, 1, -2, 2)\n",
            "(1, 1, -1, -2)\n",
            "(1, 1, -1, -1)\n",
            "(1, 1, -1, 0)\n",
            "(1, 1, -1, 1)\n",
            "(1, 1, -1, 2)\n",
            "(1, 1, 0, -2)\n",
            "(1, 1, 0, -1)\n",
            "(1, 1, 0, 0)\n",
            "(1, 1, 0, 1)\n",
            "(1, 1, 0, 2)\n",
            "(1, 1, 1, -2)\n",
            "(1, 1, 1, -1)\n",
            "(1, 1, 1, 0)\n",
            "(1, 1, 1, 1)\n",
            "(1, 1, 1, 2)\n",
            "(1, 1, 2, -2)\n",
            "(1, 1, 2, -1)\n",
            "(1, 1, 2, 0)\n",
            "(1, 1, 2, 1)\n",
            "(1, 1, 2, 2)\n",
            "(1, 2, -2, -2)\n",
            "(1, 2, -2, -1)\n",
            "(1, 2, -2, 0)\n",
            "(1, 2, -2, 1)\n",
            "(1, 2, -2, 2)\n",
            "(1, 2, -1, -2)\n",
            "(1, 2, -1, -1)\n",
            "(1, 2, -1, 0)\n",
            "(1, 2, -1, 1)\n",
            "(1, 2, -1, 2)\n",
            "(1, 2, 0, -2)\n",
            "(1, 2, 0, -1)\n",
            "(1, 2, 0, 0)\n",
            "(1, 2, 0, 1)\n",
            "(1, 2, 0, 2)\n",
            "(1, 2, 1, -2)\n",
            "(1, 2, 1, -1)\n",
            "(1, 2, 1, 0)\n",
            "(1, 2, 1, 1)\n",
            "(1, 2, 1, 2)\n",
            "(1, 2, 2, -2)\n",
            "(1, 2, 2, -1)\n",
            "(1, 2, 2, 0)\n",
            "(1, 2, 2, 1)\n",
            "(1, 2, 2, 2)\n",
            "(2, -2, -2, -2)\n",
            "(2, -2, -2, -1)\n",
            "(2, -2, -2, 0)\n",
            "(2, -2, -2, 1)\n",
            "(2, -2, -2, 2)\n",
            "(2, -2, -1, -2)\n",
            "(2, -2, -1, -1)\n",
            "(2, -2, -1, 0)\n",
            "(2, -2, -1, 1)\n",
            "(2, -2, -1, 2)\n",
            "(2, -2, 0, -2)\n",
            "(2, -2, 0, -1)\n",
            "(2, -2, 0, 0)\n",
            "(2, -2, 0, 1)\n",
            "(2, -2, 0, 2)\n",
            "(2, -2, 1, -2)\n",
            "(2, -2, 1, -1)\n",
            "(2, -2, 1, 0)\n",
            "(2, -2, 1, 1)\n",
            "(2, -2, 1, 2)\n",
            "(2, -2, 2, -2)\n",
            "(2, -2, 2, -1)\n",
            "(2, -2, 2, 0)\n",
            "(2, -2, 2, 1)\n",
            "(2, -2, 2, 2)\n",
            "(2, -1, -2, -2)\n",
            "(2, -1, -2, -1)\n",
            "(2, -1, -2, 0)\n",
            "(2, -1, -2, 1)\n",
            "(2, -1, -2, 2)\n",
            "(2, -1, -1, -2)\n",
            "(2, -1, -1, -1)\n",
            "(2, -1, -1, 0)\n",
            "(2, -1, -1, 1)\n",
            "(2, -1, -1, 2)\n",
            "(2, -1, 0, -2)\n",
            "(2, -1, 0, -1)\n",
            "(2, -1, 0, 0)\n",
            "(2, -1, 0, 1)\n",
            "(2, -1, 0, 2)\n",
            "(2, -1, 1, -2)\n",
            "(2, -1, 1, -1)\n",
            "(2, -1, 1, 0)\n",
            "(2, -1, 1, 1)\n",
            "(2, -1, 1, 2)\n",
            "(2, -1, 2, -2)\n",
            "(2, -1, 2, -1)\n",
            "(2, -1, 2, 0)\n",
            "(2, -1, 2, 1)\n",
            "(2, -1, 2, 2)\n",
            "(2, 0, -2, -2)\n",
            "(2, 0, -2, -1)\n",
            "(2, 0, -2, 0)\n",
            "(2, 0, -2, 1)\n",
            "(2, 0, -2, 2)\n",
            "(2, 0, -1, -2)\n",
            "(2, 0, -1, -1)\n",
            "(2, 0, -1, 0)\n",
            "(2, 0, -1, 1)\n",
            "(2, 0, -1, 2)\n",
            "(2, 0, 0, -2)\n",
            "(2, 0, 0, -1)\n",
            "(2, 0, 0, 0)\n",
            "(2, 0, 0, 1)\n",
            "(2, 0, 0, 2)\n",
            "(2, 0, 1, -2)\n",
            "(2, 0, 1, -1)\n",
            "(2, 0, 1, 0)\n",
            "(2, 0, 1, 1)\n",
            "(2, 0, 1, 2)\n",
            "(2, 0, 2, -2)\n",
            "(2, 0, 2, -1)\n",
            "(2, 0, 2, 0)\n",
            "(2, 0, 2, 1)\n",
            "(2, 0, 2, 2)\n",
            "(2, 1, -2, -2)\n",
            "(2, 1, -2, -1)\n",
            "(2, 1, -2, 0)\n",
            "(2, 1, -2, 1)\n",
            "(2, 1, -2, 2)\n",
            "(2, 1, -1, -2)\n",
            "(2, 1, -1, -1)\n",
            "(2, 1, -1, 0)\n",
            "(2, 1, -1, 1)\n",
            "(2, 1, -1, 2)\n",
            "(2, 1, 0, -2)\n",
            "(2, 1, 0, -1)\n",
            "(2, 1, 0, 0)\n",
            "(2, 1, 0, 1)\n",
            "(2, 1, 0, 2)\n",
            "(2, 1, 1, -2)\n",
            "(2, 1, 1, -1)\n",
            "(2, 1, 1, 0)\n",
            "(2, 1, 1, 1)\n",
            "(2, 1, 1, 2)\n",
            "(2, 1, 2, -2)\n",
            "(2, 1, 2, -1)\n",
            "(2, 1, 2, 0)\n",
            "(2, 1, 2, 1)\n",
            "(2, 1, 2, 2)\n",
            "(2, 2, -2, -2)\n",
            "(2, 2, -2, -1)\n",
            "(2, 2, -2, 0)\n",
            "(2, 2, -2, 1)\n",
            "(2, 2, -2, 2)\n",
            "(2, 2, -1, -2)\n",
            "(2, 2, -1, -1)\n",
            "(2, 2, -1, 0)\n",
            "(2, 2, -1, 1)\n",
            "(2, 2, -1, 2)\n",
            "(2, 2, 0, -2)\n",
            "(2, 2, 0, -1)\n",
            "(2, 2, 0, 0)\n",
            "(2, 2, 0, 1)\n",
            "(2, 2, 0, 2)\n",
            "(2, 2, 1, -2)\n",
            "(2, 2, 1, -1)\n",
            "(2, 2, 1, 0)\n",
            "(2, 2, 1, 1)\n",
            "(2, 2, 1, 2)\n",
            "(2, 2, 2, -2)\n",
            "(2, 2, 2, -1)\n",
            "(2, 2, 2, 0)\n",
            "(2, 2, 2, 1)\n",
            "(2, 2, 2, 2)\n"
          ]
        }
      ]
    },
    {
      "cell_type": "code",
      "source": [
        "a = [1,2,4,5]\n",
        "perm = permutations(a,3)\n",
        "comb = combinations(a,3)\n",
        "print(perm)\n",
        "#print(len(perm))\n",
        "for i in perm:\n",
        "  print(i)\n",
        "print('********************')\n",
        "for i in comb:\n",
        "  print(i)"
      ],
      "metadata": {
        "colab": {
          "base_uri": "https://localhost:8080/"
        },
        "id": "yHOruEKSbuXc",
        "outputId": "e40b4bf4-7fe6-4e58-d190-3539b31cd472"
      },
      "execution_count": null,
      "outputs": [
        {
          "output_type": "stream",
          "name": "stdout",
          "text": [
            "<itertools.permutations object at 0x7fc07c6488f0>\n",
            "(1, 2, 4)\n",
            "(1, 2, 5)\n",
            "(1, 4, 2)\n",
            "(1, 4, 5)\n",
            "(1, 5, 2)\n",
            "(1, 5, 4)\n",
            "(2, 1, 4)\n",
            "(2, 1, 5)\n",
            "(2, 4, 1)\n",
            "(2, 4, 5)\n",
            "(2, 5, 1)\n",
            "(2, 5, 4)\n",
            "(4, 1, 2)\n",
            "(4, 1, 5)\n",
            "(4, 2, 1)\n",
            "(4, 2, 5)\n",
            "(4, 5, 1)\n",
            "(4, 5, 2)\n",
            "(5, 1, 2)\n",
            "(5, 1, 4)\n",
            "(5, 2, 1)\n",
            "(5, 2, 4)\n",
            "(5, 4, 1)\n",
            "(5, 4, 2)\n",
            "********************\n",
            "(1, 2, 4)\n",
            "(1, 2, 5)\n",
            "(1, 4, 5)\n",
            "(2, 4, 5)\n"
          ]
        }
      ]
    },
    {
      "cell_type": "code",
      "source": [
        "from itertools import accumulate\n",
        "ac = accumulate(a)\n",
        "print(ac)\n",
        "print(list(ac))\n"
      ],
      "metadata": {
        "colab": {
          "base_uri": "https://localhost:8080/"
        },
        "id": "aZHfSrZaclRl",
        "outputId": "833d4659-d44b-42fb-b160-b02b044fdad6"
      },
      "execution_count": null,
      "outputs": [
        {
          "output_type": "stream",
          "name": "stdout",
          "text": [
            "<itertools.accumulate object at 0x7fc07c6045f0>\n",
            "[1, 3, 7, 12]\n"
          ]
        }
      ]
    },
    {
      "cell_type": "code",
      "source": [
        "# groupby\n",
        "a = list(range(-4,10,2))\n",
        "# note: pandas also has this useful method\n",
        "g = groupby(a, key= lambda x: x>3)\n",
        "print(g)\n",
        "\n",
        "for i,j in g:\n",
        "  print(i)\n",
        "  for h in j:\n",
        "    print(h)\n",
        "# wow boy!!!"
      ],
      "metadata": {
        "colab": {
          "base_uri": "https://localhost:8080/"
        },
        "id": "fhETlBVtckuT",
        "outputId": "f2e63b56-285e-4472-89f7-6dc42979674f"
      },
      "execution_count": null,
      "outputs": [
        {
          "output_type": "stream",
          "name": "stdout",
          "text": [
            "<itertools.groupby object at 0x7fc07c5d2650>\n",
            "False\n",
            "-4\n",
            "-2\n",
            "0\n",
            "2\n",
            "True\n",
            "4\n",
            "6\n",
            "8\n"
          ]
        },
        {
          "output_type": "execute_result",
          "data": {
            "text/plain": [
              "<itertools.groupby at 0x7fc07c5d2650>"
            ]
          },
          "metadata": {},
          "execution_count": 26
        }
      ]
    },
    {
      "cell_type": "code",
      "source": [
        "# no way I must also work on pandas groupby\n",
        "import pandas as pd\n",
        "d = pd.read_csv('AP.csv')\n",
        "print(d.head())\n"
      ],
      "metadata": {
        "colab": {
          "base_uri": "https://localhost:8080/"
        },
        "id": "-qpt8ngdN-m0",
        "outputId": "51ae1068-29d9-4df4-d5cd-ec1ec511dbc6"
      },
      "execution_count": null,
      "outputs": [
        {
          "output_type": "stream",
          "name": "stdout",
          "text": [
            "     Month  #Passengers\n",
            "0  1949-01          112\n",
            "1  1949-02          118\n",
            "2  1949-03          132\n",
            "3  1949-04          129\n",
            "4  1949-05          121\n"
          ]
        }
      ]
    },
    {
      "cell_type": "code",
      "source": [
        "gr = d.groupby('#Passengers')\n",
        "gr.first()"
      ],
      "metadata": {
        "colab": {
          "base_uri": "https://localhost:8080/",
          "height": 455
        },
        "id": "Z9-H0yOsO1mZ",
        "outputId": "b78bb23e-b62a-417c-8359-201b03a465ee"
      },
      "execution_count": null,
      "outputs": [
        {
          "output_type": "execute_result",
          "data": {
            "text/plain": [
              "               Month\n",
              "#Passengers         \n",
              "104          1949-11\n",
              "112          1949-01\n",
              "114          1950-11\n",
              "115          1950-01\n",
              "118          1949-02\n",
              "...              ...\n",
              "535          1960-06\n",
              "548          1959-07\n",
              "559          1959-08\n",
              "606          1960-08\n",
              "622          1960-07\n",
              "\n",
              "[118 rows x 1 columns]"
            ],
            "text/html": [
              "\n",
              "  <div id=\"df-bfae2a4d-b013-4162-bd7b-24c43d6b98cb\">\n",
              "    <div class=\"colab-df-container\">\n",
              "      <div>\n",
              "<style scoped>\n",
              "    .dataframe tbody tr th:only-of-type {\n",
              "        vertical-align: middle;\n",
              "    }\n",
              "\n",
              "    .dataframe tbody tr th {\n",
              "        vertical-align: top;\n",
              "    }\n",
              "\n",
              "    .dataframe thead th {\n",
              "        text-align: right;\n",
              "    }\n",
              "</style>\n",
              "<table border=\"1\" class=\"dataframe\">\n",
              "  <thead>\n",
              "    <tr style=\"text-align: right;\">\n",
              "      <th></th>\n",
              "      <th>Month</th>\n",
              "    </tr>\n",
              "    <tr>\n",
              "      <th>#Passengers</th>\n",
              "      <th></th>\n",
              "    </tr>\n",
              "  </thead>\n",
              "  <tbody>\n",
              "    <tr>\n",
              "      <th>104</th>\n",
              "      <td>1949-11</td>\n",
              "    </tr>\n",
              "    <tr>\n",
              "      <th>112</th>\n",
              "      <td>1949-01</td>\n",
              "    </tr>\n",
              "    <tr>\n",
              "      <th>114</th>\n",
              "      <td>1950-11</td>\n",
              "    </tr>\n",
              "    <tr>\n",
              "      <th>115</th>\n",
              "      <td>1950-01</td>\n",
              "    </tr>\n",
              "    <tr>\n",
              "      <th>118</th>\n",
              "      <td>1949-02</td>\n",
              "    </tr>\n",
              "    <tr>\n",
              "      <th>...</th>\n",
              "      <td>...</td>\n",
              "    </tr>\n",
              "    <tr>\n",
              "      <th>535</th>\n",
              "      <td>1960-06</td>\n",
              "    </tr>\n",
              "    <tr>\n",
              "      <th>548</th>\n",
              "      <td>1959-07</td>\n",
              "    </tr>\n",
              "    <tr>\n",
              "      <th>559</th>\n",
              "      <td>1959-08</td>\n",
              "    </tr>\n",
              "    <tr>\n",
              "      <th>606</th>\n",
              "      <td>1960-08</td>\n",
              "    </tr>\n",
              "    <tr>\n",
              "      <th>622</th>\n",
              "      <td>1960-07</td>\n",
              "    </tr>\n",
              "  </tbody>\n",
              "</table>\n",
              "<p>118 rows × 1 columns</p>\n",
              "</div>\n",
              "      <button class=\"colab-df-convert\" onclick=\"convertToInteractive('df-bfae2a4d-b013-4162-bd7b-24c43d6b98cb')\"\n",
              "              title=\"Convert this dataframe to an interactive table.\"\n",
              "              style=\"display:none;\">\n",
              "        \n",
              "  <svg xmlns=\"http://www.w3.org/2000/svg\" height=\"24px\"viewBox=\"0 0 24 24\"\n",
              "       width=\"24px\">\n",
              "    <path d=\"M0 0h24v24H0V0z\" fill=\"none\"/>\n",
              "    <path d=\"M18.56 5.44l.94 2.06.94-2.06 2.06-.94-2.06-.94-.94-2.06-.94 2.06-2.06.94zm-11 1L8.5 8.5l.94-2.06 2.06-.94-2.06-.94L8.5 2.5l-.94 2.06-2.06.94zm10 10l.94 2.06.94-2.06 2.06-.94-2.06-.94-.94-2.06-.94 2.06-2.06.94z\"/><path d=\"M17.41 7.96l-1.37-1.37c-.4-.4-.92-.59-1.43-.59-.52 0-1.04.2-1.43.59L10.3 9.45l-7.72 7.72c-.78.78-.78 2.05 0 2.83L4 21.41c.39.39.9.59 1.41.59.51 0 1.02-.2 1.41-.59l7.78-7.78 2.81-2.81c.8-.78.8-2.07 0-2.86zM5.41 20L4 18.59l7.72-7.72 1.47 1.35L5.41 20z\"/>\n",
              "  </svg>\n",
              "      </button>\n",
              "      \n",
              "  <style>\n",
              "    .colab-df-container {\n",
              "      display:flex;\n",
              "      flex-wrap:wrap;\n",
              "      gap: 12px;\n",
              "    }\n",
              "\n",
              "    .colab-df-convert {\n",
              "      background-color: #E8F0FE;\n",
              "      border: none;\n",
              "      border-radius: 50%;\n",
              "      cursor: pointer;\n",
              "      display: none;\n",
              "      fill: #1967D2;\n",
              "      height: 32px;\n",
              "      padding: 0 0 0 0;\n",
              "      width: 32px;\n",
              "    }\n",
              "\n",
              "    .colab-df-convert:hover {\n",
              "      background-color: #E2EBFA;\n",
              "      box-shadow: 0px 1px 2px rgba(60, 64, 67, 0.3), 0px 1px 3px 1px rgba(60, 64, 67, 0.15);\n",
              "      fill: #174EA6;\n",
              "    }\n",
              "\n",
              "    [theme=dark] .colab-df-convert {\n",
              "      background-color: #3B4455;\n",
              "      fill: #D2E3FC;\n",
              "    }\n",
              "\n",
              "    [theme=dark] .colab-df-convert:hover {\n",
              "      background-color: #434B5C;\n",
              "      box-shadow: 0px 1px 3px 1px rgba(0, 0, 0, 0.15);\n",
              "      filter: drop-shadow(0px 1px 2px rgba(0, 0, 0, 0.3));\n",
              "      fill: #FFFFFF;\n",
              "    }\n",
              "  </style>\n",
              "\n",
              "      <script>\n",
              "        const buttonEl =\n",
              "          document.querySelector('#df-bfae2a4d-b013-4162-bd7b-24c43d6b98cb button.colab-df-convert');\n",
              "        buttonEl.style.display =\n",
              "          google.colab.kernel.accessAllowed ? 'block' : 'none';\n",
              "\n",
              "        async function convertToInteractive(key) {\n",
              "          const element = document.querySelector('#df-bfae2a4d-b013-4162-bd7b-24c43d6b98cb');\n",
              "          const dataTable =\n",
              "            await google.colab.kernel.invokeFunction('convertToInteractive',\n",
              "                                                     [key], {});\n",
              "          if (!dataTable) return;\n",
              "\n",
              "          const docLinkHtml = 'Like what you see? Visit the ' +\n",
              "            '<a target=\"_blank\" href=https://colab.research.google.com/notebooks/data_table.ipynb>data table notebook</a>'\n",
              "            + ' to learn more about interactive tables.';\n",
              "          element.innerHTML = '';\n",
              "          dataTable['output_type'] = 'display_data';\n",
              "          await google.colab.output.renderOutput(dataTable, element);\n",
              "          const docLink = document.createElement('div');\n",
              "          docLink.innerHTML = docLinkHtml;\n",
              "          element.appendChild(docLink);\n",
              "        }\n",
              "      </script>\n",
              "    </div>\n",
              "  </div>\n",
              "  "
            ]
          },
          "metadata": {},
          "execution_count": 9
        }
      ]
    },
    {
      "cell_type": "code",
      "source": [
        "\n",
        "# infinites\n",
        "from itertools import count,cycle,repeat\n",
        "\n",
        "c = count(10)\n",
        "\n",
        "for i in c:\n",
        "  print(i)\n",
        "  if i > 100:\n",
        "    break\n",
        "\n",
        "#cycle and repeat are easy"
      ],
      "metadata": {
        "colab": {
          "base_uri": "https://localhost:8080/"
        },
        "id": "hDNWOSXCYz_e",
        "outputId": "e409d7b7-2ad6-42b3-a288-d7b9fef13c6a"
      },
      "execution_count": null,
      "outputs": [
        {
          "output_type": "stream",
          "name": "stdout",
          "text": [
            "10\n",
            "11\n",
            "12\n",
            "13\n",
            "14\n",
            "15\n",
            "16\n",
            "17\n",
            "18\n",
            "19\n",
            "20\n",
            "21\n",
            "22\n",
            "23\n",
            "24\n",
            "25\n",
            "26\n",
            "27\n",
            "28\n",
            "29\n",
            "30\n",
            "31\n",
            "32\n",
            "33\n",
            "34\n",
            "35\n",
            "36\n",
            "37\n",
            "38\n",
            "39\n",
            "40\n",
            "41\n",
            "42\n",
            "43\n",
            "44\n",
            "45\n",
            "46\n",
            "47\n",
            "48\n",
            "49\n",
            "50\n",
            "51\n",
            "52\n",
            "53\n",
            "54\n",
            "55\n",
            "56\n",
            "57\n",
            "58\n",
            "59\n",
            "60\n",
            "61\n",
            "62\n",
            "63\n",
            "64\n",
            "65\n",
            "66\n",
            "67\n",
            "68\n",
            "69\n",
            "70\n",
            "71\n",
            "72\n",
            "73\n",
            "74\n",
            "75\n",
            "76\n",
            "77\n",
            "78\n",
            "79\n",
            "80\n",
            "81\n",
            "82\n",
            "83\n",
            "84\n",
            "85\n",
            "86\n",
            "87\n",
            "88\n",
            "89\n",
            "90\n",
            "91\n",
            "92\n",
            "93\n",
            "94\n",
            "95\n",
            "96\n",
            "97\n",
            "98\n",
            "99\n",
            "100\n",
            "101\n"
          ]
        }
      ]
    },
    {
      "cell_type": "code",
      "source": [
        ""
      ],
      "metadata": {
        "id": "7iT_JktcY0JC"
      },
      "execution_count": null,
      "outputs": []
    },
    {
      "cell_type": "markdown",
      "source": [
        "# 8-Lambda"
      ],
      "metadata": {
        "id": "v87rqWI1Y0pz"
      }
    },
    {
      "cell_type": "code",
      "source": [
        "#lambda argument(s): expression\n",
        "\n",
        "f = lambda a,b: (a+b, a/b, a*b)\n",
        "f(2,3)\n",
        "\n",
        "#booooy =)"
      ],
      "metadata": {
        "colab": {
          "base_uri": "https://localhost:8080/"
        },
        "id": "6uA4EfDIQFHJ",
        "outputId": "1bd932ad-78cc-4bd3-a8f6-ad979a5e949e"
      },
      "execution_count": null,
      "outputs": [
        {
          "output_type": "execute_result",
          "data": {
            "text/plain": [
              "(5, 0.6666666666666666, 6)"
            ]
          },
          "metadata": {},
          "execution_count": 19
        }
      ]
    },
    {
      "cell_type": "code",
      "source": [
        "a = [(1,2), (3,5), (3,8), (1,0),(4,2), (6,1)]\n",
        "print(sorted(a))\n",
        "print(sorted(a, key= lambda x: x[0]+x[1]))"
      ],
      "metadata": {
        "colab": {
          "base_uri": "https://localhost:8080/"
        },
        "id": "Q1swPs95QFN1",
        "outputId": "90b2bb7b-cdf6-4bb6-c615-e3056b3c14f6"
      },
      "execution_count": null,
      "outputs": [
        {
          "output_type": "stream",
          "name": "stdout",
          "text": [
            "[(1, 0), (1, 2), (3, 5), (3, 8), (4, 2), (6, 1)]\n",
            "[(1, 0), (1, 2), (4, 2), (6, 1), (3, 5), (3, 8)]\n"
          ]
        }
      ]
    },
    {
      "cell_type": "code",
      "source": [
        "b = [1,2,3,5,3,5,6]\n",
        "\n",
        "m = map(lambda x:x**2, b)\n",
        "\n",
        "f = filter(lambda x: x>=3,b)\n",
        "\n",
        "print(list(m))\n",
        "print(list(f))\n",
        "# it could also be done by list comprehension like:\n",
        "print([x**2 for x in b])\n",
        "print([x for x in b if x>=3])"
      ],
      "metadata": {
        "colab": {
          "base_uri": "https://localhost:8080/"
        },
        "id": "Y9uMwAQiQFUG",
        "outputId": "a3385ffc-e9cc-44a0-e114-b4ec305b3d02"
      },
      "execution_count": null,
      "outputs": [
        {
          "output_type": "stream",
          "name": "stdout",
          "text": [
            "[1, 4, 9, 25, 9, 25, 36]\n",
            "[3, 5, 3, 5, 6]\n",
            "[1, 4, 9, 25, 9, 25, 36]\n",
            "[3, 5, 3, 5, 6]\n"
          ]
        }
      ]
    },
    {
      "cell_type": "code",
      "source": [
        "\n"
      ],
      "metadata": {
        "id": "yuqFwHYAQFaU"
      },
      "execution_count": null,
      "outputs": []
    },
    {
      "cell_type": "markdown",
      "source": [
        "# 9-Errors and Exceptions"
      ],
      "metadata": {
        "id": "NTumnMCJY01t"
      }
    },
    {
      "cell_type": "code",
      "source": [
        "# sure you know what's error \n",
        "# but how to raise an exception:\n",
        "x = -4\n",
        "if x<0:\n",
        "  raise Exception('blah blah')\n"
      ],
      "metadata": {
        "id": "5hdfambfQKXo",
        "colab": {
          "base_uri": "https://localhost:8080/",
          "height": 201
        },
        "outputId": "1385d1e9-90cd-4bc1-fbff-308dd969ef5f"
      },
      "execution_count": 2,
      "outputs": [
        {
          "output_type": "error",
          "ename": "Exception",
          "evalue": "ignored",
          "traceback": [
            "\u001b[0;31m---------------------------------------------------------------------------\u001b[0m",
            "\u001b[0;31mException\u001b[0m                                 Traceback (most recent call last)",
            "\u001b[0;32m<ipython-input-2-b734d8941c2c>\u001b[0m in \u001b[0;36m<module>\u001b[0;34m()\u001b[0m\n\u001b[1;32m      3\u001b[0m \u001b[0mx\u001b[0m \u001b[0;34m=\u001b[0m \u001b[0;34m-\u001b[0m\u001b[0;36m4\u001b[0m\u001b[0;34m\u001b[0m\u001b[0;34m\u001b[0m\u001b[0m\n\u001b[1;32m      4\u001b[0m \u001b[0;32mif\u001b[0m \u001b[0mx\u001b[0m\u001b[0;34m<\u001b[0m\u001b[0;36m0\u001b[0m\u001b[0;34m:\u001b[0m\u001b[0;34m\u001b[0m\u001b[0;34m\u001b[0m\u001b[0m\n\u001b[0;32m----> 5\u001b[0;31m   \u001b[0;32mraise\u001b[0m \u001b[0mException\u001b[0m\u001b[0;34m(\u001b[0m\u001b[0;34m'blah blah'\u001b[0m\u001b[0;34m)\u001b[0m\u001b[0;34m\u001b[0m\u001b[0;34m\u001b[0m\u001b[0m\n\u001b[0m",
            "\u001b[0;31mException\u001b[0m: blah blah"
          ]
        }
      ]
    },
    {
      "cell_type": "code",
      "source": [
        "# or \n",
        "x = -3\n",
        "assert(x>0), 'blah blah'"
      ],
      "metadata": {
        "colab": {
          "base_uri": "https://localhost:8080/",
          "height": 201
        },
        "id": "xRyiUICWVJO-",
        "outputId": "faf207fc-9be1-4d88-f26f-c1de3066a66b"
      },
      "execution_count": 3,
      "outputs": [
        {
          "output_type": "error",
          "ename": "AssertionError",
          "evalue": "ignored",
          "traceback": [
            "\u001b[0;31m---------------------------------------------------------------------------\u001b[0m",
            "\u001b[0;31mAssertionError\u001b[0m                            Traceback (most recent call last)",
            "\u001b[0;32m<ipython-input-3-6f859fd62633>\u001b[0m in \u001b[0;36m<module>\u001b[0;34m()\u001b[0m\n\u001b[1;32m      1\u001b[0m \u001b[0;31m# or\u001b[0m\u001b[0;34m\u001b[0m\u001b[0;34m\u001b[0m\u001b[0;34m\u001b[0m\u001b[0m\n\u001b[1;32m      2\u001b[0m \u001b[0mx\u001b[0m \u001b[0;34m=\u001b[0m \u001b[0;34m-\u001b[0m\u001b[0;36m3\u001b[0m\u001b[0;34m\u001b[0m\u001b[0;34m\u001b[0m\u001b[0m\n\u001b[0;32m----> 3\u001b[0;31m \u001b[0;32massert\u001b[0m\u001b[0;34m(\u001b[0m\u001b[0mx\u001b[0m\u001b[0;34m>\u001b[0m\u001b[0;36m0\u001b[0m\u001b[0;34m)\u001b[0m\u001b[0;34m,\u001b[0m \u001b[0;34m'blah blah'\u001b[0m\u001b[0;34m\u001b[0m\u001b[0;34m\u001b[0m\u001b[0m\n\u001b[0m",
            "\u001b[0;31mAssertionError\u001b[0m: blah blah"
          ]
        }
      ]
    },
    {
      "cell_type": "code",
      "source": [
        "a = 2\n",
        "b = 's'\n",
        "try:\n",
        "  c = a+b\n",
        "except TypeError:\n",
        "  pass\n",
        "  # print('blaaah')\n",
        "\n",
        "print('sth')"
      ],
      "metadata": {
        "colab": {
          "base_uri": "https://localhost:8080/"
        },
        "id": "KDP-mj9bVJZp",
        "outputId": "f68c699c-1643-476f-f9c5-890301a4fef1"
      },
      "execution_count": 7,
      "outputs": [
        {
          "output_type": "stream",
          "name": "stdout",
          "text": [
            "sth\n"
          ]
        }
      ]
    },
    {
      "cell_type": "code",
      "source": [
        ""
      ],
      "metadata": {
        "id": "iCn9iVtbVJjM"
      },
      "execution_count": null,
      "outputs": []
    },
    {
      "cell_type": "markdown",
      "source": [
        "# 10-Logging"
      ],
      "metadata": {
        "id": "QRQCkwGbVJsL"
      }
    },
    {
      "cell_type": "code",
      "source": [
        ""
      ],
      "metadata": {
        "id": "VTsTT5sAVKOt"
      },
      "execution_count": null,
      "outputs": []
    }
  ]
}