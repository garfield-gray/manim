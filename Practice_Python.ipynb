{
  "nbformat": 4,
  "nbformat_minor": 0,
  "metadata": {
    "colab": {
      "name": "Practice_Python.ipynb",
      "provenance": [],
      "authorship_tag": "ABX9TyN1+/ZSJv1QJmir5T+gYt8E",
      "include_colab_link": true
    },
    "kernelspec": {
      "name": "python3",
      "display_name": "Python 3"
    },
    "language_info": {
      "name": "python"
    }
  },
  "cells": [
    {
      "cell_type": "markdown",
      "metadata": {
        "id": "view-in-github",
        "colab_type": "text"
      },
      "source": [
        "<a href=\"https://colab.research.google.com/github/garfield-gray/manim/blob/main/Practice_Python.ipynb\" target=\"_parent\"><img src=\"https://colab.research.google.com/assets/colab-badge.svg\" alt=\"Open In Colab\"/></a>"
      ]
    },
    {
      "cell_type": "markdown",
      "source": [
        "it sounds lame yeah but I must practice python "
      ],
      "metadata": {
        "id": "7G-IxeACTyqq"
      }
    },
    {
      "cell_type": "code",
      "source": [
        "import numpy as np\n",
        "import math"
      ],
      "metadata": {
        "id": "vikz1erCVHcC"
      },
      "execution_count": 6,
      "outputs": []
    },
    {
      "cell_type": "markdown",
      "source": [
        "# 1-Lists"
      ],
      "metadata": {
        "id": "QrA0lrJiT7ii"
      }
    },
    {
      "cell_type": "code",
      "source": [
        "#repetitive stuff\n",
        "\n",
        "#comprehention \n",
        "a = [np.sqrt(i) for i in range(8)]\n",
        "print(a)\n",
        "b = a[:] #it's the abuse of alicing =)\n",
        "c = [j**2 for j in a]\n",
        "print(c)\n",
        "print(np.ceil(c))\n",
        "print(np.round(c))"
      ],
      "metadata": {
        "colab": {
          "base_uri": "https://localhost:8080/"
        },
        "id": "qorzN6ZtUKHq",
        "outputId": "54589abb-6424-4c89-cd17-e946e8b5041b"
      },
      "execution_count": 9,
      "outputs": [
        {
          "output_type": "stream",
          "name": "stdout",
          "text": [
            "[0.0, 1.0, 1.4142135623730951, 1.7320508075688772, 2.0, 2.23606797749979, 2.449489742783178, 2.6457513110645907]\n",
            "[0.0, 1.0, 2.0000000000000004, 2.9999999999999996, 4.0, 5.000000000000001, 5.999999999999999, 7.000000000000001]\n",
            "[0. 1. 3. 3. 4. 6. 6. 8.]\n",
            "[0. 1. 2. 3. 4. 5. 6. 7.]\n"
          ]
        }
      ]
    },
    {
      "cell_type": "code",
      "source": [
        "#slicing\n",
        "l = [i for i in range(17)]\n",
        "print(l)\n",
        "lm = l[0:15:2]\n",
        "print(lm)\n",
        "lmm = l[15:0:-2]\n",
        "print(lmm)\n",
        "\n",
        "\n",
        "#I beleive now you must've got it right know(i'm not sure about grammer here!)"
      ],
      "metadata": {
        "colab": {
          "base_uri": "https://localhost:8080/"
        },
        "id": "yACp4025VB6X",
        "outputId": "c30a0eb1-2c02-4830-d3f6-fa5fa59935c7"
      },
      "execution_count": 20,
      "outputs": [
        {
          "output_type": "stream",
          "name": "stdout",
          "text": [
            "[0, 1, 2, 3, 4, 5, 6, 7, 8, 9, 10, 11, 12, 13, 14, 15, 16]\n",
            "[0, 2, 4, 6, 8, 10, 12, 14]\n",
            "[15, 13, 11, 9, 7, 5, 3, 1]\n"
          ]
        }
      ]
    },
    {
      "cell_type": "code",
      "source": [
        ""
      ],
      "metadata": {
        "id": "RmpZVhokXqoZ"
      },
      "execution_count": null,
      "outputs": []
    }
  ]
}