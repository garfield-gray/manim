{
  "nbformat": 4,
  "nbformat_minor": 0,
  "metadata": {
    "colab": {
      "provenance": [],
      "authorship_tag": "ABX9TyPArmPKibenEH8pdkBuOmr0",
      "include_colab_link": true
    },
    "kernelspec": {
      "name": "python3",
      "display_name": "Python 3"
    },
    "language_info": {
      "name": "python"
    }
  },
  "cells": [
    {
      "cell_type": "markdown",
      "metadata": {
        "id": "view-in-github",
        "colab_type": "text"
      },
      "source": [
        "<a href=\"https://colab.research.google.com/github/garfield-gray/manim/blob/main/Practice_Python.ipynb\" target=\"_parent\"><img src=\"https://colab.research.google.com/assets/colab-badge.svg\" alt=\"Open In Colab\"/></a>"
      ]
    },
    {
      "cell_type": "markdown",
      "source": [
        "it sounds lame yeah but I must practice python"
      ],
      "metadata": {
        "id": "7G-IxeACTyqq"
      }
    },
    {
      "cell_type": "code",
      "source": [
        "import numpy as np\n",
        "import math"
      ],
      "metadata": {
        "id": "vikz1erCVHcC"
      },
      "execution_count": 1,
      "outputs": []
    },
    {
      "cell_type": "markdown",
      "source": [
        "# 1-Lists"
      ],
      "metadata": {
        "id": "QrA0lrJiT7ii"
      }
    },
    {
      "cell_type": "code",
      "source": [
        "#indexing, checking\n",
        "\n",
        "\n",
        "l = [1, 3, 'ee', 'qw']\n",
        "\n",
        "print(l[-1])\n",
        "print(l[-2])\n",
        "if 'ee' in l:\n",
        "  print(\"yes\")\n",
        "\n",
        "l.insert(2, 4)\n",
        "print(l)\n",
        "\n",
        "print([1]*7+[4,'hqhq'])"
      ],
      "metadata": {
        "colab": {
          "base_uri": "https://localhost:8080/"
        },
        "id": "KarM3hYJA97g",
        "outputId": "9c489a90-530f-4f95-bf19-a623bd818a08"
      },
      "execution_count": null,
      "outputs": [
        {
          "output_type": "stream",
          "name": "stdout",
          "text": [
            "qw\n",
            "ee\n",
            "yes\n",
            "[1, 3, 4, 'ee', 'qw']\n",
            "[1, 1, 1, 1, 1, 1, 1, 4, 'hqhq']\n"
          ]
        }
      ]
    },
    {
      "cell_type": "code",
      "source": [
        "#repetitive stuff\n",
        "\n",
        "#comprehention\n",
        "a = [np.sqrt(i) for i in range(8)]\n",
        "print(a)\n",
        "b = a[:] #it's the abuse of alicing =)\n",
        "c = [j**2 for j in a]\n",
        "print(c)\n",
        "print(np.ceil(c))\n",
        "print(np.round(c))"
      ],
      "metadata": {
        "colab": {
          "base_uri": "https://localhost:8080/"
        },
        "id": "qorzN6ZtUKHq",
        "outputId": "798b16ff-cca2-45c0-e614-44eff0794c57"
      },
      "execution_count": null,
      "outputs": [
        {
          "output_type": "stream",
          "name": "stdout",
          "text": [
            "[0.0, 1.0, 1.4142135623730951, 1.7320508075688772, 2.0, 2.23606797749979, 2.449489742783178, 2.6457513110645907]\n",
            "[0.0, 1.0, 2.0000000000000004, 2.9999999999999996, 4.0, 5.000000000000001, 5.999999999999999, 7.000000000000001]\n",
            "[0. 1. 3. 3. 4. 6. 6. 8.]\n",
            "[0. 1. 2. 3. 4. 5. 6. 7.]\n"
          ]
        }
      ]
    },
    {
      "cell_type": "code",
      "source": [
        "#slicing\n",
        "l = [i for i in range(17)]\n",
        "print(l)\n",
        "print(l[::-1])\n",
        "lm = l[0:15:2]\n",
        "print(lm)\n",
        "lmm = l[15:0:-2]\n",
        "print(lmm)\n",
        "\n",
        "\n",
        "#I beleive now you must've got it right know(i'm not sure about grammer here!)"
      ],
      "metadata": {
        "colab": {
          "base_uri": "https://localhost:8080/"
        },
        "id": "yACp4025VB6X",
        "outputId": "877aac1b-19c3-4f05-e157-b9f8f1ba6c85"
      },
      "execution_count": null,
      "outputs": [
        {
          "output_type": "stream",
          "name": "stdout",
          "text": [
            "[0, 1, 2, 3, 4, 5, 6, 7, 8, 9, 10, 11, 12, 13, 14, 15, 16]\n",
            "[16, 15, 14, 13, 12, 11, 10, 9, 8, 7, 6, 5, 4, 3, 2, 1, 0]\n",
            "[0, 2, 4, 6, 8, 10, 12, 14]\n",
            "[15, 13, 11, 9, 7, 5, 3, 1]\n"
          ]
        }
      ]
    },
    {
      "cell_type": "code",
      "source": [
        "#copy\n",
        "a = [1,2,3]\n",
        "b = a\n",
        "c = a.copy()\n",
        "a.append(\"rr\")\n",
        "print(a)\n",
        "print(b)\n",
        "print(c)"
      ],
      "metadata": {
        "colab": {
          "base_uri": "https://localhost:8080/"
        },
        "id": "BKBCCwr4SOC1",
        "outputId": "5d280dec-a883-4fd8-ae12-db0a122b0eb4"
      },
      "execution_count": null,
      "outputs": [
        {
          "output_type": "stream",
          "name": "stdout",
          "text": [
            "[1, 2, 3, 'rr']\n",
            "[1, 2, 3, 'rr']\n",
            "[1, 2, 3]\n"
          ]
        }
      ]
    },
    {
      "cell_type": "markdown",
      "source": [
        "# 2-Tuples"
      ],
      "metadata": {
        "id": "RmpZVhokXqoZ"
      }
    },
    {
      "cell_type": "code",
      "source": [
        "t = (1, 'alor', 6)\n",
        "print(t)"
      ],
      "metadata": {
        "colab": {
          "base_uri": "https://localhost:8080/"
        },
        "id": "YKKPpY4tJFpt",
        "outputId": "2f5416f9-0d83-4a1a-e6c0-9c2110a8157d"
      },
      "execution_count": null,
      "outputs": [
        {
          "output_type": "stream",
          "name": "stdout",
          "text": [
            "(1, 'alor', 6)\n"
          ]
        }
      ]
    },
    {
      "cell_type": "code",
      "source": [
        "tu = 1,4,'hi'\n",
        "print(tu)\n",
        "# note: parentheses are optional in python, now ypu get sth like \"a, b = f(blah blah)\" =))"
      ],
      "metadata": {
        "colab": {
          "base_uri": "https://localhost:8080/"
        },
        "id": "JWbpGn6wJM8x",
        "outputId": "8981493a-ebf0-4194-b5f8-b182669380a5"
      },
      "execution_count": null,
      "outputs": [
        {
          "output_type": "stream",
          "name": "stdout",
          "text": [
            "(1, 4, 'hi')\n"
          ]
        }
      ]
    },
    {
      "cell_type": "code",
      "source": [
        "# slicing, indexing, if   in statement are mainly like what we had in the list"
      ],
      "metadata": {
        "id": "Xi4pBnndJUKk"
      },
      "execution_count": null,
      "outputs": []
    },
    {
      "cell_type": "code",
      "source": [
        "i1, i2, i3 = ('q', 'u', 'p')\n",
        "print(i1)"
      ],
      "metadata": {
        "colab": {
          "base_uri": "https://localhost:8080/"
        },
        "id": "9-wEpqOjJ_m1",
        "outputId": "5ef0e21f-5273-49cd-b007-cd6ccda95674"
      },
      "execution_count": null,
      "outputs": [
        {
          "output_type": "stream",
          "name": "stdout",
          "text": [
            "q\n"
          ]
        }
      ]
    },
    {
      "cell_type": "code",
      "source": [
        "#Wow\n",
        "i1, *i2, i3 = ('q', 'u','k','r', 'p')\n",
        "print(i2)\n",
        "i1, i2, *i3 = ('q', 'u','k','r', 'p')\n",
        "print(i3)"
      ],
      "metadata": {
        "colab": {
          "base_uri": "https://localhost:8080/"
        },
        "id": "gFuQhRLeKNK_",
        "outputId": "58f732c1-d47a-4cdb-c7b0-24521e26f9d2"
      },
      "execution_count": null,
      "outputs": [
        {
          "output_type": "stream",
          "name": "stdout",
          "text": [
            "['u', 'k', 'r']\n",
            "['k', 'r', 'p']\n"
          ]
        }
      ]
    },
    {
      "cell_type": "code",
      "source": [
        "import sys\n",
        "print(sys.getsizeof(i3))\n",
        "print(sys.getsizeof(i1))\n",
        "#I beleive know you get what's sys for=)"
      ],
      "metadata": {
        "colab": {
          "base_uri": "https://localhost:8080/"
        },
        "id": "3o9V6cmLKZZ5",
        "outputId": "ba6fb310-6add-4c89-9e93-11c75b3cb029"
      },
      "execution_count": null,
      "outputs": [
        {
          "output_type": "stream",
          "name": "stdout",
          "text": [
            "88\n",
            "50\n"
          ]
        }
      ]
    },
    {
      "cell_type": "code",
      "source": [
        "import timeit\n",
        "\n",
        "\n",
        "print(timeit.timeit(stmt=\"[1,2,4]\", number=10000000))\n",
        "print(timeit.timeit(stmt=\"(1,2,4)\", number=10000000))"
      ],
      "metadata": {
        "colab": {
          "base_uri": "https://localhost:8080/"
        },
        "id": "CG2JFf-qDr0z",
        "outputId": "0f1c40fa-7b56-45da-d078-6e1c9554774b"
      },
      "execution_count": null,
      "outputs": [
        {
          "output_type": "stream",
          "name": "stdout",
          "text": [
            "0.5759982550000018\n",
            "0.10876435299996956\n"
          ]
        }
      ]
    },
    {
      "cell_type": "markdown",
      "source": [
        "# 3-Dictionaries"
      ],
      "metadata": {
        "id": "BAB1RrLeK4a_"
      }
    },
    {
      "cell_type": "code",
      "source": [
        "# unordered and mutable\n",
        "# cause it's unordered, there's no indexing\n",
        "d = {'key':'value', 'h':'j', 'h':'g'}\n",
        "print(d)\n",
        "print(d['h'])\n",
        "print(d.items())\n",
        "print(type(d.items()))\n",
        "print(d.keys())\n",
        "print(type(d.keys()))"
      ],
      "metadata": {
        "id": "4n6KQn9iLKfT",
        "colab": {
          "base_uri": "https://localhost:8080/"
        },
        "outputId": "33f41f81-78bc-49e5-9b0c-cc47d9e9b517"
      },
      "execution_count": null,
      "outputs": [
        {
          "output_type": "stream",
          "name": "stdout",
          "text": [
            "{'key': 'value', 'h': 'g'}\n",
            "g\n",
            "dict_items([('key', 'value'), ('h', 'g')])\n",
            "<class 'dict_items'>\n",
            "dict_keys(['key', 'h'])\n",
            "<class 'dict_keys'>\n"
          ]
        }
      ]
    },
    {
      "cell_type": "code",
      "source": [
        "# keys must be hashable variables(for instance, tuples could but lists couldn't)\n",
        "di = {(1,2): 'w', 3:6, 'rt':'er', 'tr':[1,2,3]}\n",
        "di[\"dd\"] = \"oo\"\n",
        "print (di)"
      ],
      "metadata": {
        "colab": {
          "base_uri": "https://localhost:8080/"
        },
        "id": "cNuuuJi62AzL",
        "outputId": "c34f5055-c41c-43fe-c095-bfde6f3994a5"
      },
      "execution_count": null,
      "outputs": [
        {
          "output_type": "stream",
          "name": "stdout",
          "text": [
            "{(1, 2): 'w', 3: 6, 'rt': 'er', 'tr': [1, 2, 3], 'dd': 'oo'}\n"
          ]
        }
      ]
    },
    {
      "cell_type": "code",
      "source": [
        "for value in di:\n",
        "  print(value)\n",
        "\n",
        "for value in di.values():\n",
        "  print(value)\n",
        "\n",
        "for v in di.items():\n",
        "  print(v)"
      ],
      "metadata": {
        "colab": {
          "base_uri": "https://localhost:8080/"
        },
        "id": "eqYza9NVExRT",
        "outputId": "99101fdd-a3a9-4b64-96bd-a2dbc5c4d942"
      },
      "execution_count": null,
      "outputs": [
        {
          "output_type": "stream",
          "name": "stdout",
          "text": [
            "(1, 2)\n",
            "3\n",
            "rt\n",
            "tr\n",
            "dd\n",
            "w\n",
            "6\n",
            "er\n",
            "[1, 2, 3]\n",
            "oo\n",
            "((1, 2), 'w')\n",
            "(3, 6)\n",
            "('rt', 'er')\n",
            "('tr', [1, 2, 3])\n",
            "('dd', 'oo')\n"
          ]
        }
      ]
    },
    {
      "cell_type": "code",
      "source": [
        "d1 = {\"name\":\"mary\", \"sur_name\":\"GH\", \"age\": 23 }\n",
        "d2 = {\"name\":\"maria\", \"sur_name\":\"GH\", \"mail\": \"sth@smwhere.com\"}\n",
        "d1.update(d2)\n",
        "print(d1)"
      ],
      "metadata": {
        "colab": {
          "base_uri": "https://localhost:8080/"
        },
        "id": "dlC4CCPzFxuq",
        "outputId": "0439c87a-6396-4634-89d4-0b651569b5c9"
      },
      "execution_count": null,
      "outputs": [
        {
          "output_type": "stream",
          "name": "stdout",
          "text": [
            "{'name': 'maria', 'sur_name': 'GH', 'age': 23, 'mail': 'sth@smwhere.com'}\n"
          ]
        }
      ]
    },
    {
      "cell_type": "code",
      "source": [],
      "metadata": {
        "id": "yTr6aMw4Gloa"
      },
      "execution_count": null,
      "outputs": []
    },
    {
      "cell_type": "markdown",
      "source": [
        "# 4-Sets"
      ],
      "metadata": {
        "id": "s_yniWD55XmR"
      }
    },
    {
      "cell_type": "code",
      "source": [
        "#unordered, mutable, no duplicate\n",
        "# just like sets in mathematics\n",
        "s = {1, 2, 'r'}\n",
        "print(s)"
      ],
      "metadata": {
        "colab": {
          "base_uri": "https://localhost:8080/"
        },
        "id": "RZvXwi6c5iTW",
        "outputId": "bd36c2a8-b3da-4a79-b1a5-98f40f6b8c32"
      },
      "execution_count": null,
      "outputs": [
        {
          "output_type": "stream",
          "name": "stdout",
          "text": [
            "{'r', 1, 2}\n"
          ]
        }
      ]
    },
    {
      "cell_type": "code",
      "source": [
        "se = set('alor on dance')\n",
        "print(se)"
      ],
      "metadata": {
        "colab": {
          "base_uri": "https://localhost:8080/"
        },
        "id": "v9D40P9t55dq",
        "outputId": "67f1f27e-250a-45e1-ae58-9b1538e844f9"
      },
      "execution_count": null,
      "outputs": [
        {
          "output_type": "stream",
          "name": "stdout",
          "text": [
            "{'n', 'e', 'a', ' ', 'c', 'r', 'o', 'd', 'l'}\n"
          ]
        }
      ]
    },
    {
      "cell_type": "code",
      "source": [
        "print(s.union(se))\n",
        "print(s.intersection(se))"
      ],
      "metadata": {
        "colab": {
          "base_uri": "https://localhost:8080/"
        },
        "id": "-y1QHIZN5-cw",
        "outputId": "3595be2d-8d20-4070-a691-57991c1bb609"
      },
      "execution_count": null,
      "outputs": [
        {
          "output_type": "stream",
          "name": "stdout",
          "text": [
            "{1, 2, 'n', 'e', 'a', ' ', 'c', 'r', 'o', 'd', 'l'}\n",
            "{'r'}\n"
          ]
        }
      ]
    },
    {
      "cell_type": "code",
      "source": [
        "print(s.issubset({1,2}))\n",
        "print(s.issuperset({1,2}))\n",
        "#frozenset -> immutable"
      ],
      "metadata": {
        "colab": {
          "base_uri": "https://localhost:8080/"
        },
        "id": "mR1Ffhqr6MPg",
        "outputId": "00fe21b2-a927-4069-c3ce-a1b9c1160755"
      },
      "execution_count": null,
      "outputs": [
        {
          "output_type": "stream",
          "name": "stdout",
          "text": [
            "False\n",
            "True\n"
          ]
        }
      ]
    },
    {
      "cell_type": "code",
      "source": [
        "a = {1,2,3,'r'}\n",
        "b = {2,4,1,'u'}\n",
        "c = a|b\n",
        "print(c)\n",
        "# it's new=)"
      ],
      "metadata": {
        "colab": {
          "base_uri": "https://localhost:8080/"
        },
        "id": "jSs0Me4fNoyA",
        "outputId": "488279be-4f60-4d65-9f9c-bf262ce4eedd"
      },
      "execution_count": null,
      "outputs": [
        {
          "output_type": "stream",
          "name": "stdout",
          "text": [
            "{'r', 1, 2, 3, 4, 'u'}\n"
          ]
        }
      ]
    },
    {
      "cell_type": "markdown",
      "source": [
        "# 5-Strings"
      ],
      "metadata": {
        "id": "YRC2J5Gx6guC"
      }
    },
    {
      "cell_type": "code",
      "source": [
        "# ordered and immutable\n",
        "\n",
        "s = \"\"\"elon musk\"\"\"\n",
        "print(s[1:4])"
      ],
      "metadata": {
        "id": "w8mHwy_B6ruH",
        "colab": {
          "base_uri": "https://localhost:8080/"
        },
        "outputId": "9b67bc45-29e3-4058-8e66-f4c2e5c6dee8"
      },
      "execution_count": null,
      "outputs": [
        {
          "output_type": "stream",
          "name": "stdout",
          "text": [
            "lon\n"
          ]
        }
      ]
    },
    {
      "cell_type": "code",
      "source": [
        "if 'm' in s:\n",
        "  print('yep')\n",
        "else:\n",
        "  print('nope')"
      ],
      "metadata": {
        "colab": {
          "base_uri": "https://localhost:8080/"
        },
        "id": "8z90eYXup_Co",
        "outputId": "c7514fb7-875e-4ef7-d0cb-09f5c095d19b"
      },
      "execution_count": null,
      "outputs": [
        {
          "output_type": "stream",
          "name": "stdout",
          "text": [
            "yep\n"
          ]
        }
      ]
    },
    {
      "cell_type": "code",
      "source": [
        "st = \"let all the hurts inside you die \"\n",
        "stsrtip = st.strip()\n",
        "print(stsrtip)\n",
        "ststa = st.startswith('l')\n",
        "print(ststa)\n",
        "print(st.find('e'))\n",
        "print(st.count('e'))\n",
        "print(st.replace('e', 'x'))\n",
        "\n",
        "stlist = st.split()\n",
        "print(stlist)\n",
        "\n",
        "stlistc = st.split(sep = ',') #didn't get this one\n",
        "print(stlistc)\n",
        "\n",
        "print(''.join(stlist))\n",
        "\n",
        "\n"
      ],
      "metadata": {
        "colab": {
          "base_uri": "https://localhost:8080/"
        },
        "id": "GDLyrvFrp_Sf",
        "outputId": "ad0e0377-db8d-4351-f5a7-1cc3c2e220f9"
      },
      "execution_count": null,
      "outputs": [
        {
          "output_type": "stream",
          "name": "stdout",
          "text": [
            "let all the hurts inside you die\n",
            "True\n",
            "1\n",
            "4\n",
            "lxt all thx hurts insidx you dix \n",
            "['let', 'all', 'the', 'hurts', 'inside', 'you', 'die']\n",
            "['let all the hurts inside you die ']\n",
            "letallthehurtsinsideyoudie\n"
          ]
        }
      ]
    },
    {
      "cell_type": "code",
      "source": [
        "n = 2\n",
        "print(f\"I want {n}\")"
      ],
      "metadata": {
        "colab": {
          "base_uri": "https://localhost:8080/"
        },
        "id": "wnuYa9QStFSF",
        "outputId": "a69025ad-1802-48be-e4d6-f36dc3e1044c"
      },
      "execution_count": null,
      "outputs": [
        {
          "output_type": "stream",
          "name": "stdout",
          "text": [
            "I want 2\n"
          ]
        }
      ]
    },
    {
      "cell_type": "markdown",
      "source": [
        "# 6-Collections"
      ],
      "metadata": {
        "id": "FviSg0nsp_zv"
      }
    },
    {
      "cell_type": "code",
      "source": [
        "from collections import Counter,namedtuple,deque"
      ],
      "metadata": {
        "id": "8cITc7Izp_-U"
      },
      "execution_count": null,
      "outputs": []
    },
    {
      "cell_type": "code",
      "source": [
        "st = \"How can I be HOmophobic, my bitch is gay\"\n",
        "print(Counter(st))\n"
      ],
      "metadata": {
        "colab": {
          "base_uri": "https://localhost:8080/"
        },
        "id": "BcIfXUozqGrb",
        "outputId": "ae54d2f1-4511-4f08-9c9e-6c851e255151"
      },
      "execution_count": null,
      "outputs": [
        {
          "output_type": "stream",
          "name": "stdout",
          "text": [
            "Counter({' ': 8, 'o': 3, 'c': 3, 'b': 3, 'i': 3, 'H': 2, 'a': 2, 'm': 2, 'h': 2, 'y': 2, 'w': 1, 'n': 1, 'I': 1, 'e': 1, 'O': 1, 'p': 1, ',': 1, 't': 1, 's': 1, 'g': 1})\n"
          ]
        }
      ]
    },
    {
      "cell_type": "code",
      "source": [
        "Point3d = namedtuple('Point3d', 'x,y,z')\n",
        "\n",
        "\n",
        "p = Point3d(2,3,1)\n",
        "print(p)\n",
        "print(p.z)"
      ],
      "metadata": {
        "colab": {
          "base_uri": "https://localhost:8080/"
        },
        "id": "UaZQXZ4GmTra",
        "outputId": "9b8f6bc4-3891-4484-b185-9665077eabbc"
      },
      "execution_count": null,
      "outputs": [
        {
          "output_type": "stream",
          "name": "stdout",
          "text": [
            "Point3d(x=2, y=3, z=1)\n",
            "1\n"
          ]
        }
      ]
    },
    {
      "cell_type": "code",
      "source": [],
      "metadata": {
        "id": "YgGBhGRQnL01"
      },
      "execution_count": null,
      "outputs": []
    },
    {
      "cell_type": "code",
      "source": [
        "d = deque(stlist)\n",
        "print(d)\n",
        "d.rotate(1)\n",
        "print(d)\n",
        "# deque also has append, pop etc\n",
        "\n",
        "#collections also has other useful things that you can go over"
      ],
      "metadata": {
        "colab": {
          "base_uri": "https://localhost:8080/"
        },
        "id": "Fp60dYQeqG4r",
        "outputId": "59a92c92-9f3a-4092-fb8e-5f8ab0224454"
      },
      "execution_count": null,
      "outputs": [
        {
          "output_type": "stream",
          "name": "stdout",
          "text": [
            "deque(['let', 'all', 'the', 'hurts', 'inside', 'you', 'die'])\n",
            "deque(['die', 'let', 'all', 'the', 'hurts', 'inside', 'you'])\n"
          ]
        }
      ]
    },
    {
      "cell_type": "markdown",
      "source": [
        "# 7-Itertools"
      ],
      "metadata": {
        "id": "IVgIZsjiqHIg"
      }
    },
    {
      "cell_type": "code",
      "source": [
        "from itertools import product,permutations,combinations,groupby"
      ],
      "metadata": {
        "id": "qxWYpwATqOhp"
      },
      "execution_count": null,
      "outputs": []
    },
    {
      "cell_type": "code",
      "source": [
        "a = list(range(-4,5))\n",
        "for i in a:\n",
        "  print(i)"
      ],
      "metadata": {
        "colab": {
          "base_uri": "https://localhost:8080/"
        },
        "id": "Cg185qhJYz2s",
        "outputId": "3444fcb8-f577-4a6b-e6b3-42aceda3423d"
      },
      "execution_count": null,
      "outputs": [
        {
          "output_type": "stream",
          "name": "stdout",
          "text": [
            "-4\n",
            "-3\n",
            "-2\n",
            "-1\n",
            "0\n",
            "1\n",
            "2\n",
            "3\n",
            "4\n"
          ]
        }
      ]
    },
    {
      "cell_type": "code",
      "source": [
        "b = a.copy()\n",
        "prod = product(a,b)\n",
        "for i in prod:\n",
        "  print(i)"
      ],
      "metadata": {
        "colab": {
          "base_uri": "https://localhost:8080/"
        },
        "id": "S1ddmvb5bHIf",
        "outputId": "db3a6e56-3b26-4a6f-91bb-73fcaef7f395"
      },
      "execution_count": null,
      "outputs": [
        {
          "output_type": "stream",
          "name": "stdout",
          "text": [
            "(-4, -4)\n",
            "(-4, -3)\n",
            "(-4, -2)\n",
            "(-4, -1)\n",
            "(-4, 0)\n",
            "(-4, 1)\n",
            "(-4, 2)\n",
            "(-4, 3)\n",
            "(-4, 4)\n",
            "(-3, -4)\n",
            "(-3, -3)\n",
            "(-3, -2)\n",
            "(-3, -1)\n",
            "(-3, 0)\n",
            "(-3, 1)\n",
            "(-3, 2)\n",
            "(-3, 3)\n",
            "(-3, 4)\n",
            "(-2, -4)\n",
            "(-2, -3)\n",
            "(-2, -2)\n",
            "(-2, -1)\n",
            "(-2, 0)\n",
            "(-2, 1)\n",
            "(-2, 2)\n",
            "(-2, 3)\n",
            "(-2, 4)\n",
            "(-1, -4)\n",
            "(-1, -3)\n",
            "(-1, -2)\n",
            "(-1, -1)\n",
            "(-1, 0)\n",
            "(-1, 1)\n",
            "(-1, 2)\n",
            "(-1, 3)\n",
            "(-1, 4)\n",
            "(0, -4)\n",
            "(0, -3)\n",
            "(0, -2)\n",
            "(0, -1)\n",
            "(0, 0)\n",
            "(0, 1)\n",
            "(0, 2)\n",
            "(0, 3)\n",
            "(0, 4)\n",
            "(1, -4)\n",
            "(1, -3)\n",
            "(1, -2)\n",
            "(1, -1)\n",
            "(1, 0)\n",
            "(1, 1)\n",
            "(1, 2)\n",
            "(1, 3)\n",
            "(1, 4)\n",
            "(2, -4)\n",
            "(2, -3)\n",
            "(2, -2)\n",
            "(2, -1)\n",
            "(2, 0)\n",
            "(2, 1)\n",
            "(2, 2)\n",
            "(2, 3)\n",
            "(2, 4)\n",
            "(3, -4)\n",
            "(3, -3)\n",
            "(3, -2)\n",
            "(3, -1)\n",
            "(3, 0)\n",
            "(3, 1)\n",
            "(3, 2)\n",
            "(3, 3)\n",
            "(3, 4)\n",
            "(4, -4)\n",
            "(4, -3)\n",
            "(4, -2)\n",
            "(4, -1)\n",
            "(4, 0)\n",
            "(4, 1)\n",
            "(4, 2)\n",
            "(4, 3)\n",
            "(4, 4)\n"
          ]
        }
      ]
    },
    {
      "cell_type": "code",
      "source": [
        "a = list(range(-2,3))\n",
        "b = a.copy()\n",
        "p = product(a,b,repeat=2)\n",
        "for i in p:\n",
        "  print(i)"
      ],
      "metadata": {
        "colab": {
          "base_uri": "https://localhost:8080/"
        },
        "id": "7SBAwkc3bSIO",
        "outputId": "8e308814-c545-473c-9ae1-a003d4dfacd3"
      },
      "execution_count": null,
      "outputs": [
        {
          "output_type": "stream",
          "name": "stdout",
          "text": [
            "(-2, -2, -2, -2)\n",
            "(-2, -2, -2, -1)\n",
            "(-2, -2, -2, 0)\n",
            "(-2, -2, -2, 1)\n",
            "(-2, -2, -2, 2)\n",
            "(-2, -2, -1, -2)\n",
            "(-2, -2, -1, -1)\n",
            "(-2, -2, -1, 0)\n",
            "(-2, -2, -1, 1)\n",
            "(-2, -2, -1, 2)\n",
            "(-2, -2, 0, -2)\n",
            "(-2, -2, 0, -1)\n",
            "(-2, -2, 0, 0)\n",
            "(-2, -2, 0, 1)\n",
            "(-2, -2, 0, 2)\n",
            "(-2, -2, 1, -2)\n",
            "(-2, -2, 1, -1)\n",
            "(-2, -2, 1, 0)\n",
            "(-2, -2, 1, 1)\n",
            "(-2, -2, 1, 2)\n",
            "(-2, -2, 2, -2)\n",
            "(-2, -2, 2, -1)\n",
            "(-2, -2, 2, 0)\n",
            "(-2, -2, 2, 1)\n",
            "(-2, -2, 2, 2)\n",
            "(-2, -1, -2, -2)\n",
            "(-2, -1, -2, -1)\n",
            "(-2, -1, -2, 0)\n",
            "(-2, -1, -2, 1)\n",
            "(-2, -1, -2, 2)\n",
            "(-2, -1, -1, -2)\n",
            "(-2, -1, -1, -1)\n",
            "(-2, -1, -1, 0)\n",
            "(-2, -1, -1, 1)\n",
            "(-2, -1, -1, 2)\n",
            "(-2, -1, 0, -2)\n",
            "(-2, -1, 0, -1)\n",
            "(-2, -1, 0, 0)\n",
            "(-2, -1, 0, 1)\n",
            "(-2, -1, 0, 2)\n",
            "(-2, -1, 1, -2)\n",
            "(-2, -1, 1, -1)\n",
            "(-2, -1, 1, 0)\n",
            "(-2, -1, 1, 1)\n",
            "(-2, -1, 1, 2)\n",
            "(-2, -1, 2, -2)\n",
            "(-2, -1, 2, -1)\n",
            "(-2, -1, 2, 0)\n",
            "(-2, -1, 2, 1)\n",
            "(-2, -1, 2, 2)\n",
            "(-2, 0, -2, -2)\n",
            "(-2, 0, -2, -1)\n",
            "(-2, 0, -2, 0)\n",
            "(-2, 0, -2, 1)\n",
            "(-2, 0, -2, 2)\n",
            "(-2, 0, -1, -2)\n",
            "(-2, 0, -1, -1)\n",
            "(-2, 0, -1, 0)\n",
            "(-2, 0, -1, 1)\n",
            "(-2, 0, -1, 2)\n",
            "(-2, 0, 0, -2)\n",
            "(-2, 0, 0, -1)\n",
            "(-2, 0, 0, 0)\n",
            "(-2, 0, 0, 1)\n",
            "(-2, 0, 0, 2)\n",
            "(-2, 0, 1, -2)\n",
            "(-2, 0, 1, -1)\n",
            "(-2, 0, 1, 0)\n",
            "(-2, 0, 1, 1)\n",
            "(-2, 0, 1, 2)\n",
            "(-2, 0, 2, -2)\n",
            "(-2, 0, 2, -1)\n",
            "(-2, 0, 2, 0)\n",
            "(-2, 0, 2, 1)\n",
            "(-2, 0, 2, 2)\n",
            "(-2, 1, -2, -2)\n",
            "(-2, 1, -2, -1)\n",
            "(-2, 1, -2, 0)\n",
            "(-2, 1, -2, 1)\n",
            "(-2, 1, -2, 2)\n",
            "(-2, 1, -1, -2)\n",
            "(-2, 1, -1, -1)\n",
            "(-2, 1, -1, 0)\n",
            "(-2, 1, -1, 1)\n",
            "(-2, 1, -1, 2)\n",
            "(-2, 1, 0, -2)\n",
            "(-2, 1, 0, -1)\n",
            "(-2, 1, 0, 0)\n",
            "(-2, 1, 0, 1)\n",
            "(-2, 1, 0, 2)\n",
            "(-2, 1, 1, -2)\n",
            "(-2, 1, 1, -1)\n",
            "(-2, 1, 1, 0)\n",
            "(-2, 1, 1, 1)\n",
            "(-2, 1, 1, 2)\n",
            "(-2, 1, 2, -2)\n",
            "(-2, 1, 2, -1)\n",
            "(-2, 1, 2, 0)\n",
            "(-2, 1, 2, 1)\n",
            "(-2, 1, 2, 2)\n",
            "(-2, 2, -2, -2)\n",
            "(-2, 2, -2, -1)\n",
            "(-2, 2, -2, 0)\n",
            "(-2, 2, -2, 1)\n",
            "(-2, 2, -2, 2)\n",
            "(-2, 2, -1, -2)\n",
            "(-2, 2, -1, -1)\n",
            "(-2, 2, -1, 0)\n",
            "(-2, 2, -1, 1)\n",
            "(-2, 2, -1, 2)\n",
            "(-2, 2, 0, -2)\n",
            "(-2, 2, 0, -1)\n",
            "(-2, 2, 0, 0)\n",
            "(-2, 2, 0, 1)\n",
            "(-2, 2, 0, 2)\n",
            "(-2, 2, 1, -2)\n",
            "(-2, 2, 1, -1)\n",
            "(-2, 2, 1, 0)\n",
            "(-2, 2, 1, 1)\n",
            "(-2, 2, 1, 2)\n",
            "(-2, 2, 2, -2)\n",
            "(-2, 2, 2, -1)\n",
            "(-2, 2, 2, 0)\n",
            "(-2, 2, 2, 1)\n",
            "(-2, 2, 2, 2)\n",
            "(-1, -2, -2, -2)\n",
            "(-1, -2, -2, -1)\n",
            "(-1, -2, -2, 0)\n",
            "(-1, -2, -2, 1)\n",
            "(-1, -2, -2, 2)\n",
            "(-1, -2, -1, -2)\n",
            "(-1, -2, -1, -1)\n",
            "(-1, -2, -1, 0)\n",
            "(-1, -2, -1, 1)\n",
            "(-1, -2, -1, 2)\n",
            "(-1, -2, 0, -2)\n",
            "(-1, -2, 0, -1)\n",
            "(-1, -2, 0, 0)\n",
            "(-1, -2, 0, 1)\n",
            "(-1, -2, 0, 2)\n",
            "(-1, -2, 1, -2)\n",
            "(-1, -2, 1, -1)\n",
            "(-1, -2, 1, 0)\n",
            "(-1, -2, 1, 1)\n",
            "(-1, -2, 1, 2)\n",
            "(-1, -2, 2, -2)\n",
            "(-1, -2, 2, -1)\n",
            "(-1, -2, 2, 0)\n",
            "(-1, -2, 2, 1)\n",
            "(-1, -2, 2, 2)\n",
            "(-1, -1, -2, -2)\n",
            "(-1, -1, -2, -1)\n",
            "(-1, -1, -2, 0)\n",
            "(-1, -1, -2, 1)\n",
            "(-1, -1, -2, 2)\n",
            "(-1, -1, -1, -2)\n",
            "(-1, -1, -1, -1)\n",
            "(-1, -1, -1, 0)\n",
            "(-1, -1, -1, 1)\n",
            "(-1, -1, -1, 2)\n",
            "(-1, -1, 0, -2)\n",
            "(-1, -1, 0, -1)\n",
            "(-1, -1, 0, 0)\n",
            "(-1, -1, 0, 1)\n",
            "(-1, -1, 0, 2)\n",
            "(-1, -1, 1, -2)\n",
            "(-1, -1, 1, -1)\n",
            "(-1, -1, 1, 0)\n",
            "(-1, -1, 1, 1)\n",
            "(-1, -1, 1, 2)\n",
            "(-1, -1, 2, -2)\n",
            "(-1, -1, 2, -1)\n",
            "(-1, -1, 2, 0)\n",
            "(-1, -1, 2, 1)\n",
            "(-1, -1, 2, 2)\n",
            "(-1, 0, -2, -2)\n",
            "(-1, 0, -2, -1)\n",
            "(-1, 0, -2, 0)\n",
            "(-1, 0, -2, 1)\n",
            "(-1, 0, -2, 2)\n",
            "(-1, 0, -1, -2)\n",
            "(-1, 0, -1, -1)\n",
            "(-1, 0, -1, 0)\n",
            "(-1, 0, -1, 1)\n",
            "(-1, 0, -1, 2)\n",
            "(-1, 0, 0, -2)\n",
            "(-1, 0, 0, -1)\n",
            "(-1, 0, 0, 0)\n",
            "(-1, 0, 0, 1)\n",
            "(-1, 0, 0, 2)\n",
            "(-1, 0, 1, -2)\n",
            "(-1, 0, 1, -1)\n",
            "(-1, 0, 1, 0)\n",
            "(-1, 0, 1, 1)\n",
            "(-1, 0, 1, 2)\n",
            "(-1, 0, 2, -2)\n",
            "(-1, 0, 2, -1)\n",
            "(-1, 0, 2, 0)\n",
            "(-1, 0, 2, 1)\n",
            "(-1, 0, 2, 2)\n",
            "(-1, 1, -2, -2)\n",
            "(-1, 1, -2, -1)\n",
            "(-1, 1, -2, 0)\n",
            "(-1, 1, -2, 1)\n",
            "(-1, 1, -2, 2)\n",
            "(-1, 1, -1, -2)\n",
            "(-1, 1, -1, -1)\n",
            "(-1, 1, -1, 0)\n",
            "(-1, 1, -1, 1)\n",
            "(-1, 1, -1, 2)\n",
            "(-1, 1, 0, -2)\n",
            "(-1, 1, 0, -1)\n",
            "(-1, 1, 0, 0)\n",
            "(-1, 1, 0, 1)\n",
            "(-1, 1, 0, 2)\n",
            "(-1, 1, 1, -2)\n",
            "(-1, 1, 1, -1)\n",
            "(-1, 1, 1, 0)\n",
            "(-1, 1, 1, 1)\n",
            "(-1, 1, 1, 2)\n",
            "(-1, 1, 2, -2)\n",
            "(-1, 1, 2, -1)\n",
            "(-1, 1, 2, 0)\n",
            "(-1, 1, 2, 1)\n",
            "(-1, 1, 2, 2)\n",
            "(-1, 2, -2, -2)\n",
            "(-1, 2, -2, -1)\n",
            "(-1, 2, -2, 0)\n",
            "(-1, 2, -2, 1)\n",
            "(-1, 2, -2, 2)\n",
            "(-1, 2, -1, -2)\n",
            "(-1, 2, -1, -1)\n",
            "(-1, 2, -1, 0)\n",
            "(-1, 2, -1, 1)\n",
            "(-1, 2, -1, 2)\n",
            "(-1, 2, 0, -2)\n",
            "(-1, 2, 0, -1)\n",
            "(-1, 2, 0, 0)\n",
            "(-1, 2, 0, 1)\n",
            "(-1, 2, 0, 2)\n",
            "(-1, 2, 1, -2)\n",
            "(-1, 2, 1, -1)\n",
            "(-1, 2, 1, 0)\n",
            "(-1, 2, 1, 1)\n",
            "(-1, 2, 1, 2)\n",
            "(-1, 2, 2, -2)\n",
            "(-1, 2, 2, -1)\n",
            "(-1, 2, 2, 0)\n",
            "(-1, 2, 2, 1)\n",
            "(-1, 2, 2, 2)\n",
            "(0, -2, -2, -2)\n",
            "(0, -2, -2, -1)\n",
            "(0, -2, -2, 0)\n",
            "(0, -2, -2, 1)\n",
            "(0, -2, -2, 2)\n",
            "(0, -2, -1, -2)\n",
            "(0, -2, -1, -1)\n",
            "(0, -2, -1, 0)\n",
            "(0, -2, -1, 1)\n",
            "(0, -2, -1, 2)\n",
            "(0, -2, 0, -2)\n",
            "(0, -2, 0, -1)\n",
            "(0, -2, 0, 0)\n",
            "(0, -2, 0, 1)\n",
            "(0, -2, 0, 2)\n",
            "(0, -2, 1, -2)\n",
            "(0, -2, 1, -1)\n",
            "(0, -2, 1, 0)\n",
            "(0, -2, 1, 1)\n",
            "(0, -2, 1, 2)\n",
            "(0, -2, 2, -2)\n",
            "(0, -2, 2, -1)\n",
            "(0, -2, 2, 0)\n",
            "(0, -2, 2, 1)\n",
            "(0, -2, 2, 2)\n",
            "(0, -1, -2, -2)\n",
            "(0, -1, -2, -1)\n",
            "(0, -1, -2, 0)\n",
            "(0, -1, -2, 1)\n",
            "(0, -1, -2, 2)\n",
            "(0, -1, -1, -2)\n",
            "(0, -1, -1, -1)\n",
            "(0, -1, -1, 0)\n",
            "(0, -1, -1, 1)\n",
            "(0, -1, -1, 2)\n",
            "(0, -1, 0, -2)\n",
            "(0, -1, 0, -1)\n",
            "(0, -1, 0, 0)\n",
            "(0, -1, 0, 1)\n",
            "(0, -1, 0, 2)\n",
            "(0, -1, 1, -2)\n",
            "(0, -1, 1, -1)\n",
            "(0, -1, 1, 0)\n",
            "(0, -1, 1, 1)\n",
            "(0, -1, 1, 2)\n",
            "(0, -1, 2, -2)\n",
            "(0, -1, 2, -1)\n",
            "(0, -1, 2, 0)\n",
            "(0, -1, 2, 1)\n",
            "(0, -1, 2, 2)\n",
            "(0, 0, -2, -2)\n",
            "(0, 0, -2, -1)\n",
            "(0, 0, -2, 0)\n",
            "(0, 0, -2, 1)\n",
            "(0, 0, -2, 2)\n",
            "(0, 0, -1, -2)\n",
            "(0, 0, -1, -1)\n",
            "(0, 0, -1, 0)\n",
            "(0, 0, -1, 1)\n",
            "(0, 0, -1, 2)\n",
            "(0, 0, 0, -2)\n",
            "(0, 0, 0, -1)\n",
            "(0, 0, 0, 0)\n",
            "(0, 0, 0, 1)\n",
            "(0, 0, 0, 2)\n",
            "(0, 0, 1, -2)\n",
            "(0, 0, 1, -1)\n",
            "(0, 0, 1, 0)\n",
            "(0, 0, 1, 1)\n",
            "(0, 0, 1, 2)\n",
            "(0, 0, 2, -2)\n",
            "(0, 0, 2, -1)\n",
            "(0, 0, 2, 0)\n",
            "(0, 0, 2, 1)\n",
            "(0, 0, 2, 2)\n",
            "(0, 1, -2, -2)\n",
            "(0, 1, -2, -1)\n",
            "(0, 1, -2, 0)\n",
            "(0, 1, -2, 1)\n",
            "(0, 1, -2, 2)\n",
            "(0, 1, -1, -2)\n",
            "(0, 1, -1, -1)\n",
            "(0, 1, -1, 0)\n",
            "(0, 1, -1, 1)\n",
            "(0, 1, -1, 2)\n",
            "(0, 1, 0, -2)\n",
            "(0, 1, 0, -1)\n",
            "(0, 1, 0, 0)\n",
            "(0, 1, 0, 1)\n",
            "(0, 1, 0, 2)\n",
            "(0, 1, 1, -2)\n",
            "(0, 1, 1, -1)\n",
            "(0, 1, 1, 0)\n",
            "(0, 1, 1, 1)\n",
            "(0, 1, 1, 2)\n",
            "(0, 1, 2, -2)\n",
            "(0, 1, 2, -1)\n",
            "(0, 1, 2, 0)\n",
            "(0, 1, 2, 1)\n",
            "(0, 1, 2, 2)\n",
            "(0, 2, -2, -2)\n",
            "(0, 2, -2, -1)\n",
            "(0, 2, -2, 0)\n",
            "(0, 2, -2, 1)\n",
            "(0, 2, -2, 2)\n",
            "(0, 2, -1, -2)\n",
            "(0, 2, -1, -1)\n",
            "(0, 2, -1, 0)\n",
            "(0, 2, -1, 1)\n",
            "(0, 2, -1, 2)\n",
            "(0, 2, 0, -2)\n",
            "(0, 2, 0, -1)\n",
            "(0, 2, 0, 0)\n",
            "(0, 2, 0, 1)\n",
            "(0, 2, 0, 2)\n",
            "(0, 2, 1, -2)\n",
            "(0, 2, 1, -1)\n",
            "(0, 2, 1, 0)\n",
            "(0, 2, 1, 1)\n",
            "(0, 2, 1, 2)\n",
            "(0, 2, 2, -2)\n",
            "(0, 2, 2, -1)\n",
            "(0, 2, 2, 0)\n",
            "(0, 2, 2, 1)\n",
            "(0, 2, 2, 2)\n",
            "(1, -2, -2, -2)\n",
            "(1, -2, -2, -1)\n",
            "(1, -2, -2, 0)\n",
            "(1, -2, -2, 1)\n",
            "(1, -2, -2, 2)\n",
            "(1, -2, -1, -2)\n",
            "(1, -2, -1, -1)\n",
            "(1, -2, -1, 0)\n",
            "(1, -2, -1, 1)\n",
            "(1, -2, -1, 2)\n",
            "(1, -2, 0, -2)\n",
            "(1, -2, 0, -1)\n",
            "(1, -2, 0, 0)\n",
            "(1, -2, 0, 1)\n",
            "(1, -2, 0, 2)\n",
            "(1, -2, 1, -2)\n",
            "(1, -2, 1, -1)\n",
            "(1, -2, 1, 0)\n",
            "(1, -2, 1, 1)\n",
            "(1, -2, 1, 2)\n",
            "(1, -2, 2, -2)\n",
            "(1, -2, 2, -1)\n",
            "(1, -2, 2, 0)\n",
            "(1, -2, 2, 1)\n",
            "(1, -2, 2, 2)\n",
            "(1, -1, -2, -2)\n",
            "(1, -1, -2, -1)\n",
            "(1, -1, -2, 0)\n",
            "(1, -1, -2, 1)\n",
            "(1, -1, -2, 2)\n",
            "(1, -1, -1, -2)\n",
            "(1, -1, -1, -1)\n",
            "(1, -1, -1, 0)\n",
            "(1, -1, -1, 1)\n",
            "(1, -1, -1, 2)\n",
            "(1, -1, 0, -2)\n",
            "(1, -1, 0, -1)\n",
            "(1, -1, 0, 0)\n",
            "(1, -1, 0, 1)\n",
            "(1, -1, 0, 2)\n",
            "(1, -1, 1, -2)\n",
            "(1, -1, 1, -1)\n",
            "(1, -1, 1, 0)\n",
            "(1, -1, 1, 1)\n",
            "(1, -1, 1, 2)\n",
            "(1, -1, 2, -2)\n",
            "(1, -1, 2, -1)\n",
            "(1, -1, 2, 0)\n",
            "(1, -1, 2, 1)\n",
            "(1, -1, 2, 2)\n",
            "(1, 0, -2, -2)\n",
            "(1, 0, -2, -1)\n",
            "(1, 0, -2, 0)\n",
            "(1, 0, -2, 1)\n",
            "(1, 0, -2, 2)\n",
            "(1, 0, -1, -2)\n",
            "(1, 0, -1, -1)\n",
            "(1, 0, -1, 0)\n",
            "(1, 0, -1, 1)\n",
            "(1, 0, -1, 2)\n",
            "(1, 0, 0, -2)\n",
            "(1, 0, 0, -1)\n",
            "(1, 0, 0, 0)\n",
            "(1, 0, 0, 1)\n",
            "(1, 0, 0, 2)\n",
            "(1, 0, 1, -2)\n",
            "(1, 0, 1, -1)\n",
            "(1, 0, 1, 0)\n",
            "(1, 0, 1, 1)\n",
            "(1, 0, 1, 2)\n",
            "(1, 0, 2, -2)\n",
            "(1, 0, 2, -1)\n",
            "(1, 0, 2, 0)\n",
            "(1, 0, 2, 1)\n",
            "(1, 0, 2, 2)\n",
            "(1, 1, -2, -2)\n",
            "(1, 1, -2, -1)\n",
            "(1, 1, -2, 0)\n",
            "(1, 1, -2, 1)\n",
            "(1, 1, -2, 2)\n",
            "(1, 1, -1, -2)\n",
            "(1, 1, -1, -1)\n",
            "(1, 1, -1, 0)\n",
            "(1, 1, -1, 1)\n",
            "(1, 1, -1, 2)\n",
            "(1, 1, 0, -2)\n",
            "(1, 1, 0, -1)\n",
            "(1, 1, 0, 0)\n",
            "(1, 1, 0, 1)\n",
            "(1, 1, 0, 2)\n",
            "(1, 1, 1, -2)\n",
            "(1, 1, 1, -1)\n",
            "(1, 1, 1, 0)\n",
            "(1, 1, 1, 1)\n",
            "(1, 1, 1, 2)\n",
            "(1, 1, 2, -2)\n",
            "(1, 1, 2, -1)\n",
            "(1, 1, 2, 0)\n",
            "(1, 1, 2, 1)\n",
            "(1, 1, 2, 2)\n",
            "(1, 2, -2, -2)\n",
            "(1, 2, -2, -1)\n",
            "(1, 2, -2, 0)\n",
            "(1, 2, -2, 1)\n",
            "(1, 2, -2, 2)\n",
            "(1, 2, -1, -2)\n",
            "(1, 2, -1, -1)\n",
            "(1, 2, -1, 0)\n",
            "(1, 2, -1, 1)\n",
            "(1, 2, -1, 2)\n",
            "(1, 2, 0, -2)\n",
            "(1, 2, 0, -1)\n",
            "(1, 2, 0, 0)\n",
            "(1, 2, 0, 1)\n",
            "(1, 2, 0, 2)\n",
            "(1, 2, 1, -2)\n",
            "(1, 2, 1, -1)\n",
            "(1, 2, 1, 0)\n",
            "(1, 2, 1, 1)\n",
            "(1, 2, 1, 2)\n",
            "(1, 2, 2, -2)\n",
            "(1, 2, 2, -1)\n",
            "(1, 2, 2, 0)\n",
            "(1, 2, 2, 1)\n",
            "(1, 2, 2, 2)\n",
            "(2, -2, -2, -2)\n",
            "(2, -2, -2, -1)\n",
            "(2, -2, -2, 0)\n",
            "(2, -2, -2, 1)\n",
            "(2, -2, -2, 2)\n",
            "(2, -2, -1, -2)\n",
            "(2, -2, -1, -1)\n",
            "(2, -2, -1, 0)\n",
            "(2, -2, -1, 1)\n",
            "(2, -2, -1, 2)\n",
            "(2, -2, 0, -2)\n",
            "(2, -2, 0, -1)\n",
            "(2, -2, 0, 0)\n",
            "(2, -2, 0, 1)\n",
            "(2, -2, 0, 2)\n",
            "(2, -2, 1, -2)\n",
            "(2, -2, 1, -1)\n",
            "(2, -2, 1, 0)\n",
            "(2, -2, 1, 1)\n",
            "(2, -2, 1, 2)\n",
            "(2, -2, 2, -2)\n",
            "(2, -2, 2, -1)\n",
            "(2, -2, 2, 0)\n",
            "(2, -2, 2, 1)\n",
            "(2, -2, 2, 2)\n",
            "(2, -1, -2, -2)\n",
            "(2, -1, -2, -1)\n",
            "(2, -1, -2, 0)\n",
            "(2, -1, -2, 1)\n",
            "(2, -1, -2, 2)\n",
            "(2, -1, -1, -2)\n",
            "(2, -1, -1, -1)\n",
            "(2, -1, -1, 0)\n",
            "(2, -1, -1, 1)\n",
            "(2, -1, -1, 2)\n",
            "(2, -1, 0, -2)\n",
            "(2, -1, 0, -1)\n",
            "(2, -1, 0, 0)\n",
            "(2, -1, 0, 1)\n",
            "(2, -1, 0, 2)\n",
            "(2, -1, 1, -2)\n",
            "(2, -1, 1, -1)\n",
            "(2, -1, 1, 0)\n",
            "(2, -1, 1, 1)\n",
            "(2, -1, 1, 2)\n",
            "(2, -1, 2, -2)\n",
            "(2, -1, 2, -1)\n",
            "(2, -1, 2, 0)\n",
            "(2, -1, 2, 1)\n",
            "(2, -1, 2, 2)\n",
            "(2, 0, -2, -2)\n",
            "(2, 0, -2, -1)\n",
            "(2, 0, -2, 0)\n",
            "(2, 0, -2, 1)\n",
            "(2, 0, -2, 2)\n",
            "(2, 0, -1, -2)\n",
            "(2, 0, -1, -1)\n",
            "(2, 0, -1, 0)\n",
            "(2, 0, -1, 1)\n",
            "(2, 0, -1, 2)\n",
            "(2, 0, 0, -2)\n",
            "(2, 0, 0, -1)\n",
            "(2, 0, 0, 0)\n",
            "(2, 0, 0, 1)\n",
            "(2, 0, 0, 2)\n",
            "(2, 0, 1, -2)\n",
            "(2, 0, 1, -1)\n",
            "(2, 0, 1, 0)\n",
            "(2, 0, 1, 1)\n",
            "(2, 0, 1, 2)\n",
            "(2, 0, 2, -2)\n",
            "(2, 0, 2, -1)\n",
            "(2, 0, 2, 0)\n",
            "(2, 0, 2, 1)\n",
            "(2, 0, 2, 2)\n",
            "(2, 1, -2, -2)\n",
            "(2, 1, -2, -1)\n",
            "(2, 1, -2, 0)\n",
            "(2, 1, -2, 1)\n",
            "(2, 1, -2, 2)\n",
            "(2, 1, -1, -2)\n",
            "(2, 1, -1, -1)\n",
            "(2, 1, -1, 0)\n",
            "(2, 1, -1, 1)\n",
            "(2, 1, -1, 2)\n",
            "(2, 1, 0, -2)\n",
            "(2, 1, 0, -1)\n",
            "(2, 1, 0, 0)\n",
            "(2, 1, 0, 1)\n",
            "(2, 1, 0, 2)\n",
            "(2, 1, 1, -2)\n",
            "(2, 1, 1, -1)\n",
            "(2, 1, 1, 0)\n",
            "(2, 1, 1, 1)\n",
            "(2, 1, 1, 2)\n",
            "(2, 1, 2, -2)\n",
            "(2, 1, 2, -1)\n",
            "(2, 1, 2, 0)\n",
            "(2, 1, 2, 1)\n",
            "(2, 1, 2, 2)\n",
            "(2, 2, -2, -2)\n",
            "(2, 2, -2, -1)\n",
            "(2, 2, -2, 0)\n",
            "(2, 2, -2, 1)\n",
            "(2, 2, -2, 2)\n",
            "(2, 2, -1, -2)\n",
            "(2, 2, -1, -1)\n",
            "(2, 2, -1, 0)\n",
            "(2, 2, -1, 1)\n",
            "(2, 2, -1, 2)\n",
            "(2, 2, 0, -2)\n",
            "(2, 2, 0, -1)\n",
            "(2, 2, 0, 0)\n",
            "(2, 2, 0, 1)\n",
            "(2, 2, 0, 2)\n",
            "(2, 2, 1, -2)\n",
            "(2, 2, 1, -1)\n",
            "(2, 2, 1, 0)\n",
            "(2, 2, 1, 1)\n",
            "(2, 2, 1, 2)\n",
            "(2, 2, 2, -2)\n",
            "(2, 2, 2, -1)\n",
            "(2, 2, 2, 0)\n",
            "(2, 2, 2, 1)\n",
            "(2, 2, 2, 2)\n"
          ]
        }
      ]
    },
    {
      "cell_type": "code",
      "source": [
        "a = [1,2,4,5]\n",
        "perm = permutations(a,3)\n",
        "comb = combinations(a,3)\n",
        "print(perm)\n",
        "#print(len(perm))\n",
        "for i in perm:\n",
        "  print(i)\n",
        "print('********************')\n",
        "for i in comb:\n",
        "  print(i)"
      ],
      "metadata": {
        "colab": {
          "base_uri": "https://localhost:8080/"
        },
        "id": "yHOruEKSbuXc",
        "outputId": "e40b4bf4-7fe6-4e58-d190-3539b31cd472"
      },
      "execution_count": null,
      "outputs": [
        {
          "output_type": "stream",
          "name": "stdout",
          "text": [
            "<itertools.permutations object at 0x7fc07c6488f0>\n",
            "(1, 2, 4)\n",
            "(1, 2, 5)\n",
            "(1, 4, 2)\n",
            "(1, 4, 5)\n",
            "(1, 5, 2)\n",
            "(1, 5, 4)\n",
            "(2, 1, 4)\n",
            "(2, 1, 5)\n",
            "(2, 4, 1)\n",
            "(2, 4, 5)\n",
            "(2, 5, 1)\n",
            "(2, 5, 4)\n",
            "(4, 1, 2)\n",
            "(4, 1, 5)\n",
            "(4, 2, 1)\n",
            "(4, 2, 5)\n",
            "(4, 5, 1)\n",
            "(4, 5, 2)\n",
            "(5, 1, 2)\n",
            "(5, 1, 4)\n",
            "(5, 2, 1)\n",
            "(5, 2, 4)\n",
            "(5, 4, 1)\n",
            "(5, 4, 2)\n",
            "********************\n",
            "(1, 2, 4)\n",
            "(1, 2, 5)\n",
            "(1, 4, 5)\n",
            "(2, 4, 5)\n"
          ]
        }
      ]
    },
    {
      "cell_type": "code",
      "source": [
        "from itertools import accumulate\n",
        "ac = accumulate(a)\n",
        "print(ac)\n",
        "print(list(ac))\n",
        "am = accumulate(a, func = lambda x,y:x*y)\n",
        "print(list(am))"
      ],
      "metadata": {
        "colab": {
          "base_uri": "https://localhost:8080/"
        },
        "id": "aZHfSrZaclRl",
        "outputId": "57a99a76-f694-4325-f7f7-133f51347f60"
      },
      "execution_count": null,
      "outputs": [
        {
          "output_type": "stream",
          "name": "stdout",
          "text": [
            "<itertools.accumulate object at 0x7fba68bdaa40>\n",
            "[1, 3, 6, 10, 15]\n",
            "[1, 2, 6, 24, 120]\n"
          ]
        }
      ]
    },
    {
      "cell_type": "code",
      "source": [
        "# groupby\n",
        "a = list(range(-4,10,2))\n",
        "# note: pandas also has this useful method\n",
        "g = groupby(a, key= lambda x: x>3)\n",
        "print(g)\n",
        "\n",
        "for i,j in g:\n",
        "  print(i)\n",
        "  for h in j:\n",
        "    print(h)\n",
        "# wow boy!!!"
      ],
      "metadata": {
        "colab": {
          "base_uri": "https://localhost:8080/"
        },
        "id": "fhETlBVtckuT",
        "outputId": "9cdafb93-8329-411f-d23c-4eb04f0dd049"
      },
      "execution_count": null,
      "outputs": [
        {
          "output_type": "stream",
          "name": "stdout",
          "text": [
            "<itertools.groupby object at 0x7fba3766a890>\n",
            "False\n",
            "-4\n",
            "-2\n",
            "0\n",
            "2\n",
            "True\n",
            "4\n",
            "6\n",
            "8\n"
          ]
        }
      ]
    },
    {
      "cell_type": "code",
      "source": [
        "staff = [{'name':'hasan', 'age': 23}, {'name':'hawan', 'age': 24}, {'name':'haman', 'age': 26},\n",
        "         {'name':'haqan', 'age': 23}, {'name':'hafan', 'age': 28}, {'name':'hayan', 'age': 24}]\n",
        "\n",
        "sg = groupby(staff, key = lambda x: x['age'])\n",
        "\n",
        "\n",
        "# for i,j in sg:\n",
        "#   print(i)\n",
        "#   for h in j:\n",
        "#     print(h)\n",
        "\n",
        "\n",
        "for i,j in sg:\n",
        "  print(i, list(j))\n",
        "\n"
      ],
      "metadata": {
        "colab": {
          "base_uri": "https://localhost:8080/"
        },
        "id": "tYInpBmlreQB",
        "outputId": "745621c3-e239-44ce-87e3-0555d74539b5"
      },
      "execution_count": null,
      "outputs": [
        {
          "output_type": "stream",
          "name": "stdout",
          "text": [
            "23 [{'name': 'hasan', 'age': 23}]\n",
            "24 [{'name': 'hawan', 'age': 24}]\n",
            "26 [{'name': 'haman', 'age': 26}]\n",
            "23 [{'name': 'haqan', 'age': 23}]\n",
            "28 [{'name': 'hafan', 'age': 28}]\n",
            "24 [{'name': 'hayan', 'age': 24}]\n"
          ]
        }
      ]
    },
    {
      "cell_type": "code",
      "source": [
        "# no way I must also work on pandas groupby\n",
        "import pandas as pd\n",
        "d = pd.read_csv('AP.csv')\n",
        "print(d.head())\n"
      ],
      "metadata": {
        "colab": {
          "base_uri": "https://localhost:8080/"
        },
        "id": "-qpt8ngdN-m0",
        "outputId": "51ae1068-29d9-4df4-d5cd-ec1ec511dbc6"
      },
      "execution_count": null,
      "outputs": [
        {
          "output_type": "stream",
          "name": "stdout",
          "text": [
            "     Month  #Passengers\n",
            "0  1949-01          112\n",
            "1  1949-02          118\n",
            "2  1949-03          132\n",
            "3  1949-04          129\n",
            "4  1949-05          121\n"
          ]
        }
      ]
    },
    {
      "cell_type": "code",
      "source": [
        "gr = d.groupby('#Passengers')\n",
        "gr.first()\n",
        "\n",
        "\n",
        "# works like pivot table in excel"
      ],
      "metadata": {
        "colab": {
          "base_uri": "https://localhost:8080/",
          "height": 455
        },
        "id": "Z9-H0yOsO1mZ",
        "outputId": "b78bb23e-b62a-417c-8359-201b03a465ee"
      },
      "execution_count": null,
      "outputs": [
        {
          "output_type": "execute_result",
          "data": {
            "text/plain": [
              "               Month\n",
              "#Passengers         \n",
              "104          1949-11\n",
              "112          1949-01\n",
              "114          1950-11\n",
              "115          1950-01\n",
              "118          1949-02\n",
              "...              ...\n",
              "535          1960-06\n",
              "548          1959-07\n",
              "559          1959-08\n",
              "606          1960-08\n",
              "622          1960-07\n",
              "\n",
              "[118 rows x 1 columns]"
            ],
            "text/html": [
              "\n",
              "  <div id=\"df-bfae2a4d-b013-4162-bd7b-24c43d6b98cb\">\n",
              "    <div class=\"colab-df-container\">\n",
              "      <div>\n",
              "<style scoped>\n",
              "    .dataframe tbody tr th:only-of-type {\n",
              "        vertical-align: middle;\n",
              "    }\n",
              "\n",
              "    .dataframe tbody tr th {\n",
              "        vertical-align: top;\n",
              "    }\n",
              "\n",
              "    .dataframe thead th {\n",
              "        text-align: right;\n",
              "    }\n",
              "</style>\n",
              "<table border=\"1\" class=\"dataframe\">\n",
              "  <thead>\n",
              "    <tr style=\"text-align: right;\">\n",
              "      <th></th>\n",
              "      <th>Month</th>\n",
              "    </tr>\n",
              "    <tr>\n",
              "      <th>#Passengers</th>\n",
              "      <th></th>\n",
              "    </tr>\n",
              "  </thead>\n",
              "  <tbody>\n",
              "    <tr>\n",
              "      <th>104</th>\n",
              "      <td>1949-11</td>\n",
              "    </tr>\n",
              "    <tr>\n",
              "      <th>112</th>\n",
              "      <td>1949-01</td>\n",
              "    </tr>\n",
              "    <tr>\n",
              "      <th>114</th>\n",
              "      <td>1950-11</td>\n",
              "    </tr>\n",
              "    <tr>\n",
              "      <th>115</th>\n",
              "      <td>1950-01</td>\n",
              "    </tr>\n",
              "    <tr>\n",
              "      <th>118</th>\n",
              "      <td>1949-02</td>\n",
              "    </tr>\n",
              "    <tr>\n",
              "      <th>...</th>\n",
              "      <td>...</td>\n",
              "    </tr>\n",
              "    <tr>\n",
              "      <th>535</th>\n",
              "      <td>1960-06</td>\n",
              "    </tr>\n",
              "    <tr>\n",
              "      <th>548</th>\n",
              "      <td>1959-07</td>\n",
              "    </tr>\n",
              "    <tr>\n",
              "      <th>559</th>\n",
              "      <td>1959-08</td>\n",
              "    </tr>\n",
              "    <tr>\n",
              "      <th>606</th>\n",
              "      <td>1960-08</td>\n",
              "    </tr>\n",
              "    <tr>\n",
              "      <th>622</th>\n",
              "      <td>1960-07</td>\n",
              "    </tr>\n",
              "  </tbody>\n",
              "</table>\n",
              "<p>118 rows × 1 columns</p>\n",
              "</div>\n",
              "      <button class=\"colab-df-convert\" onclick=\"convertToInteractive('df-bfae2a4d-b013-4162-bd7b-24c43d6b98cb')\"\n",
              "              title=\"Convert this dataframe to an interactive table.\"\n",
              "              style=\"display:none;\">\n",
              "        \n",
              "  <svg xmlns=\"http://www.w3.org/2000/svg\" height=\"24px\"viewBox=\"0 0 24 24\"\n",
              "       width=\"24px\">\n",
              "    <path d=\"M0 0h24v24H0V0z\" fill=\"none\"/>\n",
              "    <path d=\"M18.56 5.44l.94 2.06.94-2.06 2.06-.94-2.06-.94-.94-2.06-.94 2.06-2.06.94zm-11 1L8.5 8.5l.94-2.06 2.06-.94-2.06-.94L8.5 2.5l-.94 2.06-2.06.94zm10 10l.94 2.06.94-2.06 2.06-.94-2.06-.94-.94-2.06-.94 2.06-2.06.94z\"/><path d=\"M17.41 7.96l-1.37-1.37c-.4-.4-.92-.59-1.43-.59-.52 0-1.04.2-1.43.59L10.3 9.45l-7.72 7.72c-.78.78-.78 2.05 0 2.83L4 21.41c.39.39.9.59 1.41.59.51 0 1.02-.2 1.41-.59l7.78-7.78 2.81-2.81c.8-.78.8-2.07 0-2.86zM5.41 20L4 18.59l7.72-7.72 1.47 1.35L5.41 20z\"/>\n",
              "  </svg>\n",
              "      </button>\n",
              "      \n",
              "  <style>\n",
              "    .colab-df-container {\n",
              "      display:flex;\n",
              "      flex-wrap:wrap;\n",
              "      gap: 12px;\n",
              "    }\n",
              "\n",
              "    .colab-df-convert {\n",
              "      background-color: #E8F0FE;\n",
              "      border: none;\n",
              "      border-radius: 50%;\n",
              "      cursor: pointer;\n",
              "      display: none;\n",
              "      fill: #1967D2;\n",
              "      height: 32px;\n",
              "      padding: 0 0 0 0;\n",
              "      width: 32px;\n",
              "    }\n",
              "\n",
              "    .colab-df-convert:hover {\n",
              "      background-color: #E2EBFA;\n",
              "      box-shadow: 0px 1px 2px rgba(60, 64, 67, 0.3), 0px 1px 3px 1px rgba(60, 64, 67, 0.15);\n",
              "      fill: #174EA6;\n",
              "    }\n",
              "\n",
              "    [theme=dark] .colab-df-convert {\n",
              "      background-color: #3B4455;\n",
              "      fill: #D2E3FC;\n",
              "    }\n",
              "\n",
              "    [theme=dark] .colab-df-convert:hover {\n",
              "      background-color: #434B5C;\n",
              "      box-shadow: 0px 1px 3px 1px rgba(0, 0, 0, 0.15);\n",
              "      filter: drop-shadow(0px 1px 2px rgba(0, 0, 0, 0.3));\n",
              "      fill: #FFFFFF;\n",
              "    }\n",
              "  </style>\n",
              "\n",
              "      <script>\n",
              "        const buttonEl =\n",
              "          document.querySelector('#df-bfae2a4d-b013-4162-bd7b-24c43d6b98cb button.colab-df-convert');\n",
              "        buttonEl.style.display =\n",
              "          google.colab.kernel.accessAllowed ? 'block' : 'none';\n",
              "\n",
              "        async function convertToInteractive(key) {\n",
              "          const element = document.querySelector('#df-bfae2a4d-b013-4162-bd7b-24c43d6b98cb');\n",
              "          const dataTable =\n",
              "            await google.colab.kernel.invokeFunction('convertToInteractive',\n",
              "                                                     [key], {});\n",
              "          if (!dataTable) return;\n",
              "\n",
              "          const docLinkHtml = 'Like what you see? Visit the ' +\n",
              "            '<a target=\"_blank\" href=https://colab.research.google.com/notebooks/data_table.ipynb>data table notebook</a>'\n",
              "            + ' to learn more about interactive tables.';\n",
              "          element.innerHTML = '';\n",
              "          dataTable['output_type'] = 'display_data';\n",
              "          await google.colab.output.renderOutput(dataTable, element);\n",
              "          const docLink = document.createElement('div');\n",
              "          docLink.innerHTML = docLinkHtml;\n",
              "          element.appendChild(docLink);\n",
              "        }\n",
              "      </script>\n",
              "    </div>\n",
              "  </div>\n",
              "  "
            ]
          },
          "metadata": {},
          "execution_count": 9
        }
      ]
    },
    {
      "cell_type": "code",
      "source": [
        "\n",
        "# infinites\n",
        "from itertools import count,cycle,repeat\n",
        "\n",
        "c = count(10)\n",
        "\n",
        "for i in c:\n",
        "  print(i)\n",
        "  if i > 100:\n",
        "    break\n",
        "\n",
        "#cycle and repeat are easy"
      ],
      "metadata": {
        "colab": {
          "base_uri": "https://localhost:8080/"
        },
        "id": "hDNWOSXCYz_e",
        "outputId": "e409d7b7-2ad6-42b3-a288-d7b9fef13c6a"
      },
      "execution_count": null,
      "outputs": [
        {
          "output_type": "stream",
          "name": "stdout",
          "text": [
            "10\n",
            "11\n",
            "12\n",
            "13\n",
            "14\n",
            "15\n",
            "16\n",
            "17\n",
            "18\n",
            "19\n",
            "20\n",
            "21\n",
            "22\n",
            "23\n",
            "24\n",
            "25\n",
            "26\n",
            "27\n",
            "28\n",
            "29\n",
            "30\n",
            "31\n",
            "32\n",
            "33\n",
            "34\n",
            "35\n",
            "36\n",
            "37\n",
            "38\n",
            "39\n",
            "40\n",
            "41\n",
            "42\n",
            "43\n",
            "44\n",
            "45\n",
            "46\n",
            "47\n",
            "48\n",
            "49\n",
            "50\n",
            "51\n",
            "52\n",
            "53\n",
            "54\n",
            "55\n",
            "56\n",
            "57\n",
            "58\n",
            "59\n",
            "60\n",
            "61\n",
            "62\n",
            "63\n",
            "64\n",
            "65\n",
            "66\n",
            "67\n",
            "68\n",
            "69\n",
            "70\n",
            "71\n",
            "72\n",
            "73\n",
            "74\n",
            "75\n",
            "76\n",
            "77\n",
            "78\n",
            "79\n",
            "80\n",
            "81\n",
            "82\n",
            "83\n",
            "84\n",
            "85\n",
            "86\n",
            "87\n",
            "88\n",
            "89\n",
            "90\n",
            "91\n",
            "92\n",
            "93\n",
            "94\n",
            "95\n",
            "96\n",
            "97\n",
            "98\n",
            "99\n",
            "100\n",
            "101\n"
          ]
        }
      ]
    },
    {
      "cell_type": "code",
      "source": [],
      "metadata": {
        "id": "7iT_JktcY0JC"
      },
      "execution_count": null,
      "outputs": []
    },
    {
      "cell_type": "markdown",
      "source": [
        "# 8-Lambda"
      ],
      "metadata": {
        "id": "v87rqWI1Y0pz"
      }
    },
    {
      "cell_type": "code",
      "source": [
        "#lambda argument(s): expression\n",
        "\n",
        "f = lambda a,b: (a+b, a/b, a*b)\n",
        "f(2,3)\n",
        "\n",
        "#booooy =)"
      ],
      "metadata": {
        "colab": {
          "base_uri": "https://localhost:8080/"
        },
        "id": "6uA4EfDIQFHJ",
        "outputId": "fbf06652-a7d4-400a-8fdb-c7f977a89556"
      },
      "execution_count": null,
      "outputs": [
        {
          "output_type": "execute_result",
          "data": {
            "text/plain": [
              "(5, 0.6666666666666666, 6)"
            ]
          },
          "metadata": {},
          "execution_count": 3
        }
      ]
    },
    {
      "cell_type": "code",
      "source": [
        "a = [(1,2), (3,5), (3,8), (1,0),(4,2), (6,1)]\n",
        "print(sorted(a))\n",
        "print(sorted(a, key= lambda x: x[0]+x[1]))"
      ],
      "metadata": {
        "colab": {
          "base_uri": "https://localhost:8080/"
        },
        "id": "Q1swPs95QFN1",
        "outputId": "9bdd9777-85b7-4d16-e8b9-7521c818dec4"
      },
      "execution_count": null,
      "outputs": [
        {
          "output_type": "stream",
          "name": "stdout",
          "text": [
            "[(1, 0), (1, 2), (3, 5), (3, 8), (4, 2), (6, 1)]\n",
            "[(1, 0), (1, 2), (4, 2), (6, 1), (3, 5), (3, 8)]\n"
          ]
        }
      ]
    },
    {
      "cell_type": "code",
      "source": [
        "b = [1,2,3,5,3,5,6]\n",
        "\n",
        "m = map(lambda x:x**2, b)\n",
        "\n",
        "f = filter(lambda x: x>=3,b)\n",
        "\n",
        "print(list(m))\n",
        "print(list(f))\n",
        "# it could also be done by list comprehension like:\n",
        "print([x**2 for x in b])\n",
        "print([x for x in b if x>=3])"
      ],
      "metadata": {
        "colab": {
          "base_uri": "https://localhost:8080/"
        },
        "id": "Y9uMwAQiQFUG",
        "outputId": "4e41af00-6510-4c70-cb54-228526e1bfda"
      },
      "execution_count": null,
      "outputs": [
        {
          "output_type": "stream",
          "name": "stdout",
          "text": [
            "[1, 4, 9, 25, 9, 25, 36]\n",
            "[3, 5, 3, 5, 6]\n",
            "[1, 4, 9, 25, 9, 25, 36]\n",
            "[3, 5, 3, 5, 6]\n"
          ]
        }
      ]
    },
    {
      "cell_type": "code",
      "source": [
        "from functools import reduce\n",
        "\n",
        "a = [1, 2, 3, 4, 5]\n",
        "\n",
        "\n",
        "print(reduce(lambda x,y:x+y, a))\n",
        "print(reduce(lambda x,y:x*y, a))\n",
        "# print(reduce(lambda x,y,z:x*y*z, a))"
      ],
      "metadata": {
        "id": "yuqFwHYAQFaU",
        "colab": {
          "base_uri": "https://localhost:8080/"
        },
        "outputId": "ea67d248-7005-4e90-e3eb-789ae9aaf356"
      },
      "execution_count": null,
      "outputs": [
        {
          "output_type": "stream",
          "name": "stdout",
          "text": [
            "15\n",
            "120\n"
          ]
        }
      ]
    },
    {
      "cell_type": "markdown",
      "source": [
        "# 8.5-calculatorProject"
      ],
      "metadata": {
        "id": "JRpZ_BtfEAe3"
      }
    },
    {
      "cell_type": "code",
      "source": [
        "# Jul 1, 2023\n",
        "# Jul 19, 2023\n",
        "# writing a project to deploy what we've practiced so far\n",
        "while True:\n",
        "  exp = input(\"enter your expression with spaces like: \\\"1 + 3\\\" \")\n",
        "  a, o, *b = exp.split()\n",
        "  try:\n",
        "    b = int(b[0])\n",
        "    a = int(a)\n",
        "  except:\n",
        "    print(\"invalid input\")\n",
        "\n",
        "  oper = {\n",
        "      \"+\": lambda a,b: a + b,\n",
        "      \"-\": lambda a,b: a - b,\n",
        "      \"*\": lambda a,b: a * b,\n",
        "      \"/\": lambda a,b: a / b,\n",
        "  }\n",
        "\n",
        "\n",
        "\n",
        "  try:\n",
        "    print(a, o, b, \"=\")\n",
        "    print(oper[o](a, b))\n",
        "  except:\n",
        "    print(\"somrthing went wrong\")"
      ],
      "metadata": {
        "id": "oyd7fmOZED7p",
        "colab": {
          "base_uri": "https://localhost:8080/",
          "height": 572
        },
        "outputId": "ffb5c532-b597-4996-f098-286ef588906f"
      },
      "execution_count": null,
      "outputs": [
        {
          "output_type": "stream",
          "name": "stdout",
          "text": [
            "3 + 6 =\n",
            "9\n",
            "invalid input\n",
            "r g [] =\n",
            "somrthing went wrong\n",
            "6 / 8 =\n",
            "0.75\n",
            "enter your expression with spaces like: \"1 + 3\" 5 9 \n",
            "invalid input\n",
            "5 9 [] =\n",
            "somrthing went wrong\n"
          ]
        },
        {
          "output_type": "error",
          "ename": "KeyboardInterrupt",
          "evalue": "ignored",
          "traceback": [
            "\u001b[0;31m---------------------------------------------------------------------------\u001b[0m",
            "\u001b[0;31mKeyboardInterrupt\u001b[0m                         Traceback (most recent call last)",
            "\u001b[0;32m<ipython-input-18-6f463ac6a780>\u001b[0m in \u001b[0;36m<cell line: 4>\u001b[0;34m()\u001b[0m\n\u001b[1;32m      3\u001b[0m \u001b[0;31m# writing a project to deploy what we've practiced so far\u001b[0m\u001b[0;34m\u001b[0m\u001b[0;34m\u001b[0m\u001b[0m\n\u001b[1;32m      4\u001b[0m \u001b[0;32mwhile\u001b[0m \u001b[0;32mTrue\u001b[0m\u001b[0;34m:\u001b[0m\u001b[0;34m\u001b[0m\u001b[0;34m\u001b[0m\u001b[0m\n\u001b[0;32m----> 5\u001b[0;31m   \u001b[0mexp\u001b[0m \u001b[0;34m=\u001b[0m \u001b[0minput\u001b[0m\u001b[0;34m(\u001b[0m\u001b[0;34m\"enter your expression with spaces like: \\\"1 + 3\\\" \"\u001b[0m\u001b[0;34m)\u001b[0m\u001b[0;34m\u001b[0m\u001b[0;34m\u001b[0m\u001b[0m\n\u001b[0m\u001b[1;32m      6\u001b[0m   \u001b[0ma\u001b[0m\u001b[0;34m,\u001b[0m \u001b[0mo\u001b[0m\u001b[0;34m,\u001b[0m \u001b[0;34m*\u001b[0m\u001b[0mb\u001b[0m \u001b[0;34m=\u001b[0m \u001b[0mexp\u001b[0m\u001b[0;34m.\u001b[0m\u001b[0msplit\u001b[0m\u001b[0;34m(\u001b[0m\u001b[0;34m)\u001b[0m\u001b[0;34m\u001b[0m\u001b[0;34m\u001b[0m\u001b[0m\n\u001b[1;32m      7\u001b[0m   \u001b[0;32mtry\u001b[0m\u001b[0;34m:\u001b[0m\u001b[0;34m\u001b[0m\u001b[0;34m\u001b[0m\u001b[0m\n",
            "\u001b[0;32m/usr/local/lib/python3.10/dist-packages/ipykernel/kernelbase.py\u001b[0m in \u001b[0;36mraw_input\u001b[0;34m(self, prompt)\u001b[0m\n\u001b[1;32m    849\u001b[0m                 \u001b[0;34m\"raw_input was called, but this frontend does not support input requests.\"\u001b[0m\u001b[0;34m\u001b[0m\u001b[0;34m\u001b[0m\u001b[0m\n\u001b[1;32m    850\u001b[0m             )\n\u001b[0;32m--> 851\u001b[0;31m         return self._input_request(str(prompt),\n\u001b[0m\u001b[1;32m    852\u001b[0m             \u001b[0mself\u001b[0m\u001b[0;34m.\u001b[0m\u001b[0m_parent_ident\u001b[0m\u001b[0;34m,\u001b[0m\u001b[0;34m\u001b[0m\u001b[0;34m\u001b[0m\u001b[0m\n\u001b[1;32m    853\u001b[0m             \u001b[0mself\u001b[0m\u001b[0;34m.\u001b[0m\u001b[0m_parent_header\u001b[0m\u001b[0;34m,\u001b[0m\u001b[0;34m\u001b[0m\u001b[0;34m\u001b[0m\u001b[0m\n",
            "\u001b[0;32m/usr/local/lib/python3.10/dist-packages/ipykernel/kernelbase.py\u001b[0m in \u001b[0;36m_input_request\u001b[0;34m(self, prompt, ident, parent, password)\u001b[0m\n\u001b[1;32m    893\u001b[0m             \u001b[0;32mexcept\u001b[0m \u001b[0mKeyboardInterrupt\u001b[0m\u001b[0;34m:\u001b[0m\u001b[0;34m\u001b[0m\u001b[0;34m\u001b[0m\u001b[0m\n\u001b[1;32m    894\u001b[0m                 \u001b[0;31m# re-raise KeyboardInterrupt, to truncate traceback\u001b[0m\u001b[0;34m\u001b[0m\u001b[0;34m\u001b[0m\u001b[0m\n\u001b[0;32m--> 895\u001b[0;31m                 \u001b[0;32mraise\u001b[0m \u001b[0mKeyboardInterrupt\u001b[0m\u001b[0;34m(\u001b[0m\u001b[0;34m\"Interrupted by user\"\u001b[0m\u001b[0;34m)\u001b[0m \u001b[0;32mfrom\u001b[0m \u001b[0;32mNone\u001b[0m\u001b[0;34m\u001b[0m\u001b[0;34m\u001b[0m\u001b[0m\n\u001b[0m\u001b[1;32m    896\u001b[0m             \u001b[0;32mexcept\u001b[0m \u001b[0mException\u001b[0m \u001b[0;32mas\u001b[0m \u001b[0me\u001b[0m\u001b[0;34m:\u001b[0m\u001b[0;34m\u001b[0m\u001b[0;34m\u001b[0m\u001b[0m\n\u001b[1;32m    897\u001b[0m                 \u001b[0mself\u001b[0m\u001b[0;34m.\u001b[0m\u001b[0mlog\u001b[0m\u001b[0;34m.\u001b[0m\u001b[0mwarning\u001b[0m\u001b[0;34m(\u001b[0m\u001b[0;34m\"Invalid Message:\"\u001b[0m\u001b[0;34m,\u001b[0m \u001b[0mexc_info\u001b[0m\u001b[0;34m=\u001b[0m\u001b[0;32mTrue\u001b[0m\u001b[0;34m)\u001b[0m\u001b[0;34m\u001b[0m\u001b[0;34m\u001b[0m\u001b[0m\n",
            "\u001b[0;31mKeyboardInterrupt\u001b[0m: Interrupted by user"
          ]
        }
      ]
    },
    {
      "cell_type": "code",
      "source": [],
      "metadata": {
        "id": "qdo4-S8FUCw7"
      },
      "execution_count": null,
      "outputs": []
    },
    {
      "cell_type": "markdown",
      "source": [
        "# 9-Errors and Exceptions"
      ],
      "metadata": {
        "id": "NTumnMCJY01t"
      }
    },
    {
      "cell_type": "code",
      "source": [
        "# sure you know what's error\n",
        "# but how to raise an exception:\n",
        "x = -4\n",
        "if x<0:\n",
        "  raise Exception('blah blah')\n"
      ],
      "metadata": {
        "id": "5hdfambfQKXo",
        "colab": {
          "base_uri": "https://localhost:8080/",
          "height": 201
        },
        "outputId": "6f81c5a6-746c-4bed-e13d-8f7b49723d5a"
      },
      "execution_count": null,
      "outputs": [
        {
          "output_type": "error",
          "ename": "Exception",
          "evalue": "ignored",
          "traceback": [
            "\u001b[0;31m---------------------------------------------------------------------------\u001b[0m",
            "\u001b[0;31mException\u001b[0m                                 Traceback (most recent call last)",
            "\u001b[0;32m<ipython-input-11-845ba1f9ccc2>\u001b[0m in \u001b[0;36m<cell line: 4>\u001b[0;34m()\u001b[0m\n\u001b[1;32m      3\u001b[0m \u001b[0mx\u001b[0m \u001b[0;34m=\u001b[0m \u001b[0;34m-\u001b[0m\u001b[0;36m4\u001b[0m\u001b[0;34m\u001b[0m\u001b[0;34m\u001b[0m\u001b[0m\n\u001b[1;32m      4\u001b[0m \u001b[0;32mif\u001b[0m \u001b[0mx\u001b[0m\u001b[0;34m<\u001b[0m\u001b[0;36m0\u001b[0m\u001b[0;34m:\u001b[0m\u001b[0;34m\u001b[0m\u001b[0;34m\u001b[0m\u001b[0m\n\u001b[0;32m----> 5\u001b[0;31m   \u001b[0;32mraise\u001b[0m \u001b[0mException\u001b[0m\u001b[0;34m(\u001b[0m\u001b[0;34m'blah blah'\u001b[0m\u001b[0;34m)\u001b[0m\u001b[0;34m\u001b[0m\u001b[0;34m\u001b[0m\u001b[0m\n\u001b[0m",
            "\u001b[0;31mException\u001b[0m: blah blah"
          ]
        }
      ]
    },
    {
      "cell_type": "code",
      "source": [
        "# or\n",
        "x = -3\n",
        "assert(x>0), 'blah blah'"
      ],
      "metadata": {
        "colab": {
          "base_uri": "https://localhost:8080/",
          "height": 201
        },
        "id": "xRyiUICWVJO-",
        "outputId": "c020a900-b0dc-418b-a6ed-66aaeaae73e1"
      },
      "execution_count": null,
      "outputs": [
        {
          "output_type": "error",
          "ename": "AssertionError",
          "evalue": "ignored",
          "traceback": [
            "\u001b[0;31m---------------------------------------------------------------------------\u001b[0m",
            "\u001b[0;31mAssertionError\u001b[0m                            Traceback (most recent call last)",
            "\u001b[0;32m<ipython-input-12-667479175dca>\u001b[0m in \u001b[0;36m<cell line: 3>\u001b[0;34m()\u001b[0m\n\u001b[1;32m      1\u001b[0m \u001b[0;31m# or\u001b[0m\u001b[0;34m\u001b[0m\u001b[0;34m\u001b[0m\u001b[0m\n\u001b[1;32m      2\u001b[0m \u001b[0mx\u001b[0m \u001b[0;34m=\u001b[0m \u001b[0;34m-\u001b[0m\u001b[0;36m3\u001b[0m\u001b[0;34m\u001b[0m\u001b[0;34m\u001b[0m\u001b[0m\n\u001b[0;32m----> 3\u001b[0;31m \u001b[0;32massert\u001b[0m\u001b[0;34m(\u001b[0m\u001b[0mx\u001b[0m\u001b[0;34m>\u001b[0m\u001b[0;36m0\u001b[0m\u001b[0;34m)\u001b[0m\u001b[0;34m,\u001b[0m \u001b[0;34m'blah blah'\u001b[0m\u001b[0;34m\u001b[0m\u001b[0;34m\u001b[0m\u001b[0m\n\u001b[0m",
            "\u001b[0;31mAssertionError\u001b[0m: blah blah"
          ]
        }
      ]
    },
    {
      "cell_type": "code",
      "source": [
        "a = 2\n",
        "b = 's'\n",
        "try:\n",
        "  c = a+b\n",
        "except TypeError:\n",
        "  pass\n",
        "  # print('blaaah')\n",
        "\n",
        "print('sth')"
      ],
      "metadata": {
        "colab": {
          "base_uri": "https://localhost:8080/"
        },
        "id": "KDP-mj9bVJZp",
        "outputId": "f05ffc1d-98b7-4033-bc18-d11e96d98568"
      },
      "execution_count": null,
      "outputs": [
        {
          "output_type": "stream",
          "name": "stdout",
          "text": [
            "sth\n"
          ]
        }
      ]
    },
    {
      "cell_type": "code",
      "source": [
        "class valuezero (Exception):\n",
        "  def __init__(self, val=None):\n",
        "    self.value = val\n",
        "    print('hooy',val)\n",
        "\n",
        "\n",
        "x = 0\n",
        "if x ==0:\n",
        "  raise valuezero(5)"
      ],
      "metadata": {
        "id": "iCn9iVtbVJjM",
        "colab": {
          "base_uri": "https://localhost:8080/",
          "height": 218
        },
        "outputId": "f50dbb21-e904-4c1d-fed9-8f79325c4cdf"
      },
      "execution_count": null,
      "outputs": [
        {
          "output_type": "stream",
          "name": "stdout",
          "text": [
            "hooy 5\n"
          ]
        },
        {
          "output_type": "error",
          "ename": "valuezero",
          "evalue": "ignored",
          "traceback": [
            "\u001b[0;31m---------------------------------------------------------------------------\u001b[0m",
            "\u001b[0;31mvaluezero\u001b[0m                                 Traceback (most recent call last)",
            "\u001b[0;32m<ipython-input-23-f8c7a7bb1ba0>\u001b[0m in \u001b[0;36m<module>\u001b[0;34m()\u001b[0m\n\u001b[1;32m      7\u001b[0m \u001b[0mx\u001b[0m \u001b[0;34m=\u001b[0m \u001b[0;36m0\u001b[0m\u001b[0;34m\u001b[0m\u001b[0;34m\u001b[0m\u001b[0m\n\u001b[1;32m      8\u001b[0m \u001b[0;32mif\u001b[0m \u001b[0mx\u001b[0m \u001b[0;34m==\u001b[0m\u001b[0;36m0\u001b[0m\u001b[0;34m:\u001b[0m\u001b[0;34m\u001b[0m\u001b[0;34m\u001b[0m\u001b[0m\n\u001b[0;32m----> 9\u001b[0;31m   \u001b[0;32mraise\u001b[0m \u001b[0mvaluezero\u001b[0m\u001b[0;34m(\u001b[0m\u001b[0;36m5\u001b[0m\u001b[0;34m)\u001b[0m\u001b[0;34m\u001b[0m\u001b[0;34m\u001b[0m\u001b[0m\n\u001b[0m",
            "\u001b[0;31mvaluezero\u001b[0m: 5"
          ]
        }
      ]
    },
    {
      "cell_type": "markdown",
      "source": [
        "# 10-Logging"
      ],
      "metadata": {
        "id": "QRQCkwGbVJsL"
      }
    },
    {
      "cell_type": "code",
      "source": [
        "# this one is been watched from \"https://youtu.be/g8nQ90Hk328\"\n",
        "# Purpose: record progress and problems...\n",
        "\n",
        "import logging\n",
        "\n",
        "dir(logging)"
      ],
      "metadata": {
        "id": "VTsTT5sAVKOt",
        "colab": {
          "base_uri": "https://localhost:8080/"
        },
        "outputId": "15415d33-8557-491a-8c9c-a7a2fa54d0a7"
      },
      "execution_count": null,
      "outputs": [
        {
          "output_type": "execute_result",
          "data": {
            "text/plain": [
              "['BASIC_FORMAT',\n",
              " 'BufferingFormatter',\n",
              " 'CRITICAL',\n",
              " 'DEBUG',\n",
              " 'ERROR',\n",
              " 'FATAL',\n",
              " 'FileHandler',\n",
              " 'Filter',\n",
              " 'Filterer',\n",
              " 'Formatter',\n",
              " 'Handler',\n",
              " 'INFO',\n",
              " 'LogRecord',\n",
              " 'Logger',\n",
              " 'LoggerAdapter',\n",
              " 'Manager',\n",
              " 'NOTSET',\n",
              " 'NullHandler',\n",
              " 'PercentStyle',\n",
              " 'PlaceHolder',\n",
              " 'RootLogger',\n",
              " 'StrFormatStyle',\n",
              " 'StreamHandler',\n",
              " 'StringTemplateStyle',\n",
              " 'Template',\n",
              " 'WARN',\n",
              " 'WARNING',\n",
              " '_STYLES',\n",
              " '_StderrHandler',\n",
              " '__all__',\n",
              " '__author__',\n",
              " '__builtins__',\n",
              " '__cached__',\n",
              " '__date__',\n",
              " '__doc__',\n",
              " '__file__',\n",
              " '__loader__',\n",
              " '__name__',\n",
              " '__package__',\n",
              " '__path__',\n",
              " '__spec__',\n",
              " '__status__',\n",
              " '__version__',\n",
              " '_acquireLock',\n",
              " '_addHandlerRef',\n",
              " '_after_at_fork_child_reinit_locks',\n",
              " '_at_fork_reinit_lock_weakset',\n",
              " '_checkLevel',\n",
              " '_defaultFormatter',\n",
              " '_defaultLastResort',\n",
              " '_handlerList',\n",
              " '_handlers',\n",
              " '_levelToName',\n",
              " '_lock',\n",
              " '_logRecordFactory',\n",
              " '_loggerClass',\n",
              " '_nameToLevel',\n",
              " '_register_at_fork_reinit_lock',\n",
              " '_releaseLock',\n",
              " '_removeHandlerRef',\n",
              " '_showwarning',\n",
              " '_srcfile',\n",
              " '_startTime',\n",
              " '_warnings_showwarning',\n",
              " 'addLevelName',\n",
              " 'atexit',\n",
              " 'basicConfig',\n",
              " 'captureWarnings',\n",
              " 'collections',\n",
              " 'critical',\n",
              " 'currentframe',\n",
              " 'debug',\n",
              " 'disable',\n",
              " 'error',\n",
              " 'exception',\n",
              " 'fatal',\n",
              " 'getLevelName',\n",
              " 'getLogRecordFactory',\n",
              " 'getLogger',\n",
              " 'getLoggerClass',\n",
              " 'handlers',\n",
              " 'info',\n",
              " 'io',\n",
              " 'lastResort',\n",
              " 'log',\n",
              " 'logMultiprocessing',\n",
              " 'logProcesses',\n",
              " 'logThreads',\n",
              " 'makeLogRecord',\n",
              " 'os',\n",
              " 'raiseExceptions',\n",
              " 'root',\n",
              " 'setLogRecordFactory',\n",
              " 'setLoggerClass',\n",
              " 'shutdown',\n",
              " 'sys',\n",
              " 'threading',\n",
              " 'time',\n",
              " 'traceback',\n",
              " 'warn',\n",
              " 'warning',\n",
              " 'warnings',\n",
              " 'weakref']"
            ]
          },
          "metadata": {},
          "execution_count": 2
        }
      ]
    },
    {
      "cell_type": "code",
      "source": [
        "\n",
        "logformat = \"%(asctime)s %(clientip)- %(user)- %(message)s\"\n",
        "\n",
        "logging.basicConfig(filename=\"sth.log\", level=logging.DEBUG, format = logformat, filemode='w')\n",
        "\n",
        "logger = logging.getLogger()\n",
        "logger.warning('warning, blah')\n",
        "\n",
        "logger.warning(logger.level)"
      ],
      "metadata": {
        "colab": {
          "base_uri": "https://localhost:8080/"
        },
        "id": "5G7--U-399dg",
        "outputId": "d7702e29-6b24-43ea-a64e-39d7dfa3f3a7"
      },
      "execution_count": null,
      "outputs": [
        {
          "output_type": "stream",
          "name": "stderr",
          "text": [
            "WARNING:root:warning, blah\n",
            "WARNING:root:30\n"
          ]
        }
      ]
    },
    {
      "cell_type": "code",
      "source": [
        "# well I don't bother wrinting a code for this\n",
        "# to better understand logging, checkout somewhere =)\n"
      ],
      "metadata": {
        "id": "2rCEm7Gq99py"
      },
      "execution_count": null,
      "outputs": []
    },
    {
      "cell_type": "markdown",
      "source": [
        "# 11-JSON"
      ],
      "metadata": {
        "id": "5ZJWFnW5991w"
      }
    },
    {
      "cell_type": "code",
      "source": [
        "#I'm alive!\n",
        "# again from socratica\n",
        "import json\n",
        "dir(json)"
      ],
      "metadata": {
        "id": "Fv6h4GHm-CD5",
        "colab": {
          "base_uri": "https://localhost:8080/"
        },
        "outputId": "bbf4a678-438f-4f4f-a435-9147e49a4e10"
      },
      "execution_count": null,
      "outputs": [
        {
          "output_type": "execute_result",
          "data": {
            "text/plain": [
              "['JSONDecodeError',\n",
              " 'JSONDecoder',\n",
              " 'JSONEncoder',\n",
              " '__all__',\n",
              " '__author__',\n",
              " '__builtins__',\n",
              " '__cached__',\n",
              " '__doc__',\n",
              " '__file__',\n",
              " '__loader__',\n",
              " '__name__',\n",
              " '__package__',\n",
              " '__path__',\n",
              " '__spec__',\n",
              " '__version__',\n",
              " '_default_decoder',\n",
              " '_default_encoder',\n",
              " 'codecs',\n",
              " 'decoder',\n",
              " 'detect_encoding',\n",
              " 'dump',\n",
              " 'dumps',\n",
              " 'encoder',\n",
              " 'load',\n",
              " 'loads',\n",
              " 'scanner']"
            ]
          },
          "metadata": {},
          "execution_count": 3
        }
      ]
    },
    {
      "cell_type": "code",
      "source": [
        "fi = open(\"sample_data/anscombe.json\", \"r\")\n",
        "f = json.load(fi)\n",
        "fi.close()"
      ],
      "metadata": {
        "id": "aUAZnOoe-CgH"
      },
      "execution_count": null,
      "outputs": []
    },
    {
      "cell_type": "code",
      "source": [
        "type(f)"
      ],
      "metadata": {
        "colab": {
          "base_uri": "https://localhost:8080/"
        },
        "id": "VVCwEZUKT_0s",
        "outputId": "a6a22f73-682e-4d5f-b012-9daac830dbab"
      },
      "execution_count": null,
      "outputs": [
        {
          "output_type": "execute_result",
          "data": {
            "text/plain": [
              "list"
            ]
          },
          "metadata": {},
          "execution_count": 10
        }
      ]
    },
    {
      "cell_type": "code",
      "source": [
        "f[0]"
      ],
      "metadata": {
        "colab": {
          "base_uri": "https://localhost:8080/"
        },
        "id": "bDaLLbFaT_7H",
        "outputId": "e86b4993-779b-4b2d-ae1d-9dd8a3408cf9"
      },
      "execution_count": null,
      "outputs": [
        {
          "output_type": "execute_result",
          "data": {
            "text/plain": [
              "{'Series': 'I', 'X': 10.0, 'Y': 8.04}"
            ]
          },
          "metadata": {},
          "execution_count": 11
        }
      ]
    },
    {
      "cell_type": "code",
      "source": [
        "type(f[0])"
      ],
      "metadata": {
        "colab": {
          "base_uri": "https://localhost:8080/"
        },
        "id": "uyGtEGhzVg_Z",
        "outputId": "7ae1ab6a-7583-4fb4-b7b0-3ec57ece9400"
      },
      "execution_count": null,
      "outputs": [
        {
          "output_type": "execute_result",
          "data": {
            "text/plain": [
              "dict"
            ]
          },
          "metadata": {},
          "execution_count": 12
        }
      ]
    },
    {
      "cell_type": "code",
      "source": [
        "json.dumps(f[0])"
      ],
      "metadata": {
        "colab": {
          "base_uri": "https://localhost:8080/",
          "height": 35
        },
        "id": "QYyVLGsTViFz",
        "outputId": "3527cab5-0d4c-4870-c164-4bc18d986472"
      },
      "execution_count": null,
      "outputs": [
        {
          "output_type": "execute_result",
          "data": {
            "text/plain": [
              "'{\"Series\": \"I\", \"X\": 10.0, \"Y\": 8.04}'"
            ],
            "application/vnd.google.colaboratory.intrinsic+json": {
              "type": "string"
            }
          },
          "metadata": {},
          "execution_count": 13
        }
      ]
    },
    {
      "cell_type": "code",
      "source": [],
      "metadata": {
        "id": "eHxL4P46ViYK"
      },
      "execution_count": null,
      "outputs": []
    },
    {
      "cell_type": "code",
      "source": [],
      "metadata": {
        "id": "HU6p7XpxVit-"
      },
      "execution_count": null,
      "outputs": []
    },
    {
      "cell_type": "markdown",
      "source": [
        "# 12-Random_Numbers"
      ],
      "metadata": {
        "id": "Vp96RxIAUAAm"
      }
    },
    {
      "cell_type": "code",
      "source": [
        "import random\n",
        "# seed\n",
        "\n",
        "random.seed(1)\n",
        "print(random.random())\n",
        "print(random.randint(3, 9))\n",
        "\n",
        "\n",
        "random.seed(7)\n",
        "print(random.random())\n",
        "print(random.randint(3, 9))\n",
        "\n",
        "\n",
        "\n",
        "random.seed(1)\n",
        "print(random.random())\n",
        "print(random.randint(3, 9))\n",
        "\n",
        "\n",
        "random.seed(7)\n",
        "print(random.random())\n",
        "print(random.randint(3, 9))\n",
        "# I think you got the idea=)"
      ],
      "metadata": {
        "id": "MUCUUEDEUHuy",
        "colab": {
          "base_uri": "https://localhost:8080/"
        },
        "outputId": "1ef2e9c1-05cd-4e6a-ec2b-af855d0f24e9"
      },
      "execution_count": null,
      "outputs": [
        {
          "output_type": "stream",
          "name": "stdout",
          "text": [
            "0.13436424411240122\n",
            "9\n",
            "0.32383276483316237\n",
            "4\n",
            "0.13436424411240122\n",
            "9\n",
            "0.32383276483316237\n",
            "4\n"
          ]
        }
      ]
    },
    {
      "cell_type": "code",
      "source": [],
      "metadata": {
        "id": "VtsuFS-aTgwm"
      },
      "execution_count": null,
      "outputs": []
    },
    {
      "cell_type": "code",
      "source": [
        "import secrets\n",
        "dir(secrets)"
      ],
      "metadata": {
        "colab": {
          "base_uri": "https://localhost:8080/"
        },
        "id": "4jYYuUJVTg9B",
        "outputId": "99a2e2f9-1d54-4527-a0f7-f71d848c0c9c"
      },
      "execution_count": null,
      "outputs": [
        {
          "output_type": "execute_result",
          "data": {
            "text/plain": [
              "['DEFAULT_ENTROPY',\n",
              " 'SystemRandom',\n",
              " '__all__',\n",
              " '__builtins__',\n",
              " '__cached__',\n",
              " '__doc__',\n",
              " '__file__',\n",
              " '__loader__',\n",
              " '__name__',\n",
              " '__package__',\n",
              " '__spec__',\n",
              " '_sysrand',\n",
              " 'base64',\n",
              " 'binascii',\n",
              " 'choice',\n",
              " 'compare_digest',\n",
              " 'os',\n",
              " 'randbelow',\n",
              " 'randbits',\n",
              " 'token_bytes',\n",
              " 'token_hex',\n",
              " 'token_urlsafe']"
            ]
          },
          "metadata": {},
          "execution_count": 7
        }
      ]
    },
    {
      "cell_type": "code",
      "source": [
        "print(secrets.randbelow(9))\n",
        "\n",
        "print(secrets.randbits(5))\n",
        "# up to 0b11111"
      ],
      "metadata": {
        "colab": {
          "base_uri": "https://localhost:8080/"
        },
        "id": "DJPx_uQoThCe",
        "outputId": "a9d6ec1c-e512-42af-a1c9-49cb8f629af6"
      },
      "execution_count": null,
      "outputs": [
        {
          "output_type": "stream",
          "name": "stdout",
          "text": [
            "8\n",
            "27\n"
          ]
        }
      ]
    },
    {
      "cell_type": "code",
      "source": [
        "print(0b11111)"
      ],
      "metadata": {
        "colab": {
          "base_uri": "https://localhost:8080/"
        },
        "id": "9xM62gLKThG8",
        "outputId": "d2125d56-cce6-46f2-f107-fec2c409d6fe"
      },
      "execution_count": null,
      "outputs": [
        {
          "output_type": "stream",
          "name": "stdout",
          "text": [
            "31\n"
          ]
        }
      ]
    },
    {
      "cell_type": "code",
      "source": [
        "l = list(\"Hello it's me\")\n",
        "print(l)\n",
        "print(secrets.choice(l))\n",
        "\n",
        "random.shuffle(l)\n",
        "print(l)\n",
        "\n"
      ],
      "metadata": {
        "colab": {
          "base_uri": "https://localhost:8080/"
        },
        "id": "kjuNBdATThLe",
        "outputId": "a12bb8e3-5200-429f-be36-0f219137a188"
      },
      "execution_count": null,
      "outputs": [
        {
          "output_type": "stream",
          "name": "stdout",
          "text": [
            "['H', 'e', 'l', 'l', 'o', ' ', 'i', 't', \"'\", 's', ' ', 'm', 'e']\n",
            "s\n",
            "[' ', ' ', 't', \"'\", 'l', 'e', 'o', 'm', 'l', 'H', 'i', 'e', 's']\n"
          ]
        }
      ]
    },
    {
      "cell_type": "code",
      "source": [
        "print(np.random.rand(4,3))\n",
        "print(np.random.randint(0,7,(2,3)))\n",
        "ar = np.array([[1,2,3],[2,5,7],[3,6,7]])\n",
        "print(ar)\n",
        "np.random.shuffle(ar)\n",
        "print(ar) #shuffles along the first dimention"
      ],
      "metadata": {
        "colab": {
          "base_uri": "https://localhost:8080/"
        },
        "id": "PdSNEZwne6pX",
        "outputId": "7f9f3899-2a2c-4118-c9dc-9404a158f6a6"
      },
      "execution_count": null,
      "outputs": [
        {
          "output_type": "stream",
          "name": "stdout",
          "text": [
            "[[0.52597641 0.98173766 0.84599912]\n",
            " [0.52525932 0.39972688 0.7771537 ]\n",
            " [0.01145209 0.39390845 0.2061058 ]\n",
            " [0.06456969 0.52868311 0.01576641]]\n",
            "[[2 0 4]\n",
            " [3 5 5]]\n",
            "[[1 2 3]\n",
            " [2 5 7]\n",
            " [3 6 7]]\n",
            "[[1 2 3]\n",
            " [2 5 7]\n",
            " [3 6 7]]\n"
          ]
        }
      ]
    },
    {
      "cell_type": "code",
      "source": [
        "import matplotlib.pyplot as plt\n",
        "lis = []\n",
        "\n",
        "# try 100 and 5000\n",
        "for i in range(1000):\n",
        "  lis.append(random.randint(0,10))\n",
        "dic = Counter(lis)\n",
        "print(dic)\n",
        "\n",
        "plt.bar(dic.keys(), dic.values())\n",
        "plt.title('randint')\n",
        "plt.show()"
      ],
      "metadata": {
        "colab": {
          "base_uri": "https://localhost:8080/",
          "height": 298
        },
        "id": "aAoKeD3Ve6yW",
        "outputId": "705f8277-d8c0-47e3-88d9-126adfac2570"
      },
      "execution_count": null,
      "outputs": [
        {
          "output_type": "stream",
          "name": "stdout",
          "text": [
            "Counter({1: 110, 7: 101, 5: 97, 3: 94, 9: 94, 8: 93, 0: 92, 2: 87, 4: 79, 6: 79, 10: 74})\n"
          ]
        },
        {
          "output_type": "display_data",
          "data": {
            "text/plain": [
              "<Figure size 432x288 with 1 Axes>"
            ],
            "image/png": "[encoded data removed]"
          },
          "metadata": {
            "needs_background": "light"
          }
        }
      ]
    },
    {
      "cell_type": "code",
      "source": [
        "lis = []\n",
        "\n",
        "# try 100 and 5000\n",
        "for i in range(1000):\n",
        "  lis.append(secrets.randbelow(10))\n",
        "dic = Counter(lis)\n",
        "print(dic)\n",
        "\n",
        "plt.bar(dic.keys(), dic.values())\n",
        "plt.title('secret')\n",
        "plt.show()"
      ],
      "metadata": {
        "colab": {
          "base_uri": "https://localhost:8080/",
          "height": 298
        },
        "id": "-NU1lrRWe66t",
        "outputId": "58b502dd-9bef-4f78-df38-a121d57062e3"
      },
      "execution_count": null,
      "outputs": [
        {
          "output_type": "stream",
          "name": "stdout",
          "text": [
            "Counter({4: 113, 1: 111, 3: 105, 7: 103, 8: 102, 5: 100, 9: 97, 0: 95, 6: 89, 2: 85})\n"
          ]
        },
        {
          "output_type": "display_data",
          "data": {
            "text/plain": [
              "<Figure size 432x288 with 1 Axes>"
            ],
            "image/png": "[encoded data removed]"
          },
          "metadata": {
            "needs_background": "light"
          }
        }
      ]
    },
    {
      "cell_type": "code",
      "source": [
        "lis = []\n",
        "\n",
        "# try 100 and 5000\n",
        "for i in range(5000):\n",
        "  lis.append(random.normalvariate(0,1))\n",
        "\n",
        "\n",
        "plt.hist(lis, bins= 'auto')\n",
        "plt.title('normal')\n",
        "plt.show()\n",
        "# numpy also has a histogram =)"
      ],
      "metadata": {
        "colab": {
          "base_uri": "https://localhost:8080/",
          "height": 281
        },
        "id": "6plI-rCel1GB",
        "outputId": "58102bf7-dde3-44b0-85a6-d41d957a7823"
      },
      "execution_count": null,
      "outputs": [
        {
          "output_type": "display_data",
          "data": {
            "text/plain": [
              "<Figure size 432x288 with 1 Axes>"
            ],
            "image/png": "[encoded data removed]"
          },
          "metadata": {
            "needs_background": "light"
          }
        }
      ]
    },
    {
      "cell_type": "code",
      "source": [],
      "metadata": {
        "id": "8ZFX0Uf7l1bH"
      },
      "execution_count": null,
      "outputs": []
    },
    {
      "cell_type": "markdown",
      "source": [
        "# 13-Decorators"
      ],
      "metadata": {
        "id": "XIwRcvNHe_h4"
      }
    },
    {
      "cell_type": "code",
      "source": [
        "def deco(funct):\n",
        "  def wrap():\n",
        "    print('befor')\n",
        "    funct()\n",
        "    print('after')\n",
        "  return wrap\n",
        "\n",
        "def name():\n",
        "  print('me')\n",
        "\n",
        "name = deco(name)\n",
        "\n",
        "name()"
      ],
      "metadata": {
        "id": "Rxa1YInje_0P",
        "colab": {
          "base_uri": "https://localhost:8080/"
        },
        "outputId": "6f62fb82-ba95-47db-c3bf-64d09b06277d"
      },
      "execution_count": null,
      "outputs": [
        {
          "output_type": "stream",
          "name": "stdout",
          "text": [
            "befor\n",
            "me\n",
            "after\n"
          ]
        }
      ]
    },
    {
      "cell_type": "code",
      "source": [
        "def deco(funct):\n",
        "  def wrap():\n",
        "    print('befor')\n",
        "    funct()\n",
        "    print('after')\n",
        "  return wrap\n",
        "\n",
        "@deco\n",
        "def name():\n",
        "  print('me')\n",
        "\n",
        "\n",
        "name()"
      ],
      "metadata": {
        "colab": {
          "base_uri": "https://localhost:8080/"
        },
        "id": "wgMvgkJwnHzx",
        "outputId": "fee31cd0-b9ef-47e6-ca62-37c06d848c78"
      },
      "execution_count": null,
      "outputs": [
        {
          "output_type": "stream",
          "name": "stdout",
          "text": [
            "befor\n",
            "me\n",
            "after\n"
          ]
        }
      ]
    },
    {
      "cell_type": "code",
      "source": [
        "import functools\n",
        "\n",
        "def check(fun):\n",
        "\n",
        "  def wrap(a,b):\n",
        "    if b == 0:\n",
        "      print('Oops')\n",
        "      return\n",
        "    return fun(a,b)\n",
        "  return wrap\n",
        "\n",
        "\n",
        "@check\n",
        "def divi(a,b):\n",
        "  return a/b\n",
        "\n",
        "print(divi(1,2))\n",
        "\n",
        "\n",
        "print(divi(1,0))\n",
        "\n",
        "print(help(divi))\n",
        "print(divi.__name__)"
      ],
      "metadata": {
        "colab": {
          "base_uri": "https://localhost:8080/"
        },
        "id": "Xha44Eb7nH6Y",
        "outputId": "22c59cee-031b-4add-bc1d-4c5450a3fc55"
      },
      "execution_count": null,
      "outputs": [
        {
          "output_type": "stream",
          "name": "stdout",
          "text": [
            "0.5\n",
            "Oops\n",
            "None\n",
            "Help on function wrap in module __main__:\n",
            "\n",
            "wrap(a, b)\n",
            "\n",
            "None\n",
            "wrap\n"
          ]
        }
      ]
    },
    {
      "cell_type": "code",
      "source": [],
      "metadata": {
        "id": "yh8VBOe3nH_t"
      },
      "execution_count": null,
      "outputs": []
    },
    {
      "cell_type": "code",
      "source": [
        "import functools\n",
        "\n",
        "def check(fun):\n",
        "  @functools.wraps(fun)\n",
        "  def wrap(a,b):\n",
        "    if b == 0:\n",
        "      print('Oops')\n",
        "      return\n",
        "    return fun(a,b)\n",
        "  return wrap\n",
        "\n",
        "\n",
        "@check\n",
        "def divi(a,b):\n",
        "  return a/b\n",
        "\n",
        "print(help(divi))\n",
        "print(divi.__name__)"
      ],
      "metadata": {
        "id": "zkULcah_nIEl",
        "colab": {
          "base_uri": "https://localhost:8080/"
        },
        "outputId": "998b861a-1fca-4dde-bb96-48a4d2775c5d"
      },
      "execution_count": null,
      "outputs": [
        {
          "output_type": "stream",
          "name": "stdout",
          "text": [
            "Help on function divi in module __main__:\n",
            "\n",
            "divi(a, b)\n",
            "\n",
            "None\n",
            "divi\n"
          ]
        }
      ]
    },
    {
      "cell_type": "code",
      "source": [],
      "metadata": {
        "id": "xqmYtD7TnIIv"
      },
      "execution_count": null,
      "outputs": []
    },
    {
      "cell_type": "markdown",
      "source": [
        "# 14-Generators"
      ],
      "metadata": {
        "id": "D9_-iDxAnINR"
      }
    },
    {
      "cell_type": "code",
      "source": [
        "# functions that return objects that could be iterated over\n",
        "\n",
        "def gener():\n",
        "  yield 1\n",
        "  yield 2\n",
        "  yield 4\n",
        "\n",
        "\n",
        "g = gener()\n",
        "\n",
        "for i in g:\n",
        "  print(i)\n",
        "\n",
        "\n",
        "print('************')\n",
        "f = gener()\n",
        "print(next(f))\n",
        "print(next(f))"
      ],
      "metadata": {
        "colab": {
          "base_uri": "https://localhost:8080/"
        },
        "id": "BX6ZHTmyj0vn",
        "outputId": "3653760e-4829-4197-e190-6fb3f9f1d073"
      },
      "execution_count": null,
      "outputs": [
        {
          "output_type": "stream",
          "name": "stdout",
          "text": [
            "1\n",
            "2\n",
            "4\n",
            "************\n",
            "1\n",
            "2\n"
          ]
        }
      ]
    },
    {
      "cell_type": "code",
      "source": [
        "# generators would be excecuted lazily\n",
        "# in other words it won't do anything until you nudge it\n",
        "\n",
        "# it's also sooo more efficient\n",
        "\n",
        "import sys\n",
        "\n",
        "def count(n):\n",
        "  nums = []\n",
        "  num = 0\n",
        "  while num < n:\n",
        "    nums.append(n)\n",
        "    num += 1\n",
        "  return nums\n",
        "\n",
        "\n",
        "def count_g(n):\n",
        "  num = 0\n",
        "  while num < n:\n",
        "    yield n\n",
        "    num += 1\n",
        "\n",
        "print(sys.getsizeof(count(200)))\n",
        "print(sys.getsizeof(count_g(200)))\n",
        "\n",
        "# it may take a while :)\n",
        "# soory my bad : instead of num+=1 I put n+=1 and it went intp infinit loop =) sorry"
      ],
      "metadata": {
        "colab": {
          "base_uri": "https://localhost:8080/"
        },
        "id": "gmIpxULdj053",
        "outputId": "aef91177-586d-42f0-bdf4-bf234be8e925"
      },
      "execution_count": null,
      "outputs": [
        {
          "output_type": "stream",
          "name": "stdout",
          "text": [
            "1680\n",
            "128\n"
          ]
        }
      ]
    },
    {
      "cell_type": "code",
      "source": [
        "# generators in expression (it's sort of like lambda)\n",
        "\n",
        "gene = (i*2 for i in range(4))\n",
        "\n",
        "f = next(gene)\n",
        "print(f)\n",
        "\n",
        "f = next(gene)\n",
        "print(f)\n",
        "\n",
        "f = next(gene)\n",
        "print(f)\n",
        "\n",
        "# and they can be convert into each othe\n",
        "gelist = list(gene)\n",
        "\n",
        "# this makes list with what's left in gene , interesting!\n",
        "print(gelist)\n",
        "\n",
        "gene = (i*2 for i in range(4))\n",
        "print(list(gene))\n"
      ],
      "metadata": {
        "colab": {
          "base_uri": "https://localhost:8080/"
        },
        "id": "-nM_RL4jj1BU",
        "outputId": "3e7ad90e-8ad0-4bb6-ca17-45c0090e8e13"
      },
      "execution_count": null,
      "outputs": [
        {
          "output_type": "stream",
          "name": "stdout",
          "text": [
            "0\n",
            "2\n",
            "4\n",
            "[6]\n",
            "[0, 2, 4, 6]\n"
          ]
        }
      ]
    },
    {
      "cell_type": "code",
      "source": [],
      "metadata": {
        "id": "QhC4juqNj1GG"
      },
      "execution_count": null,
      "outputs": []
    },
    {
      "cell_type": "markdown",
      "source": [
        "# 15-Threading and Multiprocessing"
      ],
      "metadata": {
        "id": "swN0fh60j1KQ"
      }
    },
    {
      "cell_type": "code",
      "source": [
        "# they're both helping us to parallel our code\n",
        "\n",
        "from multiprocessing import Process\n",
        "\n",
        "import os\n",
        "num_processes = os.cpu_count()\n",
        "print(num_processes)"
      ],
      "metadata": {
        "colab": {
          "base_uri": "https://localhost:8080/"
        },
        "id": "5DVKtUInj1N9",
        "outputId": "c1d902da-73c2-4160-fa30-5fcdcac76444"
      },
      "execution_count": null,
      "outputs": [
        {
          "output_type": "stream",
          "name": "stdout",
          "text": [
            "2\n"
          ]
        }
      ]
    },
    {
      "cell_type": "code",
      "source": [
        "# I'll hamper the parallelization related topics and jump into the next topic\n"
      ],
      "metadata": {
        "id": "DQzefXVVj1RK"
      },
      "execution_count": null,
      "outputs": []
    },
    {
      "cell_type": "markdown",
      "source": [
        "# 16-Finction Arguments"
      ],
      "metadata": {
        "id": "eBpQ9RLUnI5Y"
      }
    },
    {
      "cell_type": "code",
      "source": [
        "def fun(a,b,c):\n",
        "  print(a,b,c)"
      ],
      "metadata": {
        "id": "TWAMQSPp_xOf"
      },
      "execution_count": null,
      "outputs": []
    },
    {
      "cell_type": "code",
      "source": [
        "fun(1,2,3) # positional arg"
      ],
      "metadata": {
        "colab": {
          "base_uri": "https://localhost:8080/"
        },
        "id": "3lPSnR_-_x6d",
        "outputId": "2c66778a-b4a8-40ca-ea86-ae738268612a"
      },
      "execution_count": null,
      "outputs": [
        {
          "output_type": "stream",
          "name": "stdout",
          "text": [
            "1 2 3\n"
          ]
        }
      ]
    },
    {
      "cell_type": "code",
      "source": [
        "fun(c=1,a=2,b=4)  # keyword arg\n",
        "fun(3,5,c=7)"
      ],
      "metadata": {
        "colab": {
          "base_uri": "https://localhost:8080/"
        },
        "id": "mmgE0rVG_x_4",
        "outputId": "23485b3f-8eb2-423d-f8af-6b1c365f0ea7"
      },
      "execution_count": null,
      "outputs": [
        {
          "output_type": "stream",
          "name": "stdout",
          "text": [
            "2 4 1\n",
            "3 5 7\n"
          ]
        }
      ]
    },
    {
      "cell_type": "code",
      "source": [
        "def func(a,b,c=6):\n",
        "  print(a,b,c)"
      ],
      "metadata": {
        "id": "1--1Ik6K_yEW"
      },
      "execution_count": null,
      "outputs": []
    },
    {
      "cell_type": "code",
      "source": [
        "func(1,2)\n",
        "func(1,4,8)"
      ],
      "metadata": {
        "colab": {
          "base_uri": "https://localhost:8080/"
        },
        "id": "W-60aRmA_yH3",
        "outputId": "61eea5f8-2141-4be8-d20e-20798958018a"
      },
      "execution_count": null,
      "outputs": [
        {
          "output_type": "stream",
          "name": "stdout",
          "text": [
            "1 2 6\n",
            "1 4 8\n"
          ]
        }
      ]
    },
    {
      "cell_type": "code",
      "source": [
        "def funct(*args, **kwargs):\n",
        "  d = {k:kwargs[k] for k in kwargs}\n",
        "  print(args)\n",
        "  print(kwargs)\n",
        "  print(d)\n",
        "\n"
      ],
      "metadata": {
        "id": "KXmjDQEf_yLg"
      },
      "execution_count": null,
      "outputs": []
    },
    {
      "cell_type": "code",
      "source": [
        "funct(1,3,q=4,d=0,f=8)"
      ],
      "metadata": {
        "colab": {
          "base_uri": "https://localhost:8080/"
        },
        "id": "mwKc2udGY2DY",
        "outputId": "ddaecb2e-5cfc-4675-916f-0284963e5e06"
      },
      "execution_count": null,
      "outputs": [
        {
          "output_type": "stream",
          "name": "stdout",
          "text": [
            "(1, 3)\n",
            "{'q': 4, 'd': 0, 'f': 8}\n",
            "{'q': 4, 'd': 0, 'f': 8}\n"
          ]
        }
      ]
    },
    {
      "cell_type": "code",
      "source": [
        "ml = [1,4,2]\n",
        "md = {'w':4, 'h':7, 'o':9}"
      ],
      "metadata": {
        "id": "j131UG7JY2L0"
      },
      "execution_count": null,
      "outputs": []
    },
    {
      "cell_type": "code",
      "source": [
        "funct(ml)\n",
        "funct(md)\n",
        "funct(*md)\n",
        "funct(**md)"
      ],
      "metadata": {
        "colab": {
          "base_uri": "https://localhost:8080/"
        },
        "id": "e2cEOf8_Y2TN",
        "outputId": "7c4b6613-2fd1-4fb4-f42e-7f3dada259ac"
      },
      "execution_count": null,
      "outputs": [
        {
          "output_type": "stream",
          "name": "stdout",
          "text": [
            "([1, 4, 2],)\n",
            "{}\n",
            "{}\n",
            "({'w': 4, 'h': 7, 'o': 9},)\n",
            "{}\n",
            "{}\n",
            "('w', 'h', 'o')\n",
            "{}\n",
            "{}\n",
            "()\n",
            "{'w': 4, 'h': 7, 'o': 9}\n",
            "{'w': 4, 'h': 7, 'o': 9}\n"
          ]
        }
      ]
    },
    {
      "cell_type": "code",
      "source": [],
      "metadata": {
        "id": "VCnrJYdhY2aF"
      },
      "execution_count": null,
      "outputs": []
    },
    {
      "cell_type": "code",
      "source": [],
      "metadata": {
        "id": "71uoGpngY2fd"
      },
      "execution_count": null,
      "outputs": []
    },
    {
      "cell_type": "code",
      "source": [
        "{1:4, 5:7, 't':9}"
      ],
      "metadata": {
        "colab": {
          "base_uri": "https://localhost:8080/"
        },
        "id": "EuBFFRJUb2YG",
        "outputId": "ddf71011-d007-4c6d-8c36-20e56a94541d"
      },
      "execution_count": null,
      "outputs": [
        {
          "output_type": "execute_result",
          "data": {
            "text/plain": [
              "{1: 4, 5: 7, 't': 9}"
            ]
          },
          "metadata": {},
          "execution_count": 35
        }
      ]
    },
    {
      "cell_type": "code",
      "source": [
        "print(md)\n",
        "print(*md)"
      ],
      "metadata": {
        "colab": {
          "base_uri": "https://localhost:8080/"
        },
        "id": "evC8y21Kb2fH",
        "outputId": "2e4cc035-63cc-4e2c-9325-fb607b8b1fba"
      },
      "execution_count": null,
      "outputs": [
        {
          "output_type": "stream",
          "name": "stdout",
          "text": [
            "{'w': 4, 'h': 7, 'o': 9}\n",
            "w h o\n"
          ]
        }
      ]
    },
    {
      "cell_type": "code",
      "source": [],
      "metadata": {
        "id": "zhhSciDub2ls"
      },
      "execution_count": null,
      "outputs": []
    },
    {
      "cell_type": "markdown",
      "source": [
        "# 17-Asterisk operation"
      ],
      "metadata": {
        "id": "h48msaFF_yOe"
      }
    },
    {
      "cell_type": "code",
      "source": [
        "# the new functionality is unpacking\n",
        "print(md)\n",
        "print([*md, 5])\n",
        "print({**md, 5:6})"
      ],
      "metadata": {
        "id": "CaUvc2Db_yRU",
        "colab": {
          "base_uri": "https://localhost:8080/"
        },
        "outputId": "ce126ae6-1b6e-44c9-f251-6eb703de6b03"
      },
      "execution_count": null,
      "outputs": [
        {
          "output_type": "stream",
          "name": "stdout",
          "text": [
            "{'w': 4, 'h': 7, 'o': 9}\n",
            "['w', 'h', 'o', 5]\n",
            "{'w': 4, 'h': 7, 'o': 9, 5: 6}\n"
          ]
        }
      ]
    },
    {
      "cell_type": "code",
      "source": [
        "\n"
      ],
      "metadata": {
        "id": "C7UwmMW-e4UY"
      },
      "execution_count": null,
      "outputs": []
    },
    {
      "cell_type": "code",
      "source": [],
      "metadata": {
        "id": "vFJJSxtve4eu"
      },
      "execution_count": null,
      "outputs": []
    },
    {
      "cell_type": "markdown",
      "source": [
        "# 18-Shallow vs Deep copying"
      ],
      "metadata": {
        "id": "7GmlAZ3je4on"
      }
    },
    {
      "cell_type": "code",
      "source": [
        "import copy\n",
        "org = [1,2,3]\n",
        "cpy = copy.copy(org)\n",
        "cpy[1] = 8\n",
        "print(org)\n",
        "print(cpy)\n"
      ],
      "metadata": {
        "id": "-5LZL-wNe4yK",
        "colab": {
          "base_uri": "https://localhost:8080/"
        },
        "outputId": "c3f4a111-ba48-4997-cf08-2645ee78bac0"
      },
      "execution_count": null,
      "outputs": [
        {
          "output_type": "stream",
          "name": "stdout",
          "text": [
            "[1, 2, 3]\n",
            "[1, 8, 3]\n"
          ]
        }
      ]
    },
    {
      "cell_type": "code",
      "source": [
        "org = [[1,2,3],[6,7,7]]\n",
        "cpy = copy.copy(org)\n",
        "cpy[1][0] = 8\n",
        "print(org)\n",
        "print(cpy)\n",
        "\n"
      ],
      "metadata": {
        "id": "B0ipJVyl4qUi",
        "colab": {
          "base_uri": "https://localhost:8080/"
        },
        "outputId": "08e419a7-d382-47d6-cb7b-c01a5f0e01aa"
      },
      "execution_count": null,
      "outputs": [
        {
          "output_type": "stream",
          "name": "stdout",
          "text": [
            "[[1, 2, 3], [8, 7, 7]]\n",
            "[[1, 2, 3], [8, 7, 7]]\n"
          ]
        }
      ]
    },
    {
      "cell_type": "code",
      "source": [
        "org = [[1,2,3],[6,7,7]]\n",
        "cpy = copy.deepcopy(org)\n",
        "cpy[1][0] = 8\n",
        "print(org)\n",
        "print(cpy)\n",
        "\n"
      ],
      "metadata": {
        "colab": {
          "base_uri": "https://localhost:8080/"
        },
        "id": "OL6TsZdSGnrw",
        "outputId": "671424b5-809b-4985-d129-e6c3163dd38e"
      },
      "execution_count": null,
      "outputs": [
        {
          "output_type": "stream",
          "name": "stdout",
          "text": [
            "[[1, 2, 3], [6, 7, 7]]\n",
            "[[1, 2, 3], [8, 7, 7]]\n"
          ]
        }
      ]
    },
    {
      "cell_type": "code",
      "source": [
        "# the similar thing goes for class"
      ],
      "metadata": {
        "id": "yIyzHms5GsnK"
      },
      "execution_count": null,
      "outputs": []
    },
    {
      "cell_type": "markdown",
      "source": [
        "# 19-Context Manager"
      ],
      "metadata": {
        "id": "I0dMOi_-K25v"
      }
    },
    {
      "cell_type": "code",
      "source": [
        "# well it doesn't seem to be that much useful for me\n",
        "# then it means it's over =)"
      ],
      "metadata": {
        "id": "1Jm85DnmK34X"
      },
      "execution_count": null,
      "outputs": []
    }
  ]
}