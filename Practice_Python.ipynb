{
  "nbformat": 4,
  "nbformat_minor": 0,
  "metadata": {
    "colab": {
      "name": "Practice_Python.ipynb",
      "provenance": [],
      "authorship_tag": "ABX9TyNDjAgWvYAAcqgzcRdRlxTs",
      "include_colab_link": true
    },
    "kernelspec": {
      "name": "python3",
      "display_name": "Python 3"
    },
    "language_info": {
      "name": "python"
    }
  },
  "cells": [
    {
      "cell_type": "markdown",
      "metadata": {
        "id": "view-in-github",
        "colab_type": "text"
      },
      "source": [
        "<a href=\"https://colab.research.google.com/github/garfield-gray/manim/blob/main/Practice_Python.ipynb\" target=\"_parent\"><img src=\"https://colab.research.google.com/assets/colab-badge.svg\" alt=\"Open In Colab\"/></a>"
      ]
    },
    {
      "cell_type": "markdown",
      "source": [
        "it sounds lame yeah but I must practice python "
      ],
      "metadata": {
        "id": "7G-IxeACTyqq"
      }
    },
    {
      "cell_type": "code",
      "source": [
        "import numpy as np\n",
        "import math"
      ],
      "metadata": {
        "id": "vikz1erCVHcC"
      },
      "execution_count": 1,
      "outputs": []
    },
    {
      "cell_type": "markdown",
      "source": [
        "# 1-Lists"
      ],
      "metadata": {
        "id": "QrA0lrJiT7ii"
      }
    },
    {
      "cell_type": "code",
      "source": [
        "#repetitive stuff\n",
        "\n",
        "#comprehention \n",
        "a = [np.sqrt(i) for i in range(8)]\n",
        "print(a)\n",
        "b = a[:] #it's the abuse of alicing =)\n",
        "c = [j**2 for j in a]\n",
        "print(c)\n",
        "print(np.ceil(c))\n",
        "print(np.round(c))"
      ],
      "metadata": {
        "colab": {
          "base_uri": "https://localhost:8080/"
        },
        "id": "qorzN6ZtUKHq",
        "outputId": "3291fe09-b634-4e5c-a9d1-26cf93d0e69b"
      },
      "execution_count": 2,
      "outputs": [
        {
          "output_type": "stream",
          "name": "stdout",
          "text": [
            "[0.0, 1.0, 1.4142135623730951, 1.7320508075688772, 2.0, 2.23606797749979, 2.449489742783178, 2.6457513110645907]\n",
            "[0.0, 1.0, 2.0000000000000004, 2.9999999999999996, 4.0, 5.000000000000001, 5.999999999999999, 7.000000000000001]\n",
            "[0. 1. 3. 3. 4. 6. 6. 8.]\n",
            "[0. 1. 2. 3. 4. 5. 6. 7.]\n"
          ]
        }
      ]
    },
    {
      "cell_type": "code",
      "source": [
        "#slicing\n",
        "l = [i for i in range(17)]\n",
        "print(l)\n",
        "lm = l[0:15:2]\n",
        "print(lm)\n",
        "lmm = l[15:0:-2]\n",
        "print(lmm)\n",
        "\n",
        "\n",
        "#I beleive now you must've got it right know(i'm not sure about grammer here!)"
      ],
      "metadata": {
        "colab": {
          "base_uri": "https://localhost:8080/"
        },
        "id": "yACp4025VB6X",
        "outputId": "ad85493c-1ae0-40e0-d0dd-40657520f095"
      },
      "execution_count": null,
      "outputs": [
        {
          "output_type": "stream",
          "name": "stdout",
          "text": [
            "[0, 1, 2, 3, 4, 5, 6, 7, 8, 9, 10, 11, 12, 13, 14, 15, 16]\n",
            "[0, 2, 4, 6, 8, 10, 12, 14]\n",
            "[15, 13, 11, 9, 7, 5, 3, 1]\n"
          ]
        }
      ]
    },
    {
      "cell_type": "markdown",
      "source": [
        "# 2-Tuples"
      ],
      "metadata": {
        "id": "RmpZVhokXqoZ"
      }
    },
    {
      "cell_type": "code",
      "source": [
        "t = (1, 'alor', 6)\n",
        "print(t)"
      ],
      "metadata": {
        "colab": {
          "base_uri": "https://localhost:8080/"
        },
        "id": "YKKPpY4tJFpt",
        "outputId": "96521102-e15d-4117-8212-0a32ab49cf27"
      },
      "execution_count": null,
      "outputs": [
        {
          "output_type": "stream",
          "name": "stdout",
          "text": [
            "(1, 'alor', 6)\n"
          ]
        }
      ]
    },
    {
      "cell_type": "code",
      "source": [
        "tu = 1,4,'hi'\n",
        "print(tu)\n",
        "# note: parentheses are optional in python, now ypu get sth like \"a, b = f(blah blah)\" =))"
      ],
      "metadata": {
        "colab": {
          "base_uri": "https://localhost:8080/"
        },
        "id": "JWbpGn6wJM8x",
        "outputId": "cef50710-6f0c-4e38-a7ec-87f8fb20362c"
      },
      "execution_count": null,
      "outputs": [
        {
          "output_type": "stream",
          "name": "stdout",
          "text": [
            "(1, 4, 'hi')\n"
          ]
        }
      ]
    },
    {
      "cell_type": "code",
      "source": [
        "# slicing, indexing, if   in statement are mainly like what we had in the list"
      ],
      "metadata": {
        "id": "Xi4pBnndJUKk"
      },
      "execution_count": null,
      "outputs": []
    },
    {
      "cell_type": "code",
      "source": [
        "i1, i2, i3 = ('q', 'u', 'p')\n",
        "print(i1)"
      ],
      "metadata": {
        "colab": {
          "base_uri": "https://localhost:8080/"
        },
        "id": "9-wEpqOjJ_m1",
        "outputId": "78ffb197-9f7c-460c-f583-269934333780"
      },
      "execution_count": null,
      "outputs": [
        {
          "output_type": "stream",
          "name": "stdout",
          "text": [
            "q\n"
          ]
        }
      ]
    },
    {
      "cell_type": "code",
      "source": [
        "#Wow\n",
        "i1, *i2, i3 = ('q', 'u','k','r', 'p')\n",
        "print(i2)\n",
        "i1, i2, *i3 = ('q', 'u','k','r', 'p')\n",
        "print(i3)"
      ],
      "metadata": {
        "colab": {
          "base_uri": "https://localhost:8080/"
        },
        "id": "gFuQhRLeKNK_",
        "outputId": "b35a2949-715a-4648-e814-d42b8d894ac6"
      },
      "execution_count": null,
      "outputs": [
        {
          "output_type": "stream",
          "name": "stdout",
          "text": [
            "['u', 'k', 'r']\n",
            "['k', 'r', 'p']\n"
          ]
        }
      ]
    },
    {
      "cell_type": "code",
      "source": [
        "import sys\n",
        "print(sys.getsizeof(i3))\n",
        "print(sys.getsizeof(i1))\n",
        "#I beleive know you get what's sys for=)"
      ],
      "metadata": {
        "colab": {
          "base_uri": "https://localhost:8080/"
        },
        "id": "3o9V6cmLKZZ5",
        "outputId": "a2bd5b02-8932-47d8-c3cd-0cb7baee8ff8"
      },
      "execution_count": null,
      "outputs": [
        {
          "output_type": "stream",
          "name": "stdout",
          "text": [
            "120\n",
            "50\n"
          ]
        }
      ]
    },
    {
      "cell_type": "markdown",
      "source": [
        "# 3-Dictionaries"
      ],
      "metadata": {
        "id": "BAB1RrLeK4a_"
      }
    },
    {
      "cell_type": "code",
      "source": [
        "# unordered and mutable \n",
        "# cause it's unordered, there's no indexing \n",
        "d = {'key':'value', 'h':'j', 'h':'g'}\n",
        "print(d)\n",
        "print(d['h'])\n",
        "print(d.items())\n",
        "print(type(d.items()))\n",
        "print(d.keys())\n",
        "print(type(d.keys()))"
      ],
      "metadata": {
        "id": "4n6KQn9iLKfT",
        "colab": {
          "base_uri": "https://localhost:8080/"
        },
        "outputId": "26c8ec9c-45e5-4b22-d76c-3e5b05913032"
      },
      "execution_count": null,
      "outputs": [
        {
          "output_type": "stream",
          "name": "stdout",
          "text": [
            "{'key': 'value', 'h': 'g'}\n",
            "g\n",
            "dict_items([('key', 'value'), ('h', 'g')])\n",
            "<class 'dict_items'>\n",
            "dict_keys(['key', 'h'])\n",
            "<class 'dict_keys'>\n"
          ]
        }
      ]
    },
    {
      "cell_type": "code",
      "source": [
        "# keys must be hashable variables(for instance, tuples could but lists couldn't)\n",
        "di = {(1,2): 'w', 3:6, 'rt':'er', 'tr':[1,2,3]}\n",
        "print (di)"
      ],
      "metadata": {
        "colab": {
          "base_uri": "https://localhost:8080/"
        },
        "id": "cNuuuJi62AzL",
        "outputId": "d28f1269-2520-412f-d14e-413d00a58b19"
      },
      "execution_count": null,
      "outputs": [
        {
          "output_type": "stream",
          "name": "stdout",
          "text": [
            "{(1, 2): 'w', 3: 6, 'rt': 'er', 'tr': [1, 2, 3]}\n"
          ]
        }
      ]
    },
    {
      "cell_type": "markdown",
      "source": [
        "# 4-Sets"
      ],
      "metadata": {
        "id": "s_yniWD55XmR"
      }
    },
    {
      "cell_type": "code",
      "source": [
        "#unordered, mutable, no duplicate\n",
        "# just like sets in mathematics\n",
        "s = {1, 2, 'r'}\n",
        "print(s)"
      ],
      "metadata": {
        "colab": {
          "base_uri": "https://localhost:8080/"
        },
        "id": "RZvXwi6c5iTW",
        "outputId": "bd36c2a8-b3da-4a79-b1a5-98f40f6b8c32"
      },
      "execution_count": null,
      "outputs": [
        {
          "output_type": "stream",
          "name": "stdout",
          "text": [
            "{'r', 1, 2}\n"
          ]
        }
      ]
    },
    {
      "cell_type": "code",
      "source": [
        "se = set('alor on dance')\n",
        "print(se)"
      ],
      "metadata": {
        "colab": {
          "base_uri": "https://localhost:8080/"
        },
        "id": "v9D40P9t55dq",
        "outputId": "67f1f27e-250a-45e1-ae58-9b1538e844f9"
      },
      "execution_count": null,
      "outputs": [
        {
          "output_type": "stream",
          "name": "stdout",
          "text": [
            "{'n', 'e', 'a', ' ', 'c', 'r', 'o', 'd', 'l'}\n"
          ]
        }
      ]
    },
    {
      "cell_type": "code",
      "source": [
        "print(s.union(se))\n",
        "print(s.intersection(se))"
      ],
      "metadata": {
        "colab": {
          "base_uri": "https://localhost:8080/"
        },
        "id": "-y1QHIZN5-cw",
        "outputId": "3595be2d-8d20-4070-a691-57991c1bb609"
      },
      "execution_count": null,
      "outputs": [
        {
          "output_type": "stream",
          "name": "stdout",
          "text": [
            "{1, 2, 'n', 'e', 'a', ' ', 'c', 'r', 'o', 'd', 'l'}\n",
            "{'r'}\n"
          ]
        }
      ]
    },
    {
      "cell_type": "code",
      "source": [
        "print(s.issubset({1,2}))\n",
        "print(s.issuperset({1,2}))\n",
        "#frozenset -> immutable"
      ],
      "metadata": {
        "colab": {
          "base_uri": "https://localhost:8080/"
        },
        "id": "mR1Ffhqr6MPg",
        "outputId": "00fe21b2-a927-4069-c3ce-a1b9c1160755"
      },
      "execution_count": null,
      "outputs": [
        {
          "output_type": "stream",
          "name": "stdout",
          "text": [
            "False\n",
            "True\n"
          ]
        }
      ]
    },
    {
      "cell_type": "markdown",
      "source": [
        "# 5-Strings"
      ],
      "metadata": {
        "id": "YRC2J5Gx6guC"
      }
    },
    {
      "cell_type": "code",
      "source": [
        "# ordered and immutable\n",
        "\n",
        "s = \"\"\"elon musk\"\"\"\n",
        "print(s[1:4])"
      ],
      "metadata": {
        "id": "w8mHwy_B6ruH",
        "colab": {
          "base_uri": "https://localhost:8080/"
        },
        "outputId": "9b67bc45-29e3-4058-8e66-f4c2e5c6dee8"
      },
      "execution_count": 4,
      "outputs": [
        {
          "output_type": "stream",
          "name": "stdout",
          "text": [
            "lon\n"
          ]
        }
      ]
    },
    {
      "cell_type": "code",
      "source": [
        "if 'm' in s:\n",
        "  print('yep')\n",
        "else:\n",
        "  print('nope')"
      ],
      "metadata": {
        "colab": {
          "base_uri": "https://localhost:8080/"
        },
        "id": "8z90eYXup_Co",
        "outputId": "c7514fb7-875e-4ef7-d0cb-09f5c095d19b"
      },
      "execution_count": 5,
      "outputs": [
        {
          "output_type": "stream",
          "name": "stdout",
          "text": [
            "yep\n"
          ]
        }
      ]
    },
    {
      "cell_type": "code",
      "source": [
        "st = \"let all the hurts inside you die \"\n",
        "stsrtip = st.strip()\n",
        "print(stsrtip)\n",
        "ststa = st.startswith('l')\n",
        "print(ststa)\n",
        "print(st.find('e'))\n",
        "print(st.count('e'))\n",
        "print(st.replace('e', 'x'))\n",
        "\n",
        "stlist = st.split()\n",
        "print(stlist)\n",
        "\n",
        "stlistc = st.split(sep = ',') #didn't get this one\n",
        "print(stlistc)\n",
        "\n",
        "print(''.join(stlist))\n",
        "\n",
        "\n"
      ],
      "metadata": {
        "colab": {
          "base_uri": "https://localhost:8080/"
        },
        "id": "GDLyrvFrp_Sf",
        "outputId": "ad0e0377-db8d-4351-f5a7-1cc3c2e220f9"
      },
      "execution_count": 17,
      "outputs": [
        {
          "output_type": "stream",
          "name": "stdout",
          "text": [
            "let all the hurts inside you die\n",
            "True\n",
            "1\n",
            "4\n",
            "lxt all thx hurts insidx you dix \n",
            "['let', 'all', 'the', 'hurts', 'inside', 'you', 'die']\n",
            "['let all the hurts inside you die ']\n",
            "letallthehurtsinsideyoudie\n"
          ]
        }
      ]
    },
    {
      "cell_type": "code",
      "source": [
        "n = 2\n",
        "print(f\"I want {n}\")"
      ],
      "metadata": {
        "colab": {
          "base_uri": "https://localhost:8080/"
        },
        "id": "wnuYa9QStFSF",
        "outputId": "a69025ad-1802-48be-e4d6-f36dc3e1044c"
      },
      "execution_count": 18,
      "outputs": [
        {
          "output_type": "stream",
          "name": "stdout",
          "text": [
            "I want 2\n"
          ]
        }
      ]
    },
    {
      "cell_type": "markdown",
      "source": [
        "# 6-Collections"
      ],
      "metadata": {
        "id": "FviSg0nsp_zv"
      }
    },
    {
      "cell_type": "code",
      "source": [
        "from collections import Counter,namedtuple,deque"
      ],
      "metadata": {
        "id": "8cITc7Izp_-U"
      },
      "execution_count": 20,
      "outputs": []
    },
    {
      "cell_type": "code",
      "source": [
        "print(Counter(st))\n"
      ],
      "metadata": {
        "colab": {
          "base_uri": "https://localhost:8080/"
        },
        "id": "BcIfXUozqGrb",
        "outputId": "75b0534b-a179-459c-bf5f-8b55174c5185"
      },
      "execution_count": 21,
      "outputs": [
        {
          "output_type": "stream",
          "name": "stdout",
          "text": [
            "Counter({' ': 7, 'e': 4, 'l': 3, 't': 3, 'i': 3, 'h': 2, 'u': 2, 's': 2, 'd': 2, 'a': 1, 'r': 1, 'n': 1, 'y': 1, 'o': 1})\n"
          ]
        }
      ]
    },
    {
      "cell_type": "code",
      "source": [
        "d = deque(stlist)\n",
        "print(d)\n",
        "d.rotate(1)\n",
        "print(d)\n",
        "# deque also has append, pop etc\n",
        "\n",
        "#collections also has other useful things that you can go over"
      ],
      "metadata": {
        "colab": {
          "base_uri": "https://localhost:8080/"
        },
        "id": "Fp60dYQeqG4r",
        "outputId": "59a92c92-9f3a-4092-fb8e-5f8ab0224454"
      },
      "execution_count": 29,
      "outputs": [
        {
          "output_type": "stream",
          "name": "stdout",
          "text": [
            "deque(['let', 'all', 'the', 'hurts', 'inside', 'you', 'die'])\n",
            "deque(['die', 'let', 'all', 'the', 'hurts', 'inside', 'you'])\n"
          ]
        }
      ]
    },
    {
      "cell_type": "markdown",
      "source": [
        "# 7-Itertools"
      ],
      "metadata": {
        "id": "IVgIZsjiqHIg"
      }
    },
    {
      "cell_type": "code",
      "source": [
        ""
      ],
      "metadata": {
        "id": "qxWYpwATqOhp"
      },
      "execution_count": null,
      "outputs": []
    }
  ]
}