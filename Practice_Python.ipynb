{
  "nbformat": 4,
  "nbformat_minor": 0,
  "metadata": {
    "colab": {
      "name": "Practice_Python.ipynb",
      "provenance": [],
      "authorship_tag": "ABX9TyNaj72k5nrUk/NZctsHbFlB",
      "include_colab_link": true
    },
    "kernelspec": {
      "name": "python3",
      "display_name": "Python 3"
    },
    "language_info": {
      "name": "python"
    }
  },
  "cells": [
    {
      "cell_type": "markdown",
      "metadata": {
        "id": "view-in-github",
        "colab_type": "text"
      },
      "source": [
        "<a href=\"https://colab.research.google.com/github/garfield-gray/manim/blob/main/Practice_Python.ipynb\" target=\"_parent\"><img src=\"https://colab.research.google.com/assets/colab-badge.svg\" alt=\"Open In Colab\"/></a>"
      ]
    },
    {
      "cell_type": "markdown",
      "source": [
        "it sounds lame yeah but I must practice python "
      ],
      "metadata": {
        "id": "7G-IxeACTyqq"
      }
    },
    {
      "cell_type": "code",
      "source": [
        "import numpy as np\n",
        "import math"
      ],
      "metadata": {
        "id": "vikz1erCVHcC"
      },
      "execution_count": 1,
      "outputs": []
    },
    {
      "cell_type": "markdown",
      "source": [
        "# 1-Lists"
      ],
      "metadata": {
        "id": "QrA0lrJiT7ii"
      }
    },
    {
      "cell_type": "code",
      "source": [
        "#repetitive stuff\n",
        "\n",
        "#comprehention \n",
        "a = [np.sqrt(i) for i in range(8)]\n",
        "print(a)\n",
        "b = a[:] #it's the abuse of alicing =)\n",
        "c = [j**2 for j in a]\n",
        "print(c)\n",
        "print(np.ceil(c))\n",
        "print(np.round(c))"
      ],
      "metadata": {
        "colab": {
          "base_uri": "https://localhost:8080/"
        },
        "id": "qorzN6ZtUKHq",
        "outputId": "ebca30f9-07b3-4e92-ff75-42491a94de39"
      },
      "execution_count": 2,
      "outputs": [
        {
          "output_type": "stream",
          "name": "stdout",
          "text": [
            "[0.0, 1.0, 1.4142135623730951, 1.7320508075688772, 2.0, 2.23606797749979, 2.449489742783178, 2.6457513110645907]\n",
            "[0.0, 1.0, 2.0000000000000004, 2.9999999999999996, 4.0, 5.000000000000001, 5.999999999999999, 7.000000000000001]\n",
            "[0. 1. 3. 3. 4. 6. 6. 8.]\n",
            "[0. 1. 2. 3. 4. 5. 6. 7.]\n"
          ]
        }
      ]
    },
    {
      "cell_type": "code",
      "source": [
        "#slicing\n",
        "l = [i for i in range(17)]\n",
        "print(l)\n",
        "lm = l[0:15:2]\n",
        "print(lm)\n",
        "lmm = l[15:0:-2]\n",
        "print(lmm)\n",
        "\n",
        "\n",
        "#I beleive now you must've got it right know(i'm not sure about grammer here!)"
      ],
      "metadata": {
        "colab": {
          "base_uri": "https://localhost:8080/"
        },
        "id": "yACp4025VB6X",
        "outputId": "b5f881ee-29c0-4346-c55f-f91c22198127"
      },
      "execution_count": 3,
      "outputs": [
        {
          "output_type": "stream",
          "name": "stdout",
          "text": [
            "[0, 1, 2, 3, 4, 5, 6, 7, 8, 9, 10, 11, 12, 13, 14, 15, 16]\n",
            "[0, 2, 4, 6, 8, 10, 12, 14]\n",
            "[15, 13, 11, 9, 7, 5, 3, 1]\n"
          ]
        }
      ]
    },
    {
      "cell_type": "markdown",
      "source": [
        "# 2-Tuples"
      ],
      "metadata": {
        "id": "RmpZVhokXqoZ"
      }
    },
    {
      "cell_type": "code",
      "source": [
        "t = (1, 'alor', 6)\n",
        "print(t)"
      ],
      "metadata": {
        "colab": {
          "base_uri": "https://localhost:8080/"
        },
        "id": "YKKPpY4tJFpt",
        "outputId": "eef57eb2-474e-44e0-e957-a4a256007cb6"
      },
      "execution_count": 4,
      "outputs": [
        {
          "output_type": "stream",
          "name": "stdout",
          "text": [
            "(1, 'alor', 6)\n"
          ]
        }
      ]
    },
    {
      "cell_type": "code",
      "source": [
        "tu = 1,4,'hi'\n",
        "print(tu)\n",
        "# note: parentheses are optional in python, now ypu get sth like \"a, b = f(blah blah)\" =))"
      ],
      "metadata": {
        "colab": {
          "base_uri": "https://localhost:8080/"
        },
        "id": "JWbpGn6wJM8x",
        "outputId": "18adc705-b91d-42de-ee8d-a17dd25a4639"
      },
      "execution_count": 6,
      "outputs": [
        {
          "output_type": "stream",
          "name": "stdout",
          "text": [
            "(1, 4, 'hi')\n"
          ]
        }
      ]
    },
    {
      "cell_type": "code",
      "source": [
        "# slicing, indexing, if   in statement are mainly like what we had in the list"
      ],
      "metadata": {
        "id": "Xi4pBnndJUKk"
      },
      "execution_count": 7,
      "outputs": []
    },
    {
      "cell_type": "code",
      "source": [
        "i1, i2, i3 = ('q', 'u', 'p')\n",
        "print(i1)"
      ],
      "metadata": {
        "colab": {
          "base_uri": "https://localhost:8080/"
        },
        "id": "9-wEpqOjJ_m1",
        "outputId": "968bd368-8a82-484a-8782-061782e62130"
      },
      "execution_count": 8,
      "outputs": [
        {
          "output_type": "stream",
          "name": "stdout",
          "text": [
            "q\n"
          ]
        }
      ]
    },
    {
      "cell_type": "code",
      "source": [
        "#Wow\n",
        "i1, *i2, i3 = ('q', 'u','k','r', 'p')\n",
        "print(i2)\n",
        "i1, i2, *i3 = ('q', 'u','k','r', 'p')\n",
        "print(i3)"
      ],
      "metadata": {
        "colab": {
          "base_uri": "https://localhost:8080/"
        },
        "id": "gFuQhRLeKNK_",
        "outputId": "e8569e3b-11ef-446a-8da3-937b3504db25"
      },
      "execution_count": 10,
      "outputs": [
        {
          "output_type": "stream",
          "name": "stdout",
          "text": [
            "['u', 'k', 'r']\n",
            "['k', 'r', 'p']\n"
          ]
        }
      ]
    },
    {
      "cell_type": "code",
      "source": [
        "import sys\n",
        "print(sys.getsizeof(i3))\n",
        "print(sys.getsizeof(i1))\n",
        "#I beleive know you get what's sys for=)"
      ],
      "metadata": {
        "colab": {
          "base_uri": "https://localhost:8080/"
        },
        "id": "3o9V6cmLKZZ5",
        "outputId": "76a8b6a8-58d8-41bf-c0f0-591864dfa446"
      },
      "execution_count": 12,
      "outputs": [
        {
          "output_type": "stream",
          "name": "stdout",
          "text": [
            "120\n",
            "50\n"
          ]
        }
      ]
    },
    {
      "cell_type": "markdown",
      "source": [
        "# Dictionaries"
      ],
      "metadata": {
        "id": "BAB1RrLeK4a_"
      }
    },
    {
      "cell_type": "code",
      "source": [
        ""
      ],
      "metadata": {
        "id": "4n6KQn9iLKfT"
      },
      "execution_count": null,
      "outputs": []
    }
  ]
}